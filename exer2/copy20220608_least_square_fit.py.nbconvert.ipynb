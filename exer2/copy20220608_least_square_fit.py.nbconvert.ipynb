{
 "cells": [
  {
   "cell_type": "markdown",
   "id": "median-crack",
   "metadata": {},
   "source": [
    "# Least_Square_Fit\n",
    "\n",
    "\n",
    "\n",
    "\n",
    "**Author:** Lailin XU  \n",
    "<i><small>This notebook tutorial was automatically generated with <a href= \"https://github.com/root-project/root/blob/master/documentation/doxygen/converttonotebook.py\">ROOTBOOK-izer</a> from the macro found in the ROOT repository  on Thursday, April 22, 2021 at 10:55 PM.</small></i>"
   ]
  },
  {
   "cell_type": "markdown",
   "id": "floating-enemy",
   "metadata": {},
   "source": [
    "Import the ROOT libraries"
   ]
  },
  {
   "cell_type": "code",
   "execution_count": 2,
   "id": "congressional-communication",
   "metadata": {
    "execution": {
     "iopub.execute_input": "2021-04-22T14:55:13.296150Z",
     "iopub.status.busy": "2021-04-22T14:55:13.295467Z",
     "iopub.status.idle": "2021-04-22T14:55:14.688655Z",
     "shell.execute_reply": "2021-04-22T14:55:14.688867Z"
    }
   },
   "outputs": [],
   "source": [
    "import ROOT as R\n",
    "from math import pow, sqrt\n",
    "R.gROOT.SetStyle(\"ATLAS\")"
   ]
  },
  {
   "cell_type": "markdown",
   "id": "informed-component",
   "metadata": {},
   "source": [
    "Linear least square method"
   ]
  },
  {
   "cell_type": "code",
   "execution_count": 9,
   "id": "confused-sullivan",
   "metadata": {
    "execution": {
     "iopub.execute_input": "2021-04-22T14:55:14.694501Z",
     "iopub.status.busy": "2021-04-22T14:55:14.694172Z",
     "iopub.status.idle": "2021-04-22T14:55:14.801309Z",
     "shell.execute_reply": "2021-04-22T14:55:14.801675Z"
    }
   },
   "outputs": [],
   "source": [
    "def lls(l_x=[], l_y=[], l_ye=[],):#here 'l' means list!---\n",
    "  \"\"\"\n",
    "  A simple linear regression, y=m*x+b\n",
    "  \"\"\"\n",
    "  sum_1, sum_x, sum_x2 = 0, 0, 0\n",
    "  sum_xy, sum_y, sum_y2 = 0, 0, 0\n",
    "  \n",
    "  for i in range(len(l_x)):\n",
    "    ye = l_ye[i]\n",
    "    x = l_x[i]\n",
    "    y = l_y[i]\n",
    "    if ye == 0: continue # ignore empty bins\n",
    "    sum_1 += pow(ye, -2)\n",
    "    sum_x += x*pow(ye, -2)\n",
    "    sum_y += y*pow(ye, -2)\n",
    "    sum_x2 += pow(x/ye, 2)\n",
    "    sum_xy += x*y*pow(ye, -2)\n",
    "    sum_y2 += pow(y/ye, 2)\n",
    "\n",
    "  #From szhang (Jun 6, 2022), the following formulas are from P126, P127 of Louis---\n",
    "  m = (sum_1 * sum_xy - sum_x * sum_y) / (sum_1 * sum_x2 - pow(sum_x, 2))\n",
    "  b = (sum_y * sum_x2 - sum_x * sum_xy) / (sum_1 * sum_x2 - pow(sum_x, 2))\n",
    "\n",
    "  # Error\n",
    "  #From szhang (Jun 8, 2022), from eq.(5.10) of Louis---\n",
    "  #(szhang; Jun 8, 2022): n is omitted? Above expression of [f] also omitted n, offset, the followings are correct---\n",
    "  v_m = sum_1 / (sum_1 * sum_x2 - pow(sum_x, 2))\n",
    "  v_b = sum_x2 / (sum_1 * sum_x2 - pow(sum_x, 2))\n",
    "  corr_mb0 = - sum_x / sqrt(sum_1 * sum_x2)#What is mb0????????????????????????????????????\n",
    "\n",
    "  # Error matrix\n",
    "  #(szhang; Jun 8, 2022): n is omitted? Above expression of [f] also omitted n, offset, the followings are correct---\n",
    "  mat = R.TMatrixD(2,2)\n",
    "  R.TMatrixDRow(mat, 0)[0] = sum_x2\n",
    "  R.TMatrixDRow(mat, 0)[1] = sum_x\n",
    "  R.TMatrixDRow(mat, 1)[0] = sum_x\n",
    "  R.TMatrixDRow(mat, 1)[1] = sum_1\n",
    "  mat_inv = mat.Invert()\n",
    "  e_m = sqrt(R.TMatrixDRow(mat_inv, 0)(0)) \n",
    "  e_b = sqrt(R.TMatrixDRow(mat_inv, 1)(1)) \n",
    "  corr_mb = (R.TMatrixDRow(mat_inv, 0)(1)) / (e_m*e_b)#Whys should we divide by (e_m*e_b)????????????????????????????????? \n",
    "\n",
    "  # Chi-square of the fit\n",
    "  chi2 = 0\n",
    "  for i in range(len(l_x)):\n",
    "    ye = l_ye[i]\n",
    "    x = l_x[i]\n",
    "    y_obs = l_y[i]\n",
    "    y_pre = m*x + b\n",
    "    chi2 += pow( (y_pre - y_obs)/ye, 2)\n",
    "\n",
    "  print(sqrt(v_m), e_m, sqrt(v_b), e_b, corr_mb0, corr_mb)\n",
    "  return [m, e_m, b, e_b, corr_mb, chi2]"
   ]
  },
  {
   "cell_type": "markdown",
   "id": "labeled-launch",
   "metadata": {},
   "source": [
    "Input data"
   ]
  },
  {
   "cell_type": "code",
   "execution_count": 17,
   "id": "offshore-operator",
   "metadata": {
    "execution": {
     "iopub.execute_input": "2021-04-22T14:55:14.805396Z",
     "iopub.status.busy": "2021-04-22T14:55:14.804874Z",
     "iopub.status.idle": "2021-04-22T14:55:14.915142Z",
     "shell.execute_reply": "2021-04-22T14:55:14.915862Z"
    }
   },
   "outputs": [],
   "source": [
    "l_x, l_y, l_ye=[], [], []\n",
    "l_x = [0, 1, 2, 3, 4]\n",
    "l_y = [5., 7., 11., 12., 14.]\n",
    "l_ye = [0.1, 0.2, 0.1, 0.2, 0.1]\n",
    "nbins = len(l_x)"
   ]
  },
  {
   "cell_type": "code",
   "execution_count": 21,
   "id": "67bcc8c0",
   "metadata": {},
   "outputs": [
    {
     "name": "stdout",
     "output_type": "stream",
     "text": [
      "0.034299717028501764 0.034299717028501764 0.08696565534786725 0.08696565534786725 -0.7888106377466154 -0.7888106377466154\n"
     ]
    }
   ],
   "source": [
    "#New unit by szhang, Jun 8, 2022---\n",
    "#to print the result of m b as well as the error---\n",
    "[est_m, est_err_m, est_b, est_err_b, est_corr_mb, chi2] = lls(l_x, l_y, l_ye)\n"
   ]
  },
  {
   "cell_type": "markdown",
   "id": "desperate-emperor",
   "metadata": {},
   "source": [
    "Vanilla least square fit\n",
    "================="
   ]
  },
  {
   "cell_type": "markdown",
   "id": "minus-edition",
   "metadata": {},
   "source": [
    "Fill a histogram"
   ]
  },
  {
   "cell_type": "code",
   "execution_count": 12,
   "id": "aware-saskatchewan",
   "metadata": {
    "execution": {
     "iopub.execute_input": "2021-04-22T14:55:15.000164Z",
     "iopub.status.busy": "2021-04-22T14:55:14.999700Z",
     "iopub.status.idle": "2021-04-22T14:55:15.107018Z",
     "shell.execute_reply": "2021-04-22T14:55:15.107459Z"
    }
   },
   "outputs": [
    {
     "name": "stderr",
     "output_type": "stream",
     "text": [
      "Warning in <TROOT::Append>: Replacing existing TH1: test_data (Potential memory leak).\n"
     ]
    }
   ],
   "source": [
    "bin0, bin1=-0.5, 4.5\n",
    "\n",
    "hname = \"test_data\"\n",
    "hd = R.TH1F(hname, hname, nbins, bin0, bin1)\n",
    "hd.Sumw2()\n",
    "hd.GetXaxis().SetTitle(\"x\")\n",
    "hd.GetYaxis().SetTitle(\"y\")\n",
    "\n",
    "for i in range(nbins):\n",
    "  hd.SetBinContent(i+1, l_y[i])\n",
    "  hd.SetBinError(i+1, l_ye[i])"
   ]
  },
  {
   "cell_type": "markdown",
   "id": "strange-aggregate",
   "metadata": {},
   "source": [
    "Least square fit"
   ]
  },
  {
   "cell_type": "code",
   "execution_count": 13,
   "id": "twelve-bunch",
   "metadata": {
    "execution": {
     "iopub.execute_input": "2021-04-22T14:55:15.157869Z",
     "iopub.status.busy": "2021-04-22T14:55:15.157459Z",
     "iopub.status.idle": "2021-04-22T14:55:15.264755Z",
     "shell.execute_reply": "2021-04-22T14:55:15.265273Z"
    }
   },
   "outputs": [
    {
     "name": "stdout",
     "output_type": "stream",
     "text": [
      "0.034299717028501764 0.034299717028501764 0.08696565534786725 0.08696565534786725 -0.7888106377466154 -0.7888106377466154\n",
      "\n",
      "Input [x]: [0, 1, 2, 3, 4]\n",
      "Input [y]: [5.0, 7.0, 11.0, 12.0, 14.0]\n",
      "Input [y_err]: [0.1, 0.2, 0.1, 0.2, 0.1]\n",
      "Estimated m (p1): 2.2647058823529407 +/- 0.034299717028501764\n",
      "Estimated b (p0): 5.399159663865545 +/- 0.08696565534786725\n",
      "Estimated correlation (m, b): -0.7888106377466154\n",
      "\n",
      "\n"
     ]
    }
   ],
   "source": [
    "[est_m, est_err_m, est_b, est_err_b, est_corr_mb, chi2] = lls(l_x, l_y, l_ye)\n",
    "print(\"\\nInput [x]:\", l_x)\n",
    "print(\"Input [y]:\", l_y)\n",
    "print(\"Input [y_err]:\", l_ye)\n",
    "print(\"Estimated m (p1): {0} +/- {1}\".format(est_m, est_err_m))\n",
    "print(\"Estimated b (p0): {0} +/- {1}\".format(est_b, est_err_b))\n",
    "print(\"Estimated correlation (m, b): {0}\\n\\n\".format(est_corr_mb))\n",
    "est_m1 = est_m\n",
    "est_b1 = est_b"
   ]
  },
  {
   "cell_type": "markdown",
   "id": "domestic-dover",
   "metadata": {},
   "source": [
    "Goodness of fit\n",
    "Number of degrees of freedom (dof): # of data points - # of parameters calculated from the data points"
   ]
  },
  {
   "cell_type": "code",
   "execution_count": 8,
   "id": "romantic-massage",
   "metadata": {
    "execution": {
     "iopub.execute_input": "2021-04-22T14:55:15.269054Z",
     "iopub.status.busy": "2021-04-22T14:55:15.268492Z",
     "iopub.status.idle": "2021-04-22T14:55:15.378921Z",
     "shell.execute_reply": "2021-04-22T14:55:15.379551Z"
    }
   },
   "outputs": [],
   "source": [
    "ndof = len(l_x)-2\n",
    "chindodf = 0\n",
    "if ndof >1: chindodf = chi2 / float(ndof)"
   ]
  },
  {
   "cell_type": "markdown",
   "id": "featured-riverside",
   "metadata": {},
   "source": [
    "P-value"
   ]
  },
  {
   "cell_type": "code",
   "execution_count": 9,
   "id": "tender-ghost",
   "metadata": {
    "execution": {
     "iopub.execute_input": "2021-04-22T14:55:15.428065Z",
     "iopub.status.busy": "2021-04-22T14:55:15.427614Z",
     "iopub.status.idle": "2021-04-22T14:55:15.538048Z",
     "shell.execute_reply": "2021-04-22T14:55:15.538644Z"
    }
   },
   "outputs": [
    {
     "name": "stdout",
     "output_type": "stream",
     "text": [
      "Chi2= 163.65546218487376, n.dof= 3, p-value= 1.5140231137070554e-13, 2.9799092682381677e-35\n"
     ]
    }
   ],
   "source": [
    "p = R.Math.chisquared_cdf_c(chindodf, 1.)\n",
    "p2 = R.Math.chisquared_cdf_c(chi2, ndof)\n",
    "print(\"Chi2= {0}, n.dof= {1}, p-value= {2}, {3}\".format(chi2, ndof, p, p2))"
   ]
  },
  {
   "cell_type": "markdown",
   "id": "israeli-birthday",
   "metadata": {},
   "source": [
    "Plotting"
   ]
  },
  {
   "cell_type": "code",
   "execution_count": 10,
   "id": "medium-guarantee",
   "metadata": {
    "execution": {
     "iopub.execute_input": "2021-04-22T14:55:15.596343Z",
     "iopub.status.busy": "2021-04-22T14:55:15.595758Z",
     "iopub.status.idle": "2021-04-22T14:55:15.801766Z",
     "shell.execute_reply": "2021-04-22T14:55:15.802034Z"
    }
   },
   "outputs": [
    {
     "data": {
      "image/png": "[encoded data removed]",
      "text/plain": [
       "<IPython.core.display.Image object>"
      ]
     },
     "metadata": {},
     "output_type": "display_data"
    }
   ],
   "source": [
    "myc = R.TCanvas(\"c\", \"c\", 800, 600)\n",
    "myc.SetFillColor(0)\n",
    "\n",
    "myc.cd()\n",
    "hd.Draw()\n",
    "myc.Draw()"
   ]
  },
  {
   "cell_type": "markdown",
   "id": "buried-trick",
   "metadata": {},
   "source": [
    "Do a fitting. By default ROOT uses Chi-square fit"
   ]
  },
  {
   "cell_type": "code",
   "execution_count": 11,
   "id": "alert-mobility",
   "metadata": {
    "execution": {
     "iopub.execute_input": "2021-04-22T14:55:15.884054Z",
     "iopub.status.busy": "2021-04-22T14:55:15.883673Z",
     "iopub.status.idle": "2021-04-22T14:55:16.019383Z",
     "shell.execute_reply": "2021-04-22T14:55:16.019723Z"
    }
   },
   "outputs": [
    {
     "name": "stdout",
     "output_type": "stream",
     "text": [
      "\n",
      "ROOT TF1 Chi2= 163.65546218487404\n",
      "\n",
      "****************************************\n",
      "Minimizer is Linear / Migrad\n",
      "Chi2                      =      163.655\n",
      "NDf                       =            3\n",
      "p0                        =      5.39916   +/-   0.0869657   \n",
      "p1                        =      2.26471   +/-   0.0342997   \n",
      "\n",
      "****************************************\n",
      "Minimizer is Linear / Migrad\n",
      "Chi2                      =      163.655\n",
      "NDf                       =            3\n",
      "p0                        =      5.39916   +/-   0.0869657   \n",
      "p1                        =      2.26471   +/-   0.0342997   \n",
      "\n",
      "Covariance Matrix:\n",
      "\n",
      "            \t          p0          p1\n",
      "p0          \t    0.007563  -0.0023529\n",
      "p1          \t  -0.0023529   0.0011765\n",
      "\n",
      "Correlation Matrix:\n",
      "\n",
      "            \t          p0          p1\n",
      "p0          \t           1    -0.78881\n",
      "p1          \t    -0.78881           1\n"
     ]
    },
    {
     "name": "stderr",
     "output_type": "stream",
     "text": [
      "Info in <TCanvas::Print>: png file exer2_fitting_1.png has been created\n"
     ]
    },
    {
     "data": {
      "image/png": "[encoded data removed]",
      "text/plain": [
       "<IPython.core.display.Image object>"
      ]
     },
     "metadata": {},
     "output_type": "display_data"
    }
   ],
   "source": [
    "my1 = R.TF1(\"myFunc1\", \"pol1\", bin0, bin1)\n",
    "my1.SetLineColor(2)\n",
    "\n",
    "frp1 = hd.Fit(\"myFunc1\", \"S\")\n",
    "frp1.Print(\"V\")\n",
    "\n",
    "fchi2 = frp1.Chi2()\n",
    "print(\"\\nROOT TF1 Chi2= {0}\".format(fchi2))\n",
    "\n",
    "myc.Update()\n",
    "myc.Draw()\n",
    "myc.SaveAs(\"exer2_fitting_1.png\")"
   ]
  },
  {
   "cell_type": "markdown",
   "id": "cubic-remark",
   "metadata": {},
   "source": [
    "Inflat the measured error by a factor of 10\n",
    "================="
   ]
  },
  {
   "cell_type": "code",
   "execution_count": 12,
   "id": "musical-tribe",
   "metadata": {
    "execution": {
     "iopub.execute_input": "2021-04-22T14:55:16.023365Z",
     "iopub.status.busy": "2021-04-22T14:55:16.022966Z",
     "iopub.status.idle": "2021-04-22T14:55:16.130565Z",
     "shell.execute_reply": "2021-04-22T14:55:16.131086Z"
    }
   },
   "outputs": [],
   "source": [
    "l_ye_2 = []\n",
    "for i, e in enumerate(l_ye):\n",
    "  l_ye_2.append(e*10.)\n",
    "\n",
    "hname = \"test_data_2\"\n",
    "hd2 = R.TH1F(hname, hname, nbins, bin0, bin1)\n",
    "hd2.Sumw2()\n",
    "hd2.GetXaxis().SetTitle(\"x\")\n",
    "hd2.GetYaxis().SetTitle(\"y\")\n",
    "\n",
    "for i in range(nbins):\n",
    "  hd2.SetBinContent(i+1, l_y[i])\n",
    "  hd2.SetBinError(i+1, l_ye_2[i])"
   ]
  },
  {
   "cell_type": "markdown",
   "id": "incorporate-intro",
   "metadata": {},
   "source": [
    "Least square fit"
   ]
  },
  {
   "cell_type": "code",
   "execution_count": 11,
   "id": "taken-course",
   "metadata": {
    "execution": {
     "iopub.execute_input": "2021-04-22T14:55:16.137024Z",
     "iopub.status.busy": "2021-04-22T14:55:16.136366Z",
     "iopub.status.idle": "2021-04-22T14:55:16.248630Z",
     "shell.execute_reply": "2021-04-22T14:55:16.247665Z"
    }
   },
   "outputs": [
    {
     "name": "stdout",
     "output_type": "stream",
     "text": [
      "0.3429971702850177 0.34299717028501775 0.8696565534786727 0.8696565534786728 -0.7888106377466154 -0.7888106377466156\n",
      "\n",
      "Input [x]: [0, 1, 2, 3, 4]\n",
      "Input [y]: [5.0, 7.0, 11.0, 12.0, 14.0]\n",
      "Input [y_err]: [1.0, 2.0, 1.0, 2.0, 1.0]\n",
      "Estimated m (p1): 2.264705882352941 +/- 0.34299717028501775\n",
      "Estimated b (p0): 5.399159663865547 +/- 0.8696565534786728\n",
      "Estimated correlation (m, b): -0.7888106377466156\n",
      "\n",
      "\n"
     ]
    }
   ],
   "source": [
    "[est_m, est_err_m, est_b, est_err_b, est_corr_mb, chi2] = lls(l_x, l_y, l_ye_2)\n",
    "print(\"\\nInput [x]:\", l_x)\n",
    "print(\"Input [y]:\", l_y)\n",
    "print(\"Input [y_err]:\", l_ye_2)\n",
    "print(\"Estimated m (p1): {0} +/- {1}\".format(est_m, est_err_m))\n",
    "print(\"Estimated b (p0): {0} +/- {1}\".format(est_b, est_err_b))\n",
    "print(\"Estimated correlation (m, b): {0}\\n\\n\".format(est_corr_mb))"
   ]
  },
  {
   "cell_type": "markdown",
   "id": "young-certificate",
   "metadata": {},
   "source": [
    "Goodness of fit\n",
    "Number of degrees of freedom (dof): # of data points - # of parameters calculated from the data points"
   ]
  },
  {
   "cell_type": "code",
   "execution_count": 12,
   "id": "complimentary-sampling",
   "metadata": {
    "execution": {
     "iopub.execute_input": "2021-04-22T14:55:16.254185Z",
     "iopub.status.busy": "2021-04-22T14:55:16.253471Z",
     "iopub.status.idle": "2021-04-22T14:55:16.363935Z",
     "shell.execute_reply": "2021-04-22T14:55:16.364548Z"
    }
   },
   "outputs": [],
   "source": [
    "ndof = len(l_x)-2\n",
    "chindodf = 0\n",
    "if ndof >1: chindodf = chi2 / float(ndof)"
   ]
  },
  {
   "cell_type": "markdown",
   "id": "macro-slide",
   "metadata": {},
   "source": [
    "P-value"
   ]
  },
  {
   "cell_type": "code",
   "execution_count": 13,
   "id": "funky-newport",
   "metadata": {
    "execution": {
     "iopub.execute_input": "2021-04-22T14:55:16.374056Z",
     "iopub.status.busy": "2021-04-22T14:55:16.373352Z",
     "iopub.status.idle": "2021-04-22T14:55:16.483799Z",
     "shell.execute_reply": "2021-04-22T14:55:16.484372Z"
    }
   },
   "outputs": [
    {
     "name": "stdout",
     "output_type": "stream",
     "text": [
      "Chi2= 1.6365546218487392, n.dof= 3, p-value= 0.4601547568507153, 0.6511299985105288\n"
     ]
    }
   ],
   "source": [
    "p = R.Math.chisquared_cdf_c(chindodf, 1.)\n",
    "p2 = R.Math.chisquared_cdf_c(chi2, ndof)\n",
    "print(\"Chi2= {0}, n.dof= {1}, p-value= {2}, {3}\".format(chi2, ndof, p, p2))"
   ]
  },
  {
   "cell_type": "markdown",
   "id": "experimental-engineering",
   "metadata": {},
   "source": [
    "Plotting"
   ]
  },
  {
   "cell_type": "code",
   "execution_count": 14,
   "id": "successful-korea",
   "metadata": {
    "execution": {
     "iopub.execute_input": "2021-04-22T14:55:16.490005Z",
     "iopub.status.busy": "2021-04-22T14:55:16.489267Z",
     "iopub.status.idle": "2021-04-22T14:55:16.638350Z",
     "shell.execute_reply": "2021-04-22T14:55:16.638699Z"
    }
   },
   "outputs": [
    {
     "data": {
      "image/png": "[encoded data removed]",
      "text/plain": [
       "<IPython.core.display.Image object>"
      ]
     },
     "metadata": {},
     "output_type": "display_data"
    }
   ],
   "source": [
    "myc.cd()\n",
    "hd2.Draw()\n",
    "myc.Draw()"
   ]
  },
  {
   "cell_type": "markdown",
   "id": "caroline-nelson",
   "metadata": {},
   "source": [
    "Fitting with ROOT"
   ]
  },
  {
   "cell_type": "code",
   "execution_count": 15,
   "id": "individual-arabic",
   "metadata": {
    "execution": {
     "iopub.execute_input": "2021-04-22T14:55:16.667268Z",
     "iopub.status.busy": "2021-04-22T14:55:16.666878Z",
     "iopub.status.idle": "2021-04-22T14:55:16.805524Z",
     "shell.execute_reply": "2021-04-22T14:55:16.805815Z"
    }
   },
   "outputs": [
    {
     "name": "stdout",
     "output_type": "stream",
     "text": [
      "\n",
      "ROOT TF1 Chi2= 1.6365546218487421\n",
      "\n",
      "****************************************\n",
      "Minimizer is Linear / Migrad\n",
      "Chi2                      =      1.63655\n",
      "NDf                       =            3\n",
      "p0                        =      5.39916   +/-   0.869657    \n",
      "p1                        =      2.26471   +/-   0.342997    \n",
      "\n",
      "****************************************\n",
      "Minimizer is Linear / Migrad\n",
      "Chi2                      =      1.63655\n",
      "NDf                       =            3\n",
      "p0                        =      5.39916   +/-   0.869657    \n",
      "p1                        =      2.26471   +/-   0.342997    \n",
      "\n",
      "Covariance Matrix:\n",
      "\n",
      "            \t          p0          p1\n",
      "p0          \t      0.7563    -0.23529\n",
      "p1          \t    -0.23529     0.11765\n",
      "\n",
      "Correlation Matrix:\n",
      "\n",
      "            \t          p0          p1\n",
      "p0          \t           1    -0.78881\n",
      "p1          \t    -0.78881           1\n"
     ]
    },
    {
     "name": "stderr",
     "output_type": "stream",
     "text": [
      "Info in <TCanvas::Print>: png file exer2_fitting_2.png has been created\n"
     ]
    },
    {
     "data": {
      "image/png": "[encoded data removed]",
      "text/plain": [
       "<IPython.core.display.Image object>"
      ]
     },
     "metadata": {},
     "output_type": "display_data"
    }
   ],
   "source": [
    "my2 = R.TF1(\"myFunc2\", \"pol1\", bin0, bin1)\n",
    "my2.SetLineColor(4)\n",
    "\n",
    "frp2 = hd2.Fit(\"myFunc2\", \"S\")\n",
    "frp2.Print(\"V\")\n",
    "\n",
    "fchi2 = frp2.Chi2()\n",
    "print(\"\\nROOT TF1 Chi2= {0}\".format(fchi2))\n",
    "\n",
    "myc.Update()\n",
    "myc.Draw()\n",
    "myc.SaveAs(\"exer2_fitting_2.png\")"
   ]
  },
  {
   "cell_type": "markdown",
   "id": "efficient-cleaning",
   "metadata": {},
   "source": [
    "Use the \"deviation from the fit\" to quote the errors\n",
    "=================\n",
    "You can also consider the method mentioned in the text book (Lyons): Comment (vii), page 132\n",
    "Note that the code below is something different ..."
   ]
  },
  {
   "cell_type": "code",
   "execution_count": 16,
   "id": "charitable-advancement",
   "metadata": {
    "execution": {
     "iopub.execute_input": "2021-04-22T14:55:16.809981Z",
     "iopub.status.busy": "2021-04-22T14:55:16.809570Z",
     "iopub.status.idle": "2021-04-22T14:55:16.917699Z",
     "shell.execute_reply": "2021-04-22T14:55:16.918261Z"
    }
   },
   "outputs": [],
   "source": [
    "l_ye_3 = []\n",
    "for i, e in enumerate(l_ye):\n",
    "  y_pre = est_m1*l_x[i] + est_b1\n",
    "  l_ye_3.append(l_y[i] - y_pre)\n",
    "\n",
    "hname = \"test_data_3\"\n",
    "hd3 = R.TH1F(hname, hname, nbins, bin0, bin1)\n",
    "hd3.Sumw2()\n",
    "hd3.GetXaxis().SetTitle(\"x\")\n",
    "hd3.GetYaxis().SetTitle(\"y\")\n",
    "\n",
    "for i in range(nbins):\n",
    "  hd3.SetBinContent(i+1, l_y[i])\n",
    "  hd3.SetBinError(i+1, l_ye_3[i])"
   ]
  },
  {
   "cell_type": "markdown",
   "id": "quiet-greek",
   "metadata": {},
   "source": [
    "Least square fit"
   ]
  },
  {
   "cell_type": "code",
   "execution_count": 17,
   "id": "rolled-headset",
   "metadata": {
    "execution": {
     "iopub.execute_input": "2021-04-22T14:55:16.924264Z",
     "iopub.status.busy": "2021-04-22T14:55:16.923574Z",
     "iopub.status.idle": "2021-04-22T14:55:17.035413Z",
     "shell.execute_reply": "2021-04-22T14:55:17.036051Z"
    }
   },
   "outputs": [
    {
     "name": "stdout",
     "output_type": "stream",
     "text": [
      "0.3429971702850177 0.34299717028501775 0.8696565534786727 0.8696565534786728 -0.7888106377466154 -0.7888106377466156\n",
      "\n",
      "Input [x]: [0, 1, 2, 3, 4]\n",
      "Input [y]: [5.0, 7.0, 11.0, 12.0, 14.0]\n",
      "Input [y_err]: [-0.3991596638655448, -0.663865546218485, 1.071428571428573, -0.19327731092436728, -0.4579831932773075]\n",
      "Estimated m (p1): 2.264705882352941 +/- 0.34299717028501775\n",
      "Estimated b (p0): 5.399159663865547 +/- 0.8696565534786728\n",
      "Estimated correlation (m, b): -0.7888106377466156\n",
      "\n",
      "\n"
     ]
    }
   ],
   "source": [
    "[est_m, est_err_m, est_b, est_err_b, est_corr_mb, chi2] = lls(l_x, l_y, l_ye_2)\n",
    "print(\"\\nInput [x]:\", l_x)\n",
    "print(\"Input [y]:\", l_y)\n",
    "print(\"Input [y_err]:\", l_ye_3)\n",
    "print(\"Estimated m (p1): {0} +/- {1}\".format(est_m, est_err_m))\n",
    "print(\"Estimated b (p0): {0} +/- {1}\".format(est_b, est_err_b))\n",
    "print(\"Estimated correlation (m, b): {0}\\n\\n\".format(est_corr_mb))"
   ]
  },
  {
   "cell_type": "markdown",
   "id": "obvious-saying",
   "metadata": {},
   "source": [
    "Goodness of fit\n",
    "Number of degrees of freedom (dof): # of data points - # of parameters calculated from the data points"
   ]
  },
  {
   "cell_type": "code",
   "execution_count": 18,
   "id": "flush-basics",
   "metadata": {
    "execution": {
     "iopub.execute_input": "2021-04-22T14:55:17.041810Z",
     "iopub.status.busy": "2021-04-22T14:55:17.041123Z",
     "iopub.status.idle": "2021-04-22T14:55:17.151414Z",
     "shell.execute_reply": "2021-04-22T14:55:17.152068Z"
    }
   },
   "outputs": [],
   "source": [
    "ndof = len(l_x)-2\n",
    "chindodf = 0\n",
    "if ndof >1: chindodf = chi2 / float(ndof)"
   ]
  },
  {
   "cell_type": "markdown",
   "id": "arabic-birmingham",
   "metadata": {},
   "source": [
    "P-value"
   ]
  },
  {
   "cell_type": "code",
   "execution_count": 19,
   "id": "indonesian-seeker",
   "metadata": {
    "execution": {
     "iopub.execute_input": "2021-04-22T14:55:17.158903Z",
     "iopub.status.busy": "2021-04-22T14:55:17.158226Z",
     "iopub.status.idle": "2021-04-22T14:55:17.268859Z",
     "shell.execute_reply": "2021-04-22T14:55:17.269537Z"
    }
   },
   "outputs": [
    {
     "name": "stdout",
     "output_type": "stream",
     "text": [
      "Chi2= 1.6365546218487392, n.dof= 3, p-value= 0.4601547568507153, 0.6511299985105288\n"
     ]
    }
   ],
   "source": [
    "p = R.Math.chisquared_cdf_c(chindodf, 1.)\n",
    "p2 = R.Math.chisquared_cdf_c(chi2, ndof)\n",
    "print(\"Chi2= {0}, n.dof= {1}, p-value= {2}, {3}\".format(chi2, ndof, p, p2))"
   ]
  },
  {
   "cell_type": "markdown",
   "id": "future-strengthening",
   "metadata": {},
   "source": [
    "Plotting"
   ]
  },
  {
   "cell_type": "code",
   "execution_count": 20,
   "id": "psychological-lambda",
   "metadata": {
    "execution": {
     "iopub.execute_input": "2021-04-22T14:55:17.275413Z",
     "iopub.status.busy": "2021-04-22T14:55:17.274706Z",
     "iopub.status.idle": "2021-04-22T14:55:17.422908Z",
     "shell.execute_reply": "2021-04-22T14:55:17.423325Z"
    }
   },
   "outputs": [
    {
     "data": {
      "image/png": "[encoded data removed]",
      "text/plain": [
       "<IPython.core.display.Image object>"
      ]
     },
     "metadata": {},
     "output_type": "display_data"
    }
   ],
   "source": [
    "myc.cd()\n",
    "hd3.Draw()\n",
    "myc.Draw()"
   ]
  },
  {
   "cell_type": "markdown",
   "id": "fixed-edwards",
   "metadata": {},
   "source": [
    "Fitting with ROOT"
   ]
  },
  {
   "cell_type": "code",
   "execution_count": 21,
   "id": "classical-divorce",
   "metadata": {
    "execution": {
     "iopub.execute_input": "2021-04-22T14:55:17.454830Z",
     "iopub.status.busy": "2021-04-22T14:55:17.431894Z",
     "iopub.status.idle": "2021-04-22T14:55:17.594529Z",
     "shell.execute_reply": "2021-04-22T14:55:17.594835Z"
    }
   },
   "outputs": [
    {
     "name": "stdout",
     "output_type": "stream",
     "text": [
      "\n",
      "ROOT TF1 Chi2= 2.2438973155544204\n",
      "\n",
      "****************************************\n",
      "Minimizer is Linear / Migrad\n",
      "Chi2                      =       2.2439\n",
      "NDf                       =            3\n",
      "p0                        =      5.04448   +/-   0.356801    \n",
      "p1                        =      2.30426   +/-   0.127057    \n",
      "\n",
      "****************************************\n",
      "Minimizer is Linear / Migrad\n",
      "Chi2                      =       2.2439\n",
      "NDf                       =            3\n",
      "p0                        =      5.04448   +/-   0.356801    \n",
      "p1                        =      2.30426   +/-   0.127057    \n",
      "\n",
      "Covariance Matrix:\n",
      "\n",
      "            \t          p0          p1\n",
      "p0          \t     0.12731   -0.040755\n",
      "p1          \t   -0.040755    0.016143\n",
      "\n",
      "Correlation Matrix:\n",
      "\n",
      "            \t          p0          p1\n",
      "p0          \t           1      -0.899\n",
      "p1          \t      -0.899           1\n"
     ]
    },
    {
     "name": "stderr",
     "output_type": "stream",
     "text": [
      "Info in <TCanvas::Print>: png file exer2_fitting_3.png has been created\n"
     ]
    },
    {
     "data": {
      "image/png": "[encoded data removed]",
      "text/plain": [
       "<IPython.core.display.Image object>"
      ]
     },
     "metadata": {},
     "output_type": "display_data"
    }
   ],
   "source": [
    "my3 = R.TF1(\"myFunc3\", \"pol1\", bin0, bin1)\n",
    "my3.SetLineColor(R.kMagenta)\n",
    "my2.Draw(\"same\")\n",
    "\n",
    "frp3 = hd3.Fit(\"myFunc3\", \"S\")\n",
    "frp3.Print(\"V\")\n",
    "\n",
    "fchi2 = frp3.Chi2()\n",
    "print(\"\\nROOT TF1 Chi2= {0}\".format(fchi2))\n",
    "\n",
    "myc.Update()\n",
    "myc.Draw()\n",
    "myc.SaveAs(\"exer2_fitting_3.png\")"
   ]
  },
  {
   "cell_type": "markdown",
   "id": "about-superintendent",
   "metadata": {},
   "source": [
    "Hypo test\n",
    "===============\n",
    "How probable is the fit of the line y=2x+5 to the data for the case where the errors are inflated by 10\n",
    "Chi-square of the fit"
   ]
  },
  {
   "cell_type": "code",
   "execution_count": 22,
   "id": "actual-reminder",
   "metadata": {
    "execution": {
     "iopub.execute_input": "2021-04-22T14:55:17.598407Z",
     "iopub.status.busy": "2021-04-22T14:55:17.597987Z",
     "iopub.status.idle": "2021-04-22T14:55:17.705574Z",
     "shell.execute_reply": "2021-04-22T14:55:17.706067Z"
    }
   },
   "outputs": [],
   "source": [
    "chi2 = 0\n",
    "for i in range(len(l_x)):\n",
    "  ye = l_ye[i]*10.\n",
    "  x = l_x[i]\n",
    "  y_obs = l_y[i]\n",
    "  y_pre = 2*x + 5\n",
    "  chi2 += pow( (y_pre - y_obs)/ye, 2)\n",
    "\n",
    "ndof = len(l_x)\n",
    "chindodf = 0\n",
    "if ndof >1: chindodf = chi2 / float(ndof)"
   ]
  },
  {
   "cell_type": "markdown",
   "id": "usual-wells",
   "metadata": {},
   "source": [
    "P-value"
   ]
  },
  {
   "cell_type": "code",
   "execution_count": 23,
   "id": "bored-company",
   "metadata": {
    "execution": {
     "iopub.execute_input": "2021-04-22T14:55:17.713991Z",
     "iopub.status.busy": "2021-04-22T14:55:17.713311Z",
     "iopub.status.idle": "2021-04-22T14:55:17.824300Z",
     "shell.execute_reply": "2021-04-22T14:55:17.824895Z"
    }
   },
   "outputs": [
    {
     "name": "stdout",
     "output_type": "stream",
     "text": [
      "Chi2= 5.25, n.dof= 5, p-value= 0.3055070868612537, 0.3861379243372884\n"
     ]
    }
   ],
   "source": [
    "p = R.Math.chisquared_cdf_c(chindodf, 1.)\n",
    "p2 = R.Math.chisquared_cdf_c(chi2, ndof)\n",
    "print(\"Chi2= {0}, n.dof= {1}, p-value= {2}, {3}\".format(chi2, ndof, p, p2))"
   ]
  },
  {
   "cell_type": "markdown",
   "id": "legislative-presence",
   "metadata": {},
   "source": [
    "Plotting"
   ]
  },
  {
   "cell_type": "code",
   "execution_count": 24,
   "id": "backed-default",
   "metadata": {
    "execution": {
     "iopub.execute_input": "2021-04-22T14:55:17.871796Z",
     "iopub.status.busy": "2021-04-22T14:55:17.871369Z",
     "iopub.status.idle": "2021-04-22T14:55:17.980492Z",
     "shell.execute_reply": "2021-04-22T14:55:17.981084Z"
    }
   },
   "outputs": [
    {
     "name": "stdout",
     "output_type": "stream",
     "text": [
      "Chi2= 5.25\n"
     ]
    },
    {
     "name": "stderr",
     "output_type": "stream",
     "text": [
      "Info in <TCanvas::Print>: png file exer2_fitting_4.png has been created\n"
     ]
    }
   ],
   "source": [
    "my4 = R.TF1(\"myFunc4\", \"pol1\", bin0, bin1)\n",
    "my4.SetParameter(0, 5)\n",
    "my4.SetParameter(1, 2)\n",
    "my4.SetLineColor(R.kGreen)\n",
    "chi2_4 = hd2.Chisquare(my4, \"R\")\n",
    "print(\"Chi2= {0}\".format(chi2_4))\n",
    "\n",
    "myc.Update()\n",
    "my4.Draw(\"same\")\n",
    "myc.SaveAs(\"exer2_fitting_4.png\")"
   ]
  },
  {
   "cell_type": "markdown",
   "id": "undefined-creature",
   "metadata": {},
   "source": [
    "Draw all canvases "
   ]
  },
  {
   "cell_type": "code",
   "execution_count": 25,
   "id": "competent-checkout",
   "metadata": {
    "execution": {
     "iopub.execute_input": "2021-04-22T14:55:17.991785Z",
     "iopub.status.busy": "2021-04-22T14:55:17.991174Z",
     "iopub.status.idle": "2021-04-22T14:55:18.140777Z",
     "shell.execute_reply": "2021-04-22T14:55:18.141121Z"
    }
   },
   "outputs": [
    {
     "data": {
      "image/png": "[encoded data removed]",
      "text/plain": [
       "<IPython.core.display.Image object>"
      ]
     },
     "metadata": {},
     "output_type": "display_data"
    }
   ],
   "source": [
    "from ROOT import gROOT \n",
    "gROOT.GetListOfCanvases().Draw()"
   ]
  }
 ],
 "metadata": {
  "kernelspec": {
   "display_name": "Python 3 (ipykernel)",
   "language": "python",
   "name": "python3"
  },
  "language_info": {
   "codemirror_mode": {
    "name": "ipython",
    "version": 3
   },
   "file_extension": ".py",
   "mimetype": "text/x-python",
   "name": "python",
   "nbconvert_exporter": "python",
   "pygments_lexer": "ipython3",
   "version": "3.10.4"
  }
 },
 "nbformat": 4,
 "nbformat_minor": 5
}
