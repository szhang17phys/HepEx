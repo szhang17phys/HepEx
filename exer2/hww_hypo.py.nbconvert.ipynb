{
 "cells": [
  {
   "cell_type": "markdown",
   "id": "compliant-windsor",
   "metadata": {},
   "source": [
    "# Hww_Hypo\n",
    "\n",
    "\n",
    "\n",
    "\n",
    "**Author:** Lailin XU  \n",
    "<i><small>This notebook tutorial was automatically generated with <a href= \"https://github.com/root-project/root/blob/master/documentation/doxygen/converttonotebook.py\">ROOTBOOK-izer</a> from the macro found in the ROOT repository  on Monday, April 19, 2021 at 09:23 AM.</small></i>"
   ]
  },
  {
   "cell_type": "code",
   "execution_count": 2,
   "id": "forced-scanning",
   "metadata": {
    "execution": {
     "iopub.execute_input": "2021-04-19T01:23:24.174475Z",
     "iopub.status.busy": "2021-04-19T01:23:24.173775Z",
     "iopub.status.idle": "2021-04-19T01:23:24.780860Z",
     "shell.execute_reply": "2021-04-19T01:23:24.781069Z"
    }
   },
   "outputs": [
    {
     "name": "stdout",
     "output_type": "stream",
     "text": [
      "Welcome to JupyROOT 6.26/00\n"
     ]
    }
   ],
   "source": [
    "import ROOT as R\n",
    "from math import log, sqrt, fabs"
   ]
  },
  {
   "cell_type": "markdown",
   "id": "5cf0a253",
   "metadata": {},
   "source": [
    "By szhang (Jun 6, 2022): I just find that, to import ROOT, one must activate the root environment locally! (on the terminal)"
   ]
  },
  {
   "cell_type": "markdown",
   "id": "perfect-smart",
   "metadata": {},
   "source": [
    "HWW simplified model: https://arxiv.org/abs/1412.2641"
   ]
  },
  {
   "cell_type": "code",
   "execution_count": 3,
   "id": "adjacent-certification",
   "metadata": {
    "execution": {
     "iopub.execute_input": "2021-04-19T01:23:24.783098Z",
     "iopub.status.busy": "2021-04-19T01:23:24.782790Z",
     "iopub.status.idle": "2021-04-19T01:23:24.889976Z",
     "shell.execute_reply": "2021-04-19T01:23:24.890366Z"
    }
   },
   "outputs": [],
   "source": [
    "N1 = 407.\n",
    "s1 = 48.6\n",
    "b1 = 335.\n",
    "N2, s2, b2 = 143., 16., 129."
   ]
  },
  {
   "cell_type": "markdown",
   "id": "beneficial-feeling",
   "metadata": {},
   "source": [
    "Treat ee+mumu and emu as two separate measurements\n",
    "================="
   ]
  },
  {
   "cell_type": "code",
   "execution_count": 4,
   "id": "arbitrary-saying",
   "metadata": {
    "execution": {
     "iopub.execute_input": "2021-04-19T01:23:24.893591Z",
     "iopub.status.busy": "2021-04-19T01:23:24.893058Z",
     "iopub.status.idle": "2021-04-19T01:23:25.002585Z",
     "shell.execute_reply": "2021-04-19T01:23:25.003358Z"
    }
   },
   "outputs": [],
   "source": [
    "hs1 = N1 - b1\n",
    "hs2 = N2 - b2"
   ]
  },
  {
   "cell_type": "markdown",
   "id": "cognitive-optics",
   "metadata": {},
   "source": [
    "Delta log-likelihood"
   ]
  },
  {
   "cell_type": "code",
   "execution_count": 5,
   "id": "korean-transparency",
   "metadata": {
    "execution": {
     "iopub.execute_input": "2021-04-19T01:23:25.009315Z",
     "iopub.status.busy": "2021-04-19T01:23:25.008635Z",
     "iopub.status.idle": "2021-04-19T01:23:25.119234Z",
     "shell.execute_reply": "2021-04-19T01:23:25.118524Z"
    }
   },
   "outputs": [],
   "source": [
    "lam = 2*( - hs1 + N1 * log( (hs1+b1)/b1 ))\n",
    "lam += 2*( - hs2 + N2 * log( (hs2+b2)/b2 ))"
   ]
  },
  {
   "cell_type": "markdown",
   "id": "intelligent-estimate",
   "metadata": {},
   "source": [
    "P-value"
   ]
  },
  {
   "cell_type": "code",
   "execution_count": 6,
   "id": "vital-oxygen",
   "metadata": {
    "execution": {
     "iopub.execute_input": "2021-04-19T01:23:25.154647Z",
     "iopub.status.busy": "2021-04-19T01:23:25.154149Z",
     "iopub.status.idle": "2021-04-19T01:23:25.264977Z",
     "shell.execute_reply": "2021-04-19T01:23:25.264269Z"
    }
   },
   "outputs": [
    {
     "name": "stdout",
     "output_type": "stream",
     "text": [
      "0.0003458697406908297\n"
     ]
    }
   ],
   "source": [
    "p = R.Math.chisquared_cdf_c(lam, 2.)\n",
    "print(p)"
   ]
  },
  {
   "cell_type": "markdown",
   "id": "cloudy-visiting",
   "metadata": {},
   "source": [
    "Convert p-value to signifiance"
   ]
  },
  {
   "cell_type": "code",
   "execution_count": 7,
   "id": "cubic-meaning",
   "metadata": {
    "execution": {
     "iopub.execute_input": "2021-04-19T01:23:25.275522Z",
     "iopub.status.busy": "2021-04-19T01:23:25.274835Z",
     "iopub.status.idle": "2021-04-19T01:23:25.384407Z",
     "shell.execute_reply": "2021-04-19T01:23:25.385004Z"
    }
   },
   "outputs": [],
   "source": [
    "nsig = R.Math.normal_quantile_c(p, 1.)"
   ]
  },
  {
   "cell_type": "markdown",
   "id": "starting-alcohol",
   "metadata": {},
   "source": [
    "Use RooStats to convert p-value to signifiance"
   ]
  },
  {
   "cell_type": "code",
   "execution_count": 8,
   "id": "hindu-worst",
   "metadata": {
    "execution": {
     "iopub.execute_input": "2021-04-19T01:23:25.504067Z",
     "iopub.status.busy": "2021-04-19T01:23:25.503748Z",
     "iopub.status.idle": "2021-04-19T01:23:25.610937Z",
     "shell.execute_reply": "2021-04-19T01:23:25.611367Z"
    }
   },
   "outputs": [
    {
     "name": "stdout",
     "output_type": "stream",
     "text": [
      "3.3928323996152105\n"
     ]
    }
   ],
   "source": [
    "nsig_rs = R.RooStats.PValueToSignificance(p)#We could get the same result with general root---\n",
    "print(nsig_rs)"
   ]
  },
  {
   "cell_type": "markdown",
   "id": "moving-valley",
   "metadata": {},
   "source": [
    "Two-sided siginifance"
   ]
  },
  {
   "cell_type": "code",
   "execution_count": 9,
   "id": "bearing-airfare",
   "metadata": {
    "execution": {
     "iopub.execute_input": "2021-04-19T01:23:25.617034Z",
     "iopub.status.busy": "2021-04-19T01:23:25.616494Z",
     "iopub.status.idle": "2021-04-19T01:23:25.726577Z",
     "shell.execute_reply": "2021-04-19T01:23:25.727265Z"
    }
   },
   "outputs": [
    {
     "name": "stdout",
     "output_type": "stream",
     "text": [
      "Lambda = 15.938896651563486, p-value= 0.0003458697406908297, significance= 3.3928323996152105 3.5782747685509237\n"
     ]
    }
   ],
   "source": [
    "nsig2 = R.Math.normal_quantile_c(p*0.5, 1.)\n",
    "\n",
    "print(\"Lambda = {0}, p-value= {1}, significance= {2} {3}\".format(lam, p, nsig, nsig2))"
   ]
  },
  {
   "cell_type": "markdown",
   "id": "terminal-quarter",
   "metadata": {},
   "source": [
    "One single POI (parameter of interest)\n",
    "=================\n",
    "Maximize the likelihood to get the best estimate of mu"
   ]
  },
  {
   "cell_type": "code",
   "execution_count": 10,
   "id": "alpine-contrary",
   "metadata": {
    "execution": {
     "iopub.execute_input": "2021-04-19T01:23:25.733728Z",
     "iopub.status.busy": "2021-04-19T01:23:25.733039Z",
     "iopub.status.idle": "2021-04-19T01:23:25.842846Z",
     "shell.execute_reply": "2021-04-19T01:23:25.843523Z"
    }
   },
   "outputs": [],
   "source": [
    "a = (s1 + s2)*s1*s2\n",
    "b = (s1+s2)*(b1*s2 + b2*s1) - (N1+N2)*s1*s2\n",
    "c = b1*b2*(s1+s2) - N1*s1*b2 - N2*s2*b1"
   ]
  },
  {
   "cell_type": "markdown",
   "id": "fancy-metropolitan",
   "metadata": {},
   "source": [
    "MLE of mu"
   ]
  },
  {
   "cell_type": "code",
   "execution_count": 11,
   "id": "immediate-indicator",
   "metadata": {
    "execution": {
     "iopub.execute_input": "2021-04-19T01:23:25.853510Z",
     "iopub.status.busy": "2021-04-19T01:23:25.852838Z",
     "iopub.status.idle": "2021-04-19T01:23:25.962752Z",
     "shell.execute_reply": "2021-04-19T01:23:25.963323Z"
    }
   },
   "outputs": [
    {
     "name": "stdout",
     "output_type": "stream",
     "text": [
      "mu = 1.3457630433503782\n",
      "Lambda = 15.44749401658941, p-value= 8.482934894864863e-05, significance= 3.7603752029871957 3.930330013699793\n"
     ]
    }
   ],
   "source": [
    "mu = (-b + sqrt( pow(b, 2) - 4.*a*c))/(2.*a)\n",
    "\n",
    "print(\"mu = {0}\".format(mu))\n",
    "\n",
    "hs1 = mu*s1\n",
    "hs2 = mu*s2\n",
    "\n",
    "lam = 2*( - hs1 + N1 * log( (hs1+b1)/b1 ))\n",
    "lam += 2*( - hs2 + N2 * log( (hs2+b2)/b2 ))\n",
    "\n",
    "p = R.Math.chisquared_cdf_c(lam, 1.)\n",
    "nsig = R.Math.normal_quantile_c(p, 1.)\n",
    "nsig_rs = R.RooStats.PValueToSignificance(p)\n",
    "nsig2 = R.Math.normal_quantile_c(p*0.5, 1.)\n",
    "\n",
    "print(\"Lambda = {0}, p-value= {1}, significance= {2} {3}\".format(lam, p, nsig, nsig2))"
   ]
  },
  {
   "cell_type": "markdown",
   "id": "nuclear-verification",
   "metadata": {},
   "source": [
    "Calculate NLL explicitly"
   ]
  },
  {
   "cell_type": "code",
   "execution_count": 12,
   "id": "sacred-behalf",
   "metadata": {
    "execution": {
     "iopub.execute_input": "2021-04-19T01:23:25.971731Z",
     "iopub.status.busy": "2021-04-19T01:23:25.970976Z",
     "iopub.status.idle": "2021-04-19T01:23:26.081653Z",
     "shell.execute_reply": "2021-04-19T01:23:26.082315Z"
    }
   },
   "outputs": [
    {
     "name": "stdout",
     "output_type": "stream",
     "text": [
      "mu=0, NLL= 2597.304300276521\n",
      "mu=1.3457630433503782, NLL= 2605.0280472848153\n",
      "dNLL=15.44749401658828, Z0= 3.9303300136996486\n"
     ]
    }
   ],
   "source": [
    "x = 0\n",
    "lnL0 = ( -x* s1 - b1 + N1*log(x*s1+b1) ) + (-x*s2 - b2 + N2*log(x*s2+b2) )\n",
    "print(\"mu={0}, NLL= {1}\".format(x, lnL0))\n",
    "x = mu\n",
    "lnL1 = ( -x* s1 - b1 + N1*log(x*s1+b1) ) + (-x*s2 - b2 + N2*log(x*s2+b2) )\n",
    "print(\"mu={0}, NLL= {1}\".format(x, lnL1))\n",
    "dNLL = 2*(lnL1-lnL0)\n",
    "print(\"dNLL={0}, Z0= {1}\".format(dNLL, sqrt(dNLL)))"
   ]
  },
  {
   "cell_type": "markdown",
   "id": "absent-latest",
   "metadata": {},
   "source": [
    "Use RooFit/RooStat to do the hypotest\n",
    "=================\n",
    "Instantiate a workspace"
   ]
  },
  {
   "cell_type": "markdown",
   "id": "f821efd5",
   "metadata": {},
   "source": [
    "**From szhang (Jun 6, 2022)**: break a fly upon a wheel--- While RooFit/RooStat is of great importance!"
   ]
  },
  {
   "cell_type": "markdown",
   "id": "3f3bc8db",
   "metadata": {},
   "source": [
    "From szhang (Jun 6, 2022): Currently not be understood and mastered---"
   ]
  },
  {
   "cell_type": "code",
   "execution_count": 13,
   "id": "framed-resolution",
   "metadata": {
    "execution": {
     "iopub.execute_input": "2021-04-19T01:23:26.110604Z",
     "iopub.status.busy": "2021-04-19T01:23:26.110087Z",
     "iopub.status.idle": "2021-04-19T01:23:26.220104Z",
     "shell.execute_reply": "2021-04-19T01:23:26.220655Z"
    }
   },
   "outputs": [],
   "source": [
    "w = R.RooWorkspace(\"w\")"
   ]
  },
  {
   "cell_type": "markdown",
   "id": "declared-aside",
   "metadata": {},
   "source": [
    "Create pdf components"
   ]
  },
  {
   "cell_type": "code",
   "execution_count": 14,
   "id": "straight-margin",
   "metadata": {
    "execution": {
     "iopub.execute_input": "2021-04-19T01:23:26.324398Z",
     "iopub.status.busy": "2021-04-19T01:23:26.324079Z",
     "iopub.status.idle": "2021-04-19T01:23:26.431595Z",
     "shell.execute_reply": "2021-04-19T01:23:26.431956Z"
    }
   },
   "outputs": [
    {
     "data": {
      "text/plain": [
       "<cppyy.gbl.RooPoisson object at 0x55f618613820>"
      ]
     },
     "execution_count": 14,
     "metadata": {},
     "output_type": "execute_result"
    }
   ],
   "source": [
    "w.factory(\"expr::s_emu('mu*n_emu',mu[1,0,10],n_emu[48.6])\")\n",
    "w.factory(\"sum:nexp_emu(s_emu,b_emu[335])\")\n",
    "w.factory(\"expr::s_ll('mu*n_ll',mu,n_ll[16])\")\n",
    "w.factory(\"sum:nexp_ll(s_ll,b_ll[129])\")\n",
    "w.factory(\"Poisson:emu(nobs_emu[0,1000],nexp_emu)\")\n",
    "w.factory(\"Poisson:ll(nobs_ll[0,1000],nexp_ll)\")"
   ]
  },
  {
   "cell_type": "markdown",
   "id": "eight-sandwich",
   "metadata": {},
   "source": [
    "Create the total model"
   ]
  },
  {
   "cell_type": "code",
   "execution_count": 15,
   "id": "missing-picture",
   "metadata": {
    "execution": {
     "iopub.execute_input": "2021-04-19T01:23:26.438890Z",
     "iopub.status.busy": "2021-04-19T01:23:26.438299Z",
     "iopub.status.idle": "2021-04-19T01:23:26.549752Z",
     "shell.execute_reply": "2021-04-19T01:23:26.548984Z"
    }
   },
   "outputs": [
    {
     "data": {
      "text/plain": [
       "<cppyy.gbl.RooProdPdf object at 0x55f6185ec070>"
      ]
     },
     "execution_count": 15,
     "metadata": {},
     "output_type": "execute_result"
    }
   ],
   "source": [
    "w.factory(\"PROD:model(emu,ll)\")"
   ]
  },
  {
   "cell_type": "markdown",
   "id": "dirty-refrigerator",
   "metadata": {},
   "source": [
    "Data"
   ]
  },
  {
   "cell_type": "code",
   "execution_count": 16,
   "id": "aquatic-seafood",
   "metadata": {
    "execution": {
     "iopub.execute_input": "2021-04-19T01:23:26.619999Z",
     "iopub.status.busy": "2021-04-19T01:23:26.619613Z",
     "iopub.status.idle": "2021-04-19T01:23:26.727143Z",
     "shell.execute_reply": "2021-04-19T01:23:26.727667Z"
    }
   },
   "outputs": [
    {
     "name": "stdout",
     "output_type": "stream",
     "text": [
      "[#1] INFO:ObjectHandling -- RooWorkspace::import(w) importing dataset ds\n",
      "[#1] INFO:ObjectHandling -- RooWorkSpace::import(w) changing name of dataset from  ds to ObsData\n",
      "RooProdPdf::model[ emu * ll ] = 0.000322962\n"
     ]
    }
   ],
   "source": [
    "r_emu = w.var(\"nobs_emu\")\n",
    "r_ll = w.var(\"nobs_ll\")\n",
    "data = R.RooDataSet(\"ds\", \"ds\", R.RooArgSet(r_emu, r_ll))\n",
    "\n",
    "r_emu.setVal(407)\n",
    "r_ll.setVal(143)\n",
    "data.add(R.RooArgSet(r_emu, r_ll))\n",
    "\n",
    "w.Import(data, R.RooFit.Rename(\"ObsData\"))\n",
    "\n",
    "model = w.pdf(\"model\")\n",
    "model.Print()"
   ]
  },
  {
   "cell_type": "markdown",
   "id": "violent-newspaper",
   "metadata": {},
   "source": [
    "Create the ModelConfig"
   ]
  },
  {
   "cell_type": "code",
   "execution_count": 17,
   "id": "superior-result",
   "metadata": {
    "execution": {
     "iopub.execute_input": "2021-04-19T01:23:26.744890Z",
     "iopub.status.busy": "2021-04-19T01:23:26.744421Z",
     "iopub.status.idle": "2021-04-19T01:23:26.853872Z",
     "shell.execute_reply": "2021-04-19T01:23:26.854567Z"
    }
   },
   "outputs": [],
   "source": [
    "mc=R.RooStats.ModelConfig(\"ModelConfig\", w)"
   ]
  },
  {
   "cell_type": "markdown",
   "id": "together-walker",
   "metadata": {},
   "source": [
    "Set up the Model"
   ]
  },
  {
   "cell_type": "code",
   "execution_count": 18,
   "id": "worst-might",
   "metadata": {
    "execution": {
     "iopub.execute_input": "2021-04-19T01:23:26.907297Z",
     "iopub.status.busy": "2021-04-19T01:23:26.906841Z",
     "iopub.status.idle": "2021-04-19T01:23:27.015147Z",
     "shell.execute_reply": "2021-04-19T01:23:27.015660Z"
    }
   },
   "outputs": [
    {
     "data": {
      "text/plain": [
       "False"
      ]
     },
     "execution_count": 18,
     "metadata": {},
     "output_type": "execute_result"
    },
    {
     "name": "stdout",
     "output_type": "stream",
     "text": [
      "\n",
      "=== Using the following for ModelConfig ===\n",
      "Observables:             RooArgSet:: = (nobs_emu,nobs_ll)\n",
      "Parameters of Interest:  RooArgSet:: = (mu)\n",
      "PDF:                     RooProdPdf::model[ emu * ll ] = 0.000322962\n",
      "\n"
     ]
    }
   ],
   "source": [
    "mc.SetPdf(w.pdf(\"model\"))\n",
    "mc.SetParametersOfInterest(R.RooArgSet(w.var(\"mu\")))\n",
    "mc.SetObservables(R.RooArgSet(w.var(\"nobs_emu\"), w.var(\"nobs_ll\")))\n",
    "\n",
    "mc.Print()\n",
    "\n",
    "w.Import(mc)"
   ]
  },
  {
   "cell_type": "markdown",
   "id": "polish-feedback",
   "metadata": {},
   "source": [
    "Take a peek at the workspac"
   ]
  },
  {
   "cell_type": "code",
   "execution_count": 19,
   "id": "regional-glance",
   "metadata": {
    "execution": {
     "iopub.execute_input": "2021-04-19T01:23:27.023424Z",
     "iopub.status.busy": "2021-04-19T01:23:27.022712Z",
     "iopub.status.idle": "2021-04-19T01:23:27.132980Z",
     "shell.execute_reply": "2021-04-19T01:23:27.133940Z"
    }
   },
   "outputs": [
    {
     "name": "stdout",
     "output_type": "stream",
     "text": [
      "\n",
      "RooWorkspace(w) w contents\n",
      "\n",
      "variables\n",
      "---------\n",
      "(b_emu,b_ll,mu,n_emu,n_ll,nobs_emu,nobs_ll)\n",
      "\n",
      "p.d.f.s\n",
      "-------\n",
      "RooProdPdf::model[ emu * ll ] = 0.000322962\n",
      "  RooPoisson::emu[ x=nobs_emu mean=nexp_emu ] = 0.00982155\n",
      "    RooAddition::nexp_emu[ s_emu + b_emu ] = 383.6\n",
      "      RooFormulaVar::s_emu[ actualVars=(mu,n_emu) formula=\"mu*n_emu\" ] = 48.6\n",
      "  RooPoisson::ll[ x=nobs_ll mean=nexp_ll ] = 0.032883\n",
      "    RooAddition::nexp_ll[ s_ll + b_ll ] = 145\n",
      "      RooFormulaVar::s_ll[ actualVars=(mu,n_ll) formula=\"mu*n_ll\" ] = 16\n",
      "\n",
      "datasets\n",
      "--------\n",
      "RooDataSet::ObsData(nobs_emu,nobs_ll)\n",
      "\n",
      "named sets\n",
      "----------\n",
      "ModelConfig_Observables:(nobs_emu,nobs_ll)\n",
      "ModelConfig_POI:(mu)\n",
      "\n",
      "generic objects\n",
      "---------------\n",
      "RooStats::ModelConfig::ModelConfig\n",
      "\n"
     ]
    }
   ],
   "source": [
    "w.Print(\"t\")"
   ]
  },
  {
   "cell_type": "markdown",
   "id": "humanitarian-riding",
   "metadata": {},
   "source": [
    "Fitting"
   ]
  },
  {
   "cell_type": "code",
   "execution_count": 20,
   "id": "increased-dealing",
   "metadata": {
    "execution": {
     "iopub.execute_input": "2021-04-19T01:23:27.179511Z",
     "iopub.status.busy": "2021-04-19T01:23:27.179047Z",
     "iopub.status.idle": "2021-04-19T01:23:27.289884Z",
     "shell.execute_reply": "2021-04-19T01:23:27.290402Z"
    }
   },
   "outputs": [
    {
     "name": "stdout",
     "output_type": "stream",
     "text": [
      "[#1] INFO:Minimization -- createConstraintTerm: caching constraint set under name CACHE_CONSTR_OF_PDF_model_FOR_OBS_nobs_emu:nobs_ll with 0 entries\n",
      "[#1] INFO:Minimization -- RooAbsMinimizerFcn::setOptimizeConst: activating const optimization\n",
      "[#1] INFO:Minimization --  The following expressions will be evaluated in cache-and-track mode: (emu,ll)\n",
      " **********\n",
      " **    1 **SET PRINT           1\n",
      " **********\n",
      " **********\n",
      " **    2 **SET NOGRAD\n",
      " **********\n",
      " PARAMETER DEFINITIONS:\n",
      "    NO.   NAME         VALUE      STEP SIZE      LIMITS\n",
      "     1 mu           1.00000e+00  5.00000e-01    0.00000e+00  1.00000e+01\n",
      " **********\n",
      " **    3 **SET ERR         0.5\n",
      " **********\n",
      " **********\n",
      " **    4 **SET PRINT           1\n",
      " **********\n",
      " **********\n",
      " **    5 **SET STR           1\n",
      " **********\n",
      " NOW USING STRATEGY  1: TRY TO BALANCE SPEED AGAINST RELIABILITY\n",
      " **********\n",
      " **    6 **MIGRAD         500           1\n",
      " **********\n",
      " FIRST CALL TO USER FUNCTION AT NEW START POINT, WITH IFLAG=4.\n",
      " START MIGRAD MINIMIZATION.  STRATEGY  1.  CONVERGENCE WHEN EDM .LT. 1.00e-03\n",
      " FCN=8.03798 FROM MIGRAD    STATUS=INITIATE        4 CALLS           5 TOTAL\n",
      "                     EDM= unknown      STRATEGY= 1      NO ERROR MATRIX       \n",
      "  EXT PARAMETER               CURRENT GUESS       STEP         FIRST   \n",
      "  NO.   NAME      VALUE            ERROR          SIZE      DERIVATIVE \n",
      "   1  mu           1.00000e+00   5.00000e-01   1.72186e-01  -8.23188e+00\n",
      "                               ERR DEF= 0.5\n",
      " MIGRAD MINIMIZATION HAS CONVERGED.\n",
      " MIGRAD WILL VERIFY CONVERGENCE AND ERROR MATRIX.\n",
      " COVARIANCE MATRIX CALCULATED SUCCESSFULLY\n",
      " FCN=7.57019 FROM MIGRAD    STATUS=CONVERGED      17 CALLS          18 TOTAL\n",
      "                     EDM=1.16801e-09    STRATEGY= 1      ERROR MATRIX ACCURATE \n",
      "  EXT PARAMETER                                   STEP         FIRST   \n",
      "  NO.   NAME      VALUE            ERROR          SIZE      DERIVATIVE \n",
      "   1  mu           1.34578e+00   3.61779e-01   2.07442e-04   3.21783e-04\n",
      "                               ERR DEF= 0.5\n",
      " EXTERNAL ERROR MATRIX.    NDIM=  25    NPAR=  1    ERR DEF=0.5\n",
      "  1.314e-01 \n",
      " **********\n",
      " **    7 **SET ERR         0.5\n",
      " **********\n",
      " **********\n",
      " **    8 **SET PRINT           1\n",
      " **********\n",
      " **********\n",
      " **    9 **HESSE         500\n",
      " **********\n",
      " COVARIANCE MATRIX CALCULATED SUCCESSFULLY\n",
      " FCN=7.57019 FROM HESSE     STATUS=OK              5 CALLS          23 TOTAL\n",
      "                     EDM=1.16768e-09    STRATEGY= 1      ERROR MATRIX ACCURATE \n",
      "  EXT PARAMETER                                INTERNAL      INTERNAL  \n",
      "  NO.   NAME      VALUE            ERROR       STEP SIZE       VALUE   \n",
      "   1  mu           1.34578e+00   3.61779e-01   4.14884e-05  -8.19559e-01\n",
      "                               ERR DEF= 0.5\n",
      " EXTERNAL ERROR MATRIX.    NDIM=  25    NPAR=  1    ERR DEF=0.5\n",
      "  1.314e-01 \n",
      "[#1] INFO:Minimization -- RooAbsMinimizerFcn::setOptimizeConst: deactivating const optimization\n",
      "DataStore ds (ds)\n",
      "  Contains 1 entries\n",
      "  Observables: \n",
      "    1)  nobs_emu = 407  L(0 - 1000)  \"nobs_emu\"\n",
      "    2)   nobs_ll = 143  L(0 - 1000)  \"nobs_ll\"\n"
     ]
    }
   ],
   "source": [
    "model.fitTo(data)\n",
    "\n",
    "data.Print(\"v\")"
   ]
  },
  {
   "cell_type": "markdown",
   "id": "occupational-aurora",
   "metadata": {},
   "source": [
    "Asymptotic calculator\n",
    "================="
   ]
  },
  {
   "cell_type": "markdown",
   "id": "e8c69879",
   "metadata": {},
   "source": [
    "**From szhang (Jun 6, 2022)** : Currently not be understood nor mastered---"
   ]
  },
  {
   "cell_type": "markdown",
   "id": "patient-concern",
   "metadata": {},
   "source": [
    "The S+B model (Alternative hypo)"
   ]
  },
  {
   "cell_type": "code",
   "execution_count": 21,
   "id": "cutting-exhibition",
   "metadata": {
    "execution": {
     "iopub.execute_input": "2021-04-19T01:23:27.314658Z",
     "iopub.status.busy": "2021-04-19T01:23:27.314089Z",
     "iopub.status.idle": "2021-04-19T01:23:27.424253Z",
     "shell.execute_reply": "2021-04-19T01:23:27.425094Z"
    }
   },
   "outputs": [],
   "source": [
    "sbModel = w.obj(\"ModelConfig\")\n",
    "pois = sbModel.GetParametersOfInterest()\n",
    "pois[0].setVal(1)\n",
    "poi = pois.first()\n",
    "sbModel.SetSnapshot(R.RooArgSet(pois))"
   ]
  },
  {
   "cell_type": "markdown",
   "id": "convertible-shipping",
   "metadata": {},
   "source": [
    "PDF"
   ]
  },
  {
   "cell_type": "code",
   "execution_count": 22,
   "id": "growing-pricing",
   "metadata": {
    "execution": {
     "iopub.execute_input": "2021-04-19T01:23:27.436909Z",
     "iopub.status.busy": "2021-04-19T01:23:27.436152Z",
     "iopub.status.idle": "2021-04-19T01:23:27.546998Z",
     "shell.execute_reply": "2021-04-19T01:23:27.546307Z"
    }
   },
   "outputs": [],
   "source": [
    "pdf = sbModel.GetPdf()"
   ]
  },
  {
   "cell_type": "markdown",
   "id": "thick-evidence",
   "metadata": {},
   "source": [
    "save snapshot before any fit has been done"
   ]
  },
  {
   "cell_type": "code",
   "execution_count": 23,
   "id": "economic-lemon",
   "metadata": {
    "execution": {
     "iopub.execute_input": "2021-04-19T01:23:27.560495Z",
     "iopub.status.busy": "2021-04-19T01:23:27.559772Z",
     "iopub.status.idle": "2021-04-19T01:23:27.670892Z",
     "shell.execute_reply": "2021-04-19T01:23:27.671494Z"
    }
   },
   "outputs": [
    {
     "data": {
      "text/plain": [
       "True"
      ]
     },
     "execution_count": 23,
     "metadata": {},
     "output_type": "execute_result"
    }
   ],
   "source": [
    "params = pdf.getParameters(data)\n",
    "snapshotName_init = \"snapshot_paramsVals_initial\"\n",
    "w.saveSnapshot(snapshotName_init, params)"
   ]
  },
  {
   "cell_type": "markdown",
   "id": "seventh-carter",
   "metadata": {},
   "source": [
    "The B model (Null hypo)"
   ]
  },
  {
   "cell_type": "code",
   "execution_count": 24,
   "id": "valuable-sound",
   "metadata": {
    "execution": {
     "iopub.execute_input": "2021-04-19T01:23:27.689809Z",
     "iopub.status.busy": "2021-04-19T01:23:27.689165Z",
     "iopub.status.idle": "2021-04-19T01:23:27.795659Z",
     "shell.execute_reply": "2021-04-19T01:23:27.796304Z"
    }
   },
   "outputs": [
    {
     "name": "stdout",
     "output_type": "stream",
     "text": [
      "\n",
      "=== Using the following for B_only_model ===\n",
      "Observables:             RooArgSet:: = (nobs_emu,nobs_ll)\n",
      "Parameters of Interest:  RooArgSet:: = (mu)\n",
      "PDF:                     RooProdPdf::model[ emu * ll ] = 2.27995e-07\n",
      "Snapshot:                \n",
      "  1) 0x55f6193e9a20 RooRealVar:: mu = 0 +/- 0.361779  L(0 - 10)  \"mu\"\n",
      "\n",
      "\n",
      "RooWorkspace(w) w contents\n",
      "\n",
      "variables\n",
      "---------\n",
      "(b_emu,b_ll,mu,n_emu,n_ll,nobs_emu,nobs_ll)\n",
      "\n",
      "p.d.f.s\n",
      "-------\n",
      "RooPoisson::emu[ x=nobs_emu mean=nexp_emu ] = 1.42409e-05\n",
      "RooPoisson::ll[ x=nobs_ll mean=nexp_ll ] = 0.0160098\n",
      "RooProdPdf::model[ emu * ll ] = 2.27995e-07\n",
      "\n",
      "functions\n",
      "--------\n",
      "RooAddition::nexp_emu[ s_emu + b_emu ] = 335\n",
      "RooAddition::nexp_ll[ s_ll + b_ll ] = 129\n",
      "RooFormulaVar::s_emu[ actualVars=(mu,n_emu) formula=\"mu*n_emu\" ] = 0\n",
      "RooFormulaVar::s_ll[ actualVars=(mu,n_ll) formula=\"mu*n_ll\" ] = 0\n",
      "\n",
      "datasets\n",
      "--------\n",
      "RooDataSet::ObsData(nobs_emu,nobs_ll)\n",
      "\n",
      "parameter snapshots\n",
      "-------------------\n",
      "ModelConfig__snapshot = (mu=1 +/- 0.361779)\n",
      "snapshot_paramsVals_initial = (mu=1 +/- 0.361779,n_emu=48.6[C],b_emu=335[C],n_ll=16[C],b_ll=129[C])\n",
      "B_only_model__snapshot = (mu=0 +/- 0.361779)\n",
      "\n",
      "named sets\n",
      "----------\n",
      "B_only_model__snapshot:(mu)\n",
      "ModelConfig_Observables:(nobs_emu,nobs_ll)\n",
      "ModelConfig_POI:(mu)\n",
      "ModelConfig__snapshot:(mu)\n",
      "\n",
      "generic objects\n",
      "---------------\n",
      "RooStats::ModelConfig::ModelConfig\n",
      "\n"
     ]
    }
   ],
   "source": [
    "bModel = sbModel.Clone()\n",
    "bModel.SetName(\"B_only_model\")\n",
    "pois[0].setVal(0)\n",
    "bModel.SetSnapshot(R.RooArgSet(pois))\n",
    "bModel.Print()\n",
    "\n",
    "w.Print()"
   ]
  },
  {
   "cell_type": "markdown",
   "id": "spatial-compiler",
   "metadata": {},
   "source": [
    "Asymptotic calculator"
   ]
  },
  {
   "cell_type": "code",
   "execution_count": 25,
   "id": "continuous-pixel",
   "metadata": {
    "execution": {
     "iopub.execute_input": "2021-04-19T01:23:27.817551Z",
     "iopub.status.busy": "2021-04-19T01:23:27.816918Z",
     "iopub.status.idle": "2021-04-19T01:23:27.928601Z",
     "shell.execute_reply": "2021-04-19T01:23:27.929354Z"
    }
   },
   "outputs": [
    {
     "name": "stdout",
     "output_type": "stream",
     "text": [
      "[#0] PROGRESS:Eval -- AsymptoticCalculator::Initialize....\n",
      "[#0] PROGRESS:Eval -- AsymptoticCalculator::Initialize - Find  best unconditional NLL on observed data\n",
      "AsymptoticCalculator::EvaluateNLL  ........ using Minuit / Migrad with strategy  1 and tolerance 1\n",
      " **********\n",
      " **   10 **SET PRINT           0\n",
      " **********\n",
      " **********\n",
      " **   11 **SET NOGRAD\n",
      " **********\n",
      " PARAMETER DEFINITIONS:\n",
      "    NO.   NAME         VALUE      STEP SIZE      LIMITS\n",
      "     1 mu           0.00000e+00  3.61779e-01    0.00000e+00  1.00000e+01\n",
      " MINUIT WARNING IN PARAM DEF\n",
      " ============== STARTING VALUE IS AT LIMIT.\n",
      " MINUIT WARNING IN PARAMETR\n",
      " ============== VARIABLE1 IS AT ITS LOWER ALLOWED LIMIT.\n",
      " MINUIT WARNING IN PARAMETR\n",
      " ============== VARIABLE1 BROUGHT BACK INSIDE LIMITS.\n",
      " **********\n",
      " **   12 **SET ERR         0.5\n",
      " **********\n",
      " **********\n",
      " **   13 **SET PRINT           0\n",
      " **********\n",
      " **********\n",
      " **   14 **SET STR           1\n",
      " **********\n",
      " **********\n",
      " **   15 **MIGRAD         500           1\n",
      " **********\n",
      " MINUIT WARNING IN MIGrad    \n",
      " ============== VARIABLE1 IS AT ITS LOWER ALLOWED LIMIT.\n",
      " MIGRAD MINIMIZATION HAS CONVERGED.\n",
      " MIGRAD WILL VERIFY CONVERGENCE AND ERROR MATRIX.\n",
      " FCN=7.5702 FROM MIGRAD    STATUS=CONVERGED      38 CALLS          39 TOTAL\n",
      "                     EDM=1.03831e-05    STRATEGY= 1      ERROR MATRIX ACCURATE \n",
      "  EXT PARAMETER                                   STEP         FIRST   \n",
      "  NO.   NAME      VALUE            ERROR          SIZE      DERIVATIVE \n",
      "   1  mu           1.34693e+00   3.61764e-01   2.28753e-04   3.03516e-02\n",
      "                               ERR DEF= 0.5\n",
      "AsymptoticCalculator::EvaluateNLL -  value = 7.5702\tfit time : Real time 0:00:00, CP time 0.000\n",
      "[#0] PROGRESS:Eval -- Best fitted POI value = 1.34693 +/- 0.361764\n",
      "[#0] PROGRESS:Eval -- AsymptoticCalculator: Building Asimov data Set\n",
      "[#1] INFO:InputArguments -- AsymptoticCalculator: Asimov data will be generated using fitted nuisance parameter values\n",
      "MakeAsimov: Setting poi mu to a constant value = 1\n",
      "Generated Asimov data for observables RooArgSet:: = (nobs_emu,nobs_ll)\n",
      "[#0] PROGRESS:Eval -- AsymptoticCalculator::Initialize Find  best conditional NLL on ASIMOV data set for given alt POI ( mu ) = 1\n",
      "AsymptoticCalculator::EvaluateNLL -  value = 7.30184 for poi fixed at = 1\n",
      "[#1] INFO:InputArguments -- AsymptotiCalculator: Minimum of POI is 0 corresponds to null  snapshot   - default configuration is  one-sided discovery formulae  \n"
     ]
    }
   ],
   "source": [
    "ac = R.RooStats.AsymptoticCalculator(data, sbModel, bModel)\n",
    "ac.SetOneSidedDiscovery(True)"
   ]
  },
  {
   "cell_type": "markdown",
   "id": "local-entertainment",
   "metadata": {},
   "source": [
    "Get the hypo test result"
   ]
  },
  {
   "cell_type": "code",
   "execution_count": 26,
   "id": "announced-weight",
   "metadata": {
    "execution": {
     "iopub.execute_input": "2021-04-19T01:23:27.948100Z",
     "iopub.status.busy": "2021-04-19T01:23:27.947509Z",
     "iopub.status.idle": "2021-04-19T01:23:28.060450Z",
     "shell.execute_reply": "2021-04-19T01:23:28.061030Z"
    }
   },
   "outputs": [
    {
     "name": "stdout",
     "output_type": "stream",
     "text": [
      "\n",
      "[#1] INFO:Eval -- AsymptoticCalculator::GetHypoTest: - perform  an hypothesis test for  POI ( mu ) = 0\n",
      "[#0] PROGRESS:Eval -- AsymptoticCalculator::GetHypoTest -  Find  best conditional NLL on OBSERVED data set ..... \n",
      "AsymptoticCalculator::EvaluateNLL -  value = 15.2939 for poi fixed at = 0\n",
      "[#0] PROGRESS:Eval -- \t OBSERVED DATA :  qmu   = 15.4475 condNLL = 15.2939 uncond 7.5702\n",
      "[#0] PROGRESS:Eval -- AsymptoticCalculator::GetHypoTest -- Find  best conditional NLL on ASIMOV data set .... \n",
      "AsymptoticCalculator::EvaluateNLL -  value = 11.6216 for poi fixed at = 0\n",
      "[#0] PROGRESS:Eval -- \t ASIMOV data qmu_A = 8.63963 condNLL = 11.6216 uncond 7.30184\n",
      "[#0] PROGRESS:Eval -- poi = 0 qmu = 15.4475 qmu_A = 8.63963 sigma = 0  CLsplusb = 4.24149e-05 CLb = 0.160842 CLs = 3792.1\n",
      "\n",
      "Results HypoTestAsymptotic_result: \n",
      " - Null p-value = 4.24149e-05\n",
      " - Significance = 3.93033\n",
      " - CL_b: 4.24149e-05\n",
      " - CL_s+b: 0.160842\n",
      " - CL_s: 3792.1\n"
     ]
    }
   ],
   "source": [
    "asResult = ac.GetHypoTest()\n",
    "asResult.Print()\n",
    "pvalue_as = asResult.NullPValue()"
   ]
  },
  {
   "cell_type": "markdown",
   "id": "wooden-innocent",
   "metadata": {},
   "source": [
    "By hand calculation\n",
    "======================="
   ]
  },
  {
   "cell_type": "markdown",
   "id": "f9e1ed27",
   "metadata": {},
   "source": [
    "**From szhang (Jun 6, 2022)** : Currently not be understood nor mastered---"
   ]
  },
  {
   "cell_type": "code",
   "execution_count": 27,
   "id": "opened-detector",
   "metadata": {
    "execution": {
     "iopub.execute_input": "2021-04-19T01:23:28.067990Z",
     "iopub.status.busy": "2021-04-19T01:23:28.067374Z",
     "iopub.status.idle": "2021-04-19T01:23:28.177501Z",
     "shell.execute_reply": "2021-04-19T01:23:28.178178Z"
    }
   },
   "outputs": [],
   "source": [
    "w.loadSnapshot(snapshotName_init)\n",
    "sbModel = w.obj(\"ModelConfig\")\n",
    "pdf = sbModel.GetPdf()"
   ]
  },
  {
   "cell_type": "markdown",
   "id": "exotic-lunch",
   "metadata": {},
   "source": [
    "Get the nuisance parameters and global observables"
   ]
  },
  {
   "cell_type": "code",
   "execution_count": 28,
   "id": "rubber-israel",
   "metadata": {
    "execution": {
     "iopub.execute_input": "2021-04-19T01:23:28.194972Z",
     "iopub.status.busy": "2021-04-19T01:23:28.194334Z",
     "iopub.status.idle": "2021-04-19T01:23:28.305327Z",
     "shell.execute_reply": "2021-04-19T01:23:28.304598Z"
    }
   },
   "outputs": [],
   "source": [
    "constrainedParams = sbModel.GetNuisanceParameters()\n",
    "glbObs = sbModel.GetGlobalObservables()"
   ]
  },
  {
   "cell_type": "markdown",
   "id": "shared-applicant",
   "metadata": {},
   "source": [
    "Create the neg-log-likelihood"
   ]
  },
  {
   "cell_type": "code",
   "execution_count": null,
   "id": "surrounded-magic",
   "metadata": {
    "execution": {
     "iopub.execute_input": "2021-04-19T01:23:28.353348Z",
     "iopub.status.busy": "2021-04-19T01:23:28.352907Z",
     "iopub.status.idle": "2021-04-19T01:23:28.462533Z",
     "shell.execute_reply": "2021-04-19T01:23:28.463306Z"
    }
   },
   "outputs": [],
   "source": [
    "nll_sb = pdf.createNLL(data, R.RooFit.Constrain(constrainedParams), R.RooFit.GlobalObservables(glbObs),\n",
    "                                       R.RooFit.NumCPU(2), R.RooFit.Optimize(2))\n",
    "nllval = nll_sb.getVal()\n",
    "print(\"Starting NLL value:\", nllval)"
   ]
  },
  {
   "cell_type": "markdown",
   "id": "downtown-quebec",
   "metadata": {},
   "source": [
    "Do the minimization"
   ]
  },
  {
   "cell_type": "code",
   "execution_count": 1,
   "id": "complicated-latvia",
   "metadata": {
    "execution": {
     "iopub.execute_input": "2021-04-19T01:23:28.508408Z",
     "iopub.status.busy": "2021-04-19T01:23:28.498061Z",
     "iopub.status.idle": "2021-04-19T01:23:28.616814Z",
     "shell.execute_reply": "2021-04-19T01:23:28.617446Z"
    }
   },
   "outputs": [
    {
     "ename": "NameError",
     "evalue": "name 'R' is not defined",
     "output_type": "error",
     "traceback": [
      "\u001b[0;31m---------------------------------------------------------------------------\u001b[0m",
      "\u001b[0;31mNameError\u001b[0m                                 Traceback (most recent call last)",
      "Input \u001b[0;32mIn [1]\u001b[0m, in \u001b[0;36m<cell line: 1>\u001b[0;34m()\u001b[0m\n\u001b[0;32m----> 1\u001b[0m minim \u001b[38;5;241m=\u001b[39m \u001b[43mR\u001b[49m\u001b[38;5;241m.\u001b[39mRooMinimizer(nll_sb)\n\u001b[1;32m      2\u001b[0m strategy \u001b[38;5;241m=\u001b[39m R\u001b[38;5;241m.\u001b[39mMath\u001b[38;5;241m.\u001b[39mMinimizerOptions\u001b[38;5;241m.\u001b[39mDefaultStrategy()\n\u001b[1;32m      3\u001b[0m minim\u001b[38;5;241m.\u001b[39msetStrategy(strategy)\n",
      "\u001b[0;31mNameError\u001b[0m: name 'R' is not defined"
     ]
    }
   ],
   "source": [
    "minim = R.RooMinimizer(nll_sb)\n",
    "strategy = R.Math.MinimizerOptions.DefaultStrategy()\n",
    "minim.setStrategy(strategy)\n",
    "minim.optimizeConst(2)\n",
    "minimizer = R.Math.MinimizerOptions.DefaultMinimizerType()\n",
    "algorithm = R.Math.MinimizerOptions.DefaultMinimizerAlgo()\n",
    "print(\"\\n =========== Unconditinal fit =========\\n\")\n",
    "status = minim.minimize(minimizer, algorithm)\n",
    "\n",
    "obs_nll_min = nll_sb.getVal()\n",
    "reverse = (poi.getVal() < 0)"
   ]
  },
  {
   "cell_type": "markdown",
   "id": "severe-firewall",
   "metadata": {},
   "source": [
    "Fix POI to 0 (B-only model) and do the minimization again"
   ]
  },
  {
   "cell_type": "code",
   "execution_count": 30,
   "id": "progressive-champagne",
   "metadata": {
    "execution": {
     "iopub.execute_input": "2021-04-19T01:23:28.630421Z",
     "iopub.status.busy": "2021-04-19T01:23:28.629789Z",
     "iopub.status.idle": "2021-04-19T01:23:28.741384Z",
     "shell.execute_reply": "2021-04-19T01:23:28.741945Z"
    }
   },
   "outputs": [
    {
     "name": "stdout",
     "output_type": "stream",
     "text": [
      "\n",
      " =========== Conditinal fit =========\n",
      "\n",
      "[#1] INFO:Minization -- RooMinimizerFcn::synchronize: set of constant parameters changed, rerunning const optimizer\n",
      " **********\n",
      " **   22 **SET PRINT           1\n",
      " **********\n",
      " **********\n",
      " **   23 **SET NOGRAD\n",
      " **********\n",
      " PARAMETER DEFINITIONS:\n",
      "    NO.   NAME         VALUE      STEP SIZE      LIMITS\n",
      "     1 mu           0.00000e+00  1.00000e-01     no limits\n",
      " **********\n",
      " **   24 **FIX           1\n",
      " **********\n"
     ]
    },
    {
     "name": "stderr",
     "output_type": "stream",
     "text": [
      "Info in <TMinuitMinimizer::Minimize>: There are no free parameter - just compute the function value\n"
     ]
    }
   ],
   "source": [
    "print(\"\\n =========== Conditinal fit =========\\n\")\n",
    "w.loadSnapshot(snapshotName_init)\n",
    "poi.setVal(0)\n",
    "poi.setConstant(1)\n",
    "\n",
    "status = minim.minimize(minimizer, algorithm)\n",
    "\n",
    "obs_nll_min_bkg = nll_sb.getVal()"
   ]
  },
  {
   "cell_type": "markdown",
   "id": "constitutional-console",
   "metadata": {},
   "source": [
    "The asymptotic statistic: q0 = nll(b-only, mu=0) - nll(s+b)\n",
    "Significance: Z = sqrt( 2*q0 )"
   ]
  },
  {
   "cell_type": "code",
   "execution_count": 31,
   "id": "hollywood-installation",
   "metadata": {
    "execution": {
     "iopub.execute_input": "2021-04-19T01:23:28.747648Z",
     "iopub.status.busy": "2021-04-19T01:23:28.746919Z",
     "iopub.status.idle": "2021-04-19T01:23:28.857178Z",
     "shell.execute_reply": "2021-04-19T01:23:28.857782Z"
    }
   },
   "outputs": [],
   "source": [
    "obs_q0 = 2*(obs_nll_min_bkg - obs_nll_min)"
   ]
  },
  {
   "cell_type": "markdown",
   "id": "vocal-level",
   "metadata": {},
   "source": [
    "Check the sign: excess or deficit? "
   ]
  },
  {
   "cell_type": "code",
   "execution_count": 32,
   "id": "conscious-belief",
   "metadata": {
    "execution": {
     "iopub.execute_input": "2021-04-19T01:23:28.864673Z",
     "iopub.status.busy": "2021-04-19T01:23:28.863970Z",
     "iopub.status.idle": "2021-04-19T01:23:28.974236Z",
     "shell.execute_reply": "2021-04-19T01:23:28.974828Z"
    }
   },
   "outputs": [
    {
     "name": "stdout",
     "output_type": "stream",
     "text": [
      "\n",
      "Unconditional NLL value: 7.570194792128092\n",
      "Conditional NLL value: 15.293941799838876\n",
      "dNLL=15.447494015421569, Z0= 3.9303300135512247\n",
      "==> Asymmptotic signficance:  3.9303300135512247\n"
     ]
    }
   ],
   "source": [
    "if reverse: obs_q0 = -obs_q0\n",
    "sign = 0\n",
    "if obs_q0!=0: sign = obs_q0 / fabs(obs_q0)\n",
    "obs_sig = sign*sqrt(fabs(obs_q0));\n",
    "print(\"\\nUnconditional NLL value:\", obs_nll_min)\n",
    "print(\"Conditional NLL value:\", obs_nll_min_bkg)\n",
    "print(\"dNLL={0}, Z0= {1}\".format(obs_q0, sqrt(obs_q0)))\n",
    "print(\"==> Asymmptotic signficance: \", obs_sig)"
   ]
  },
  {
   "cell_type": "markdown",
   "id": "norwegian-attack",
   "metadata": {},
   "source": [
    "Draw all canvases "
   ]
  },
  {
   "cell_type": "code",
   "execution_count": 33,
   "id": "cardiac-semester",
   "metadata": {
    "execution": {
     "iopub.execute_input": "2021-04-19T01:23:28.985321Z",
     "iopub.status.busy": "2021-04-19T01:23:28.984591Z",
     "iopub.status.idle": "2021-04-19T01:23:29.094475Z",
     "shell.execute_reply": "2021-04-19T01:23:29.095040Z"
    }
   },
   "outputs": [],
   "source": [
    "from ROOT import gROOT \n",
    "gROOT.GetListOfCanvases().Draw()"
   ]
  }
 ],
 "metadata": {
  "kernelspec": {
   "display_name": "Python 3 (ipykernel)",
   "language": "python",
   "name": "python3"
  },
  "language_info": {
   "codemirror_mode": {
    "name": "ipython",
    "version": 3
   },
   "file_extension": ".py",
   "mimetype": "text/x-python",
   "name": "python",
   "nbconvert_exporter": "python",
   "pygments_lexer": "ipython3",
   "version": "3.10.4"
  }
 },
 "nbformat": 4,
 "nbformat_minor": 5
}
