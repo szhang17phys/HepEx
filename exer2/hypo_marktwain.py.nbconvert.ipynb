{
 "cells": [
  {
   "cell_type": "markdown",
   "id": "particular-float",
   "metadata": {},
   "source": [
    "# Hypo_Marktwain\n",
    "\n",
    "\n",
    "\n",
    "\n",
    "**Author:** Lailin XU  \n",
    "<i><small>This notebook tutorial was automatically generated with <a href= \"https://github.com/root-project/root/blob/master/documentation/doxygen/converttonotebook.py\">ROOTBOOK-izer</a> from the macro found in the ROOT repository  on Monday, April 19, 2021 at 05:49 PM.</small></i>"
   ]
  },
  {
   "cell_type": "code",
   "execution_count": 2,
   "id": "julian-curve",
   "metadata": {
    "execution": {
     "iopub.execute_input": "2021-04-19T09:49:08.735935Z",
     "iopub.status.busy": "2021-04-19T09:49:08.735204Z",
     "iopub.status.idle": "2021-04-19T09:49:09.314874Z",
     "shell.execute_reply": "2021-04-19T09:49:09.315073Z"
    }
   },
   "outputs": [
    {
     "name": "stdout",
     "output_type": "stream",
     "text": [
      "Welcome to JupyROOT 6.26/00\n"
     ]
    }
   ],
   "source": [
    "import os\n",
    "from math import sqrt, pow, fabs, comb\n",
    "import ROOT as R\n",
    "import itertools"
   ]
  },
  {
   "cell_type": "markdown",
   "id": "prime-wages",
   "metadata": {},
   "source": [
    "Mark Twain"
   ]
  },
  {
   "cell_type": "code",
   "execution_count": 3,
   "id": "fixed-shanghai",
   "metadata": {
    "execution": {
     "iopub.execute_input": "2021-04-19T09:49:09.317106Z",
     "iopub.status.busy": "2021-04-19T09:49:09.316802Z",
     "iopub.status.idle": "2021-04-19T09:49:09.423887Z",
     "shell.execute_reply": "2021-04-19T09:49:09.424271Z"
    }
   },
   "outputs": [],
   "source": [
    "SAM_A = [0.225, 0.262, 0.217, 0.240, 0.230, 0.229, 0.235, 0.217]"
   ]
  },
  {
   "cell_type": "markdown",
   "id": "known-symbol",
   "metadata": {},
   "source": [
    "Snodgrass"
   ]
  },
  {
   "cell_type": "code",
   "execution_count": 4,
   "id": "serial-ontario",
   "metadata": {
    "execution": {
     "iopub.execute_input": "2021-04-19T09:49:09.520690Z",
     "iopub.status.busy": "2021-04-19T09:49:09.461070Z",
     "iopub.status.idle": "2021-04-19T09:49:09.941666Z",
     "shell.execute_reply": "2021-04-19T09:49:09.941902Z"
    }
   },
   "outputs": [
    {
     "name": "stdout",
     "output_type": "stream",
     "text": [
      "mean: A= 0.231875, B= 0.2097\n",
      "se: A= 0.004854837221209838, B= 0.0029130497053532376\n",
      "Wald test: w=3.916640271758838, se= 0.00566174028283734, p-value= 8.979157914257611e-05\n",
      "A:  [0.225, 0.262, 0.217, 0.24, 0.23, 0.229, 0.235, 0.217]\n",
      "B:  [0.209, 0.205, 0.196, 0.21, 0.202, 0.207, 0.224, 0.223, 0.22, 0.201]\n",
      "Replacement test: t=0.022175\n",
      "Total number of replacements 43758\n",
      "t=0.023749999999999993,   2 8 9 10 11 12 13 15 16 17\n",
      "    0.217 0.209 0.205 0.196 0.21 0.202 0.207 0.223 0.22 0.201\n",
      "t=0.023525000000000018,   2 8 9 10 11 12 13 14 16 17\n",
      "    0.217 0.209 0.205 0.196 0.21 0.202 0.207 0.224 0.22 0.201\n",
      "t=0.02285000000000001,   2 8 9 10 11 12 13 14 15 17\n",
      "    0.217 0.209 0.205 0.196 0.21 0.202 0.207 0.224 0.223 0.201\n",
      "t=0.022399999999999975,   5 2 8 9 10 11 12 13 16 17\n",
      "    0.229 0.217 0.209 0.205 0.196 0.21 0.202 0.207 0.22 0.201\n",
      "t=0.023749999999999993,   2 8 9 10 11 12 13 15 16 17\n",
      "    0.217 0.209 0.205 0.196 0.21 0.202 0.207 0.223 0.22 0.201\n",
      "t=0.023525000000000018,   2 8 9 10 11 12 13 14 16 17\n",
      "    0.217 0.209 0.205 0.196 0.21 0.202 0.207 0.224 0.22 0.201\n",
      "t=0.02285000000000001,   2 8 9 10 11 12 13 14 15 17\n",
      "    0.217 0.209 0.205 0.196 0.21 0.202 0.207 0.224 0.223 0.201\n",
      "t=0.025099999999999983,   2 2 8 9 10 11 12 13 16 17\n",
      "    0.217 0.217 0.209 0.205 0.196 0.21 0.202 0.207 0.22 0.201\n",
      "t=0.024424999999999947,   2 2 8 9 10 11 12 13 15 17\n",
      "    0.217 0.217 0.209 0.205 0.196 0.21 0.202 0.207 0.223 0.201\n",
      "t=0.02419999999999997,   2 2 8 9 10 11 12 13 14 17\n",
      "    0.217 0.217 0.209 0.205 0.196 0.21 0.202 0.207 0.224 0.201\n",
      "t=0.022400000000000003,   5 2 8 9 10 11 12 13 16 17\n",
      "    0.229 0.217 0.209 0.205 0.196 0.21 0.202 0.207 0.22 0.201\n",
      "t=0.023075000000000012,   2 5 2 8 9 10 11 12 13 17\n",
      "    0.217 0.229 0.217 0.209 0.205 0.196 0.21 0.202 0.207 0.201\n",
      "t=0.02285000000000001,   2 4 2 8 9 10 11 12 13 17\n",
      "    0.217 0.23 0.217 0.209 0.205 0.196 0.21 0.202 0.207 0.201\n",
      " iteration: 10000\n",
      "t=-0.022825000000000012,   1 2 3 4 5 6 2 14 15 16\n",
      "    0.262 0.217 0.24 0.23 0.229 0.235 0.217 0.224 0.223 0.22\n",
      "t=0.023299999999999987,   0 2 8 9 10 11 12 13 16 17\n",
      "    0.225 0.217 0.209 0.205 0.196 0.21 0.202 0.207 0.22 0.201\n",
      "t=0.02262499999999995,   0 2 8 9 10 11 12 13 15 17\n",
      "    0.225 0.217 0.209 0.205 0.196 0.21 0.202 0.207 0.223 0.201\n",
      "t=0.022399999999999975,   0 2 8 9 10 11 12 13 14 17\n",
      "    0.225 0.217 0.209 0.205 0.196 0.21 0.202 0.207 0.224 0.201\n",
      " iteration: 20000\n",
      "t=0.023300000000000015,   0 2 8 9 10 11 12 13 16 17\n",
      "    0.225 0.217 0.209 0.205 0.196 0.21 0.202 0.207 0.22 0.201\n",
      "t=0.02262499999999998,   0 2 8 9 10 11 12 13 15 17\n",
      "    0.225 0.217 0.209 0.205 0.196 0.21 0.202 0.207 0.223 0.201\n",
      "t=0.022400000000000003,   0 2 8 9 10 11 12 13 14 17\n",
      "    0.225 0.217 0.209 0.205 0.196 0.21 0.202 0.207 0.224 0.201\n",
      "t=0.023974999999999996,   0 2 2 8 9 10 11 12 13 17\n",
      "    0.225 0.217 0.217 0.209 0.205 0.196 0.21 0.202 0.207 0.201\n",
      " iteration: 30000\n",
      "t=-0.022374999999999978,   0 1 3 4 5 6 13 14 15 16\n",
      "    0.225 0.262 0.24 0.23 0.229 0.235 0.207 0.224 0.223 0.22\n",
      "t=-0.023049999999999987,   0 1 3 4 5 6 11 14 15 16\n",
      "    0.225 0.262 0.24 0.23 0.229 0.235 0.21 0.224 0.223 0.22\n",
      "t=-0.022825000000000012,   0 1 3 4 5 6 8 14 15 16\n",
      "    0.225 0.262 0.24 0.23 0.229 0.235 0.209 0.224 0.223 0.22\n",
      "t=-0.024625000000000008,   0 1 3 4 5 6 2 14 15 16\n",
      "    0.225 0.262 0.24 0.23 0.229 0.235 0.217 0.224 0.223 0.22\n",
      "t=-0.022374999999999978,   0 1 3 4 5 6 2 11 14 15\n",
      "    0.225 0.262 0.24 0.23 0.229 0.235 0.217 0.21 0.224 0.223\n",
      " iteration: 40000\n",
      "t=-0.024625000000000008,   0 1 3 4 5 6 2 14 15 16\n",
      "    0.225 0.262 0.24 0.23 0.229 0.235 0.217 0.224 0.223 0.22\n",
      "t=-0.022374999999999978,   0 1 3 4 5 6 2 11 14 15\n",
      "    0.225 0.262 0.24 0.23 0.229 0.235 0.217 0.21 0.224 0.223\n",
      "t=-0.023049999999999987,   0 1 2 3 4 5 6 2 15 16\n",
      "    0.225 0.262 0.217 0.24 0.23 0.229 0.235 0.217 0.223 0.22\n",
      "t=-0.023275000000000018,   0 1 2 3 4 5 6 2 14 16\n",
      "    0.225 0.262 0.217 0.24 0.23 0.229 0.235 0.217 0.224 0.22\n",
      "t=-0.02395,   0 1 2 3 4 5 6 2 14 15\n",
      "    0.225 0.262 0.217 0.24 0.23 0.229 0.235 0.217 0.224 0.223\n",
      "p-value: 31/43758 0.0007084418849124731\n"
     ]
    },
    {
     "name": "stderr",
     "output_type": "stream",
     "text": [
      "Info in <TCanvas::Print>: png file t_replacement.png has been created\n"
     ]
    },
    {
     "data": {
      "image/png": "[encoded data removed]",
      "text/plain": [
       "<IPython.core.display.Image object>"
      ]
     },
     "metadata": {},
     "output_type": "display_data"
    }
   ],
   "source": [
    "SAM_B = [0.209,0.205,0.196,0.210, 0.202,0.207,0.224, 0.223, 0.220, 0.201]\n",
    "\n",
    "NA=len(SAM_A)\n",
    "NB=len(SAM_B)\n",
    "\n",
    "def get_mean(l):\n",
    "  \"\"\"\n",
    "  get the mean of a list\n",
    "  \"\"\"\n",
    "\n",
    "  n = 0\n",
    "  for i in l: n += i\n",
    "  if len(l)==0: return 0\n",
    "  else: return n/float(len(l))\n",
    "\n",
    "def get_se(l, opt=0):\n",
    "  \"\"\"\n",
    "  get the standard error\n",
    "  \"\"\"\n",
    "\n",
    "  s = 0\n",
    "  m = get_mean(l)\n",
    "  for i in l:\n",
    "    s += pow( i - m, 2)\n",
    "  if len(l)<1: return 0\n",
    "  else:\n",
    "    ## standard error of the mean\n",
    "    if opt==0:\n",
    "      return sqrt(s/float(len(l)*len(l)-1))\n",
    "    ## sample standard deviation\n",
    "    if opt==1:\n",
    "      return sqrt(s/float(len(l)-1))\n",
    "     \n",
    "\n",
    "def hypo_wald(theta0=0):\n",
    "  \"\"\"\n",
    "  Wald test\n",
    "  \"\"\"\n",
    "\n",
    "  mean_A = get_mean(SAM_A)\n",
    "  mean_B = get_mean(SAM_B)\n",
    "  se_A = get_se(SAM_A, 0)\n",
    "  se_B = get_se(SAM_B, 0)\n",
    "\n",
    "  print(\"mean: A= {0}, B= {1}\".format(mean_A, mean_B))\n",
    "  print(\"se: A= {0}, B= {1}\".format(se_A, se_B))\n",
    "\n",
    "  theta = mean_A - mean_B\n",
    "  se = sqrt ( pow(se_A, 2) + pow(se_B, 2) )\n",
    "  w = (theta - theta0) / se\n",
    "  \n",
    "  # p-value\n",
    "  p = 2 * R.Math.normal_cdf( - fabs(w) )\n",
    "\n",
    "  print(\"Wald test: w={0}, se= {1}, p-value= {2}\".format(w, se, p))\n",
    "\n",
    "def hypo_permutation():\n",
    " \n",
    "  mean_A = get_mean(SAM_A)\n",
    "  mean_B = get_mean(SAM_B)\n",
    "  tobs = mean_A - mean_B\n",
    "  print(\"A: \", SAM_A)\n",
    "  print(\"B: \", SAM_B)\n",
    "  print(\"Replacement test: t={0}\".format(tobs))\n",
    "\n",
    "  # calculate the number of replacements\n",
    "  nrep = comb(NA+NB, NA)\n",
    "  print(\"Total number of replacements {0}\".format(nrep))\n",
    "\n",
    "  sam_t = []\n",
    "  \n",
    "  tfout=R.TFile.Open(\"t_replacement_comb.root\", \"RECREATE\")\n",
    "  hname=\"t_replacement\"\n",
    "  nbins=600\n",
    "  xmin, xmax=-0.03, 0.03\n",
    "  ht = R.TH1F(hname, hname, nbins, xmin, xmax)\n",
    "\n",
    "  iit = 0\n",
    "  ng = 0\n",
    "  # mix A and B, then sample a new array\n",
    "  SAM_AB = list(SAM_A)\n",
    "  SAM_AB.extend(SAM_B)\n",
    "  for tip_A in list(itertools.combinations(SAM_AB, NA)):\n",
    "    p_A = list(tip_A)\n",
    "\n",
    "    # get the complementary array\n",
    "    p_B = list(SAM_A)\n",
    "    p_B.extend(SAM_B)\n",
    "    for ii, ie in enumerate(p_A):\n",
    "      for ij, je in enumerate(p_B):\n",
    "        if je == ie:\n",
    "          p_B.pop(ij)\n",
    "          break\n",
    "    \n",
    "    p_mean_A = get_mean(p_A) \n",
    "    p_mean_B = get_mean(p_B) \n",
    "    p_t = p_mean_A - p_mean_B\n",
    "    \n",
    "    sam_t.append(p_t)\n",
    "    ht.Fill(p_t)\n",
    "    iit +=1\n",
    "    if fabs(p_t) > fabs(tobs):\n",
    "      ng += 1\n",
    "      oline=\" \"\n",
    "      oline2=\" \"\n",
    "      for ji, je in enumerate(p_B):\n",
    "        oline+= \" {0}\".format(SAM_AB.index(je))\n",
    "        oline2+= \" {0}\".format(je)\n",
    "      print(\"t={0}, {1}\".format(p_t, oline) )\n",
    "      print(\"  {0}\".format(oline2) )\n",
    "    if iit % 10000 ==0:\n",
    "      print(\" iteration: {0}\".format(iit))\n",
    "\n",
    "  # p-value\n",
    "  pv = ng / float(nrep)\n",
    "  print(\"p-value: {0}/{1} {2}\".format(ng, nrep, pv))\n",
    "\n",
    "  myc = R.TCanvas(\"c\", \"c\", 800, 600)\n",
    "  myc.SetFillColor(0)\n",
    "\n",
    "  myc.cd()\n",
    "  ht.GetXaxis().SetTitle(\"t_{replacement}\")\n",
    "  ht.GetYaxis().SetTitle(\"Events\")\n",
    "\n",
    "  ht.Draw()\n",
    "\n",
    "  ym = ht.GetMaximum()\n",
    "  tl = R.TLine(tobs, 0, tobs, ym*0.6)\n",
    "  tl.SetLineColor(2)\n",
    "  tl.Draw(\"same\")\n",
    "\n",
    "  # Show results\n",
    "  xlab0, ylab0=0.18, 0.90\n",
    "  fv1 = R.TPaveText(xlab0, ylab0, xlab0+0.20, 0.75,\"NDC\")\n",
    "  fv1.SetBorderSize(0)\n",
    "  fv1.SetFillStyle(0)\n",
    "  fv1.SetTextAlign(11)\n",
    "  fv1.SetTextSize(0.030)\n",
    "  fv1.AddText(\"p-value: {0}/{1} = {2:.3E}\".format(ng, nrep, pv))\n",
    "  fv1.Draw(\"same\")\n",
    "\n",
    "  myc.Draw()\n",
    "  myc.SaveAs(\"t_replacement.png\")\n",
    "        \n",
    "  tfout.cd()\n",
    "  ht.Write()\n",
    "  tfout.Close() \n",
    "\n",
    "\n",
    "if __name__ == \"__main__\":\n",
    "\n",
    "  hypo_wald()\n",
    "  hypo_permutation()"
   ]
  },
  {
   "cell_type": "markdown",
   "id": "personalized-administrator",
   "metadata": {},
   "source": [
    "Draw all canvases "
   ]
  },
  {
   "cell_type": "code",
   "execution_count": 6,
   "id": "developmental-google",
   "metadata": {
    "execution": {
     "iopub.execute_input": "2021-04-19T09:49:09.945950Z",
     "iopub.status.busy": "2021-04-19T09:49:09.945619Z",
     "iopub.status.idle": "2021-04-19T09:49:10.080115Z",
     "shell.execute_reply": "2021-04-19T09:49:10.080414Z"
    }
   },
   "outputs": [
    {
     "data": {
      "image/png": "[encoded data removed]",
      "text/plain": [
       "<IPython.core.display.Image object>"
      ]
     },
     "metadata": {},
     "output_type": "display_data"
    }
   ],
   "source": [
    "from ROOT import gROOT \n",
    "gROOT.GetListOfCanvases().Draw()"
   ]
  },
  {
   "cell_type": "code",
   "execution_count": null,
   "id": "29445e2a",
   "metadata": {},
   "outputs": [],
   "source": []
  }
 ],
 "metadata": {
  "kernelspec": {
   "display_name": "Python 3 (ipykernel)",
   "language": "python",
   "name": "python3"
  },
  "language_info": {
   "codemirror_mode": {
    "name": "ipython",
    "version": 3
   },
   "file_extension": ".py",
   "mimetype": "text/x-python",
   "name": "python",
   "nbconvert_exporter": "python",
   "pygments_lexer": "ipython3",
   "version": "3.10.4"
  }
 },
 "nbformat": 4,
 "nbformat_minor": 5
}
