{
 "cells": [
  {
   "cell_type": "markdown",
   "id": "handled-burden",
   "metadata": {},
   "source": [
    "# Least_Square_Hypo\n",
    "\n",
    "\n",
    "\n",
    "\n",
    "**Author:** Lailin XU  \n",
    "<i><small>This notebook tutorial was automatically generated with <a href= \"https://github.com/root-project/root/blob/master/documentation/doxygen/converttonotebook.py\">ROOTBOOK-izer</a> from the macro found in the ROOT repository  on Tuesday, April 20, 2021 at 02:14 PM.</small></i>"
   ]
  },
  {
   "cell_type": "markdown",
   "id": "weekly-salem",
   "metadata": {},
   "source": [
    "Import the ROOT libraries"
   ]
  },
  {
   "cell_type": "code",
   "execution_count": 1,
   "id": "sexual-violin",
   "metadata": {
    "execution": {
     "iopub.execute_input": "2021-04-20T06:14:41.907629Z",
     "iopub.status.busy": "2021-04-20T06:14:41.906810Z",
     "iopub.status.idle": "2021-04-20T06:14:42.482900Z",
     "shell.execute_reply": "2021-04-20T06:14:42.483148Z"
    }
   },
   "outputs": [
    {
     "name": "stdout",
     "output_type": "stream",
     "text": [
      "Welcome to JupyROOT 6.22/07\n"
     ]
    }
   ],
   "source": [
    "import ROOT as R\n",
    "from math import pow, sqrt, fabs\n",
    "R.gROOT.SetStyle(\"ATLAS\")\n",
    "import array"
   ]
  },
  {
   "cell_type": "markdown",
   "id": "classical-extraction",
   "metadata": {},
   "source": [
    "Input data"
   ]
  },
  {
   "cell_type": "code",
   "execution_count": 2,
   "id": "reasonable-blair",
   "metadata": {
    "execution": {
     "iopub.execute_input": "2021-04-20T06:14:42.485149Z",
     "iopub.status.busy": "2021-04-20T06:14:42.484860Z",
     "iopub.status.idle": "2021-04-20T06:14:42.591964Z",
     "shell.execute_reply": "2021-04-20T06:14:42.592293Z"
    }
   },
   "outputs": [],
   "source": [
    "y1 = 0.9\n",
    "e1 = 0.1\n",
    "y2 = 1.4 \n",
    "e2 = 0.2"
   ]
  },
  {
   "cell_type": "markdown",
   "id": "polish-enzyme",
   "metadata": {},
   "source": [
    "Hypo test: Wald test\n",
    "================"
   ]
  },
  {
   "cell_type": "markdown",
   "id": "religious-witness",
   "metadata": {},
   "source": [
    "Define a test stat: y = y1 - y2, y ~ Normal(0, sigma)"
   ]
  },
  {
   "cell_type": "code",
   "execution_count": 3,
   "id": "signed-defeat",
   "metadata": {
    "execution": {
     "iopub.execute_input": "2021-04-20T06:14:42.595591Z",
     "iopub.status.busy": "2021-04-20T06:14:42.595091Z",
     "iopub.status.idle": "2021-04-20T06:14:42.705367Z",
     "shell.execute_reply": "2021-04-20T06:14:42.706012Z"
    }
   },
   "outputs": [],
   "source": [
    "y = y2 - y1\n",
    "e = sqrt(pow(e1, 2) + pow(e2, 2))"
   ]
  },
  {
   "cell_type": "markdown",
   "id": "armed-collectible",
   "metadata": {},
   "source": [
    "H0: y=0, Wald test"
   ]
  },
  {
   "cell_type": "code",
   "execution_count": 4,
   "id": "electoral-router",
   "metadata": {
    "execution": {
     "iopub.execute_input": "2021-04-20T06:14:42.743326Z",
     "iopub.status.busy": "2021-04-20T06:14:42.742838Z",
     "iopub.status.idle": "2021-04-20T06:14:42.851502Z",
     "shell.execute_reply": "2021-04-20T06:14:42.852125Z"
    }
   },
   "outputs": [
    {
     "name": "stdout",
     "output_type": "stream",
     "text": [
      "test_stat: 2.236067977499789, p-value: 0.025347318677468315\n"
     ]
    }
   ],
   "source": [
    "w = y/e\n",
    "p = 2*R.Math.normal_cdf(-fabs(w))\n",
    "\n",
    "print(\"test_stat: {0}, p-value: {1}\".format(w, p))"
   ]
  },
  {
   "cell_type": "markdown",
   "id": "dense-netscape",
   "metadata": {},
   "source": [
    "Hypo test: least square\n",
    "================"
   ]
  },
  {
   "cell_type": "markdown",
   "id": "civil-reynolds",
   "metadata": {},
   "source": [
    "MLE y"
   ]
  },
  {
   "cell_type": "code",
   "execution_count": 5,
   "id": "environmental-africa",
   "metadata": {
    "execution": {
     "iopub.execute_input": "2021-04-20T06:14:42.858787Z",
     "iopub.status.busy": "2021-04-20T06:14:42.858103Z",
     "iopub.status.idle": "2021-04-20T06:14:42.966825Z",
     "shell.execute_reply": "2021-04-20T06:14:42.967629Z"
    }
   },
   "outputs": [],
   "source": [
    "y = (y1/pow(e1, 2) + y2/pow(e2, 2)) / (1/pow(e1, 2) + 1/pow(e2, 2))\n",
    "ye = 1/sqrt( 1/pow(e1, 2) + 1/pow(e2, 2) )\n",
    "\n",
    "chi2 = pow( (y1-y)/e1, 2) + pow( (y2-y)/e2, 2)"
   ]
  },
  {
   "cell_type": "markdown",
   "id": "broad-highlight",
   "metadata": {},
   "source": [
    "P-value"
   ]
  },
  {
   "cell_type": "code",
   "execution_count": 6,
   "id": "statewide-chart",
   "metadata": {
    "execution": {
     "iopub.execute_input": "2021-04-20T06:14:42.980441Z",
     "iopub.status.busy": "2021-04-20T06:14:42.979705Z",
     "iopub.status.idle": "2021-04-20T06:14:43.089573Z",
     "shell.execute_reply": "2021-04-20T06:14:43.090222Z"
    }
   },
   "outputs": [
    {
     "name": "stdout",
     "output_type": "stream",
     "text": [
      "MLE y=0.9999999999999999, ye=0.0894427190999916, Chi2= 4.999999999999997, p-value= 0.025347318677468398\n"
     ]
    }
   ],
   "source": [
    "p = R.Math.chisquared_cdf_c(chi2, 1.)\n",
    "print(\"MLE y={2}, ye={3}, Chi2= {0}, p-value= {1}\".format(chi2, p, y, ye))"
   ]
  },
  {
   "cell_type": "markdown",
   "id": "scenic-vietnam",
   "metadata": {},
   "source": [
    "Plotting"
   ]
  },
  {
   "cell_type": "code",
   "execution_count": 7,
   "id": "integral-albert",
   "metadata": {
    "execution": {
     "iopub.execute_input": "2021-04-20T06:14:43.239311Z",
     "iopub.status.busy": "2021-04-20T06:14:43.238983Z",
     "iopub.status.idle": "2021-04-20T06:14:43.349408Z",
     "shell.execute_reply": "2021-04-20T06:14:43.349786Z"
    }
   },
   "outputs": [
    {
     "name": "stderr",
     "output_type": "stream",
     "text": [
      "Info in <TCanvas::Print>: png file exer2_hypo.png has been created\n"
     ]
    }
   ],
   "source": [
    "myc = R.TCanvas(\"c\", \"c\", 800, 600)\n",
    "myc.SetFillColor(0)\n",
    "\n",
    "myc.cd()\n",
    "\n",
    "n = 2\n",
    "ax = array.array(\"f\", [1, 2])\n",
    "axe = array.array(\"f\", [0]*n)\n",
    "ay = array.array(\"f\", [y1, y2])\n",
    "aye = array.array(\"f\", [e1, e2])\n",
    "gr = R.TGraphErrors(n, ax, ay, axe, aye)\n",
    "\n",
    "gr_comb = R.TGraphErrors(n)\n",
    "gr_comb.SetPoint(0, 1, y)\n",
    "gr_comb.SetPointError(0, 0, ye)\n",
    "gr_comb.SetPoint(1, 2, y)\n",
    "gr_comb.SetPointError(1, 0, ye)\n",
    "gr_comb.SetFillColor(R.kGreen)\n",
    "gr_comb.SetFillStyle(3002)\n",
    "\n",
    "gr.Draw(\"AP\")\n",
    "gr.GetXaxis().SetTitle(\"Measurements\")\n",
    "gr.GetYaxis().SetTitle(\"y\")\n",
    "\n",
    "gr_comb.Draw(\"same C 3\")\n",
    "myc.SaveAs(\"exer2_hypo.png\")"
   ]
  },
  {
   "cell_type": "markdown",
   "id": "minute-shower",
   "metadata": {},
   "source": [
    "Draw all canvases "
   ]
  },
  {
   "cell_type": "code",
   "execution_count": 8,
   "id": "isolated-villa",
   "metadata": {
    "execution": {
     "iopub.execute_input": "2021-04-20T06:14:43.356099Z",
     "iopub.status.busy": "2021-04-20T06:14:43.355643Z",
     "iopub.status.idle": "2021-04-20T06:14:43.529394Z",
     "shell.execute_reply": "2021-04-20T06:14:43.529678Z"
    }
   },
   "outputs": [
    {
     "data": {
      "image/png": "[encoded data removed]",
      "text/plain": [
       "<IPython.core.display.Image object>"
      ]
     },
     "metadata": {},
     "output_type": "display_data"
    }
   ],
   "source": [
    "from ROOT import gROOT \n",
    "gROOT.GetListOfCanvases().Draw()"
   ]
  }
 ],
 "metadata": {
  "kernelspec": {
   "display_name": "Python 3 (ipykernel)",
   "language": "python",
   "name": "python3"
  },
  "language_info": {
   "codemirror_mode": {
    "name": "ipython",
    "version": 3
   },
   "file_extension": ".py",
   "mimetype": "text/x-python",
   "name": "python",
   "nbconvert_exporter": "python",
   "pygments_lexer": "ipython3",
   "version": "3.10.4"
  }
 },
 "nbformat": 4,
 "nbformat_minor": 5
}
