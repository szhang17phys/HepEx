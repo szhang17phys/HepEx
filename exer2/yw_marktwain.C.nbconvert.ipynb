{
 "cells": [
  {
   "cell_type": "markdown",
   "id": "handled-spelling",
   "metadata": {},
   "source": [
    "# Yw_Marktwain\n",
    "Replacement test\n",
    "\n",
    "\n",
    "\n",
    "\n",
    "**Author:** Yanwen Liu  \n",
    "<i><small>This notebook tutorial was automatically generated with <a href= \"https://github.com/root-project/root/blob/master/documentation/doxygen/converttonotebook.py\">ROOTBOOK-izer</a> from the macro found in the ROOT repository  on Monday, April 19, 2021 at 05:59 PM.</small></i>"
   ]
  },
  {
   "cell_type": "code",
   "execution_count": null,
   "id": "compatible-soundtrack",
   "metadata": {
    "collapsed": false
   },
   "outputs": [],
   "source": [
    "%%cpp -d\n",
    "#include <algorithm>\n",
    "#include <TH1.h>\n",
    "\n",
    "using namespace std;"
   ]
  },
  {
   "cell_type": "code",
   "execution_count": null,
   "id": "modified-sunglasses",
   "metadata": {
    "collapsed": false
   },
   "outputs": [],
   "source": [
    "  // Input data\n",
    "  const int ndata = 18;\n",
    "  const int n1=8;\n",
    "  const int n2=10;\n",
    "\n",
    "  const double fracs[18] = {\n",
    " 0.225, 0.262, 0.217, 0.240, 0.230, 0.229, 0.235, 0.217,\n",
    " 0.209,0.205,0.196,0.210, 0.202,0.207,0.224, 0.223, 0.220, 0.201\n",
    "  };\n",
    "\n",
    "  // For replacement\n",
    "  std::vector<bool> flag(ndata);\n",
    "  std::fill(flag.begin(), flag.end(), false);\n",
    "  std::fill(flag.end()-n2, flag.end(), true);\n",
    "\n",
    "  // Fill a histogram for the test statistics\n",
    "  TH1F *hDiff = new TH1F(\"hDiff\", \"diffs\", 1000, -0.1, 0.1);\n",
    "  int irun=0;\n",
    "  double diff0 = 0.;\n",
    "  int ntrials = 0;\n",
    "  int np=0;\n",
    "\n",
    "  // permutation: from 18 elements, sample 8\n",
    "  do{\n",
    " double sum1=0, sum2=0;\n",
    " // Based on the flag to decide if the element is picked up or not: for a given element, it is either picked up or not\n",
    " for(int i=0; i<ndata; i++) {\n",
    "   if(flag[i]) sum2 += fracs[i];\n",
    "   else        sum1 += fracs[i];\n",
    " }\n",
    " double diff = sum1/float(n1) - sum2/float(n2);\n",
    " if(irun==0) {\n",
    "   diff0 = diff;\n",
    "   cout << diff0 << endl;\n",
    "   cout << sum1/n1 << \" \" << sum2/n2 << endl;\n",
    " }\n",
    " // Check the test stat\n",
    " if(fabs(diff) > fabs(diff0)) {\n",
    "   ++ np;\n",
    "   cout << \"\\n\";\n",
    "   cout << \"\\ndiff= \" << diff;\n",
    "   cout << \"\\n\";\n",
    "   for(int ig=0; ig < ndata; ig++) {\n",
    "     if(flag[ig]) cout << ig << \" \";\n",
    "   }\n",
    "   cout << \"\\n\";\n",
    "   for(int ig=0; ig < ndata; ig++) {\n",
    "     if(flag[ig]) cout << fracs[ig] << \" \";\n",
    "   }\n",
    " }\n",
    " // Fill the histogram\n",
    " hDiff->Fill(diff);\n",
    " ++ntrials; ++irun;\n",
    "\n",
    "  } while( std::next_permutation(flag.begin(), flag.end()) );\n",
    "\n",
    "  hDiff->Draw();\n",
    "  // Result\n",
    "  cout << \"np/ntrials = \" << double(np) << \" / \" << double(ntrials) << \" = \" << double(np)/double(ntrials) << endl;\n",
    "\n",
    "  return 0;"
   ]
  },
  {
   "cell_type": "markdown",
   "id": "fifteen-shame",
   "metadata": {},
   "source": [
    "Draw all canvases "
   ]
  },
  {
   "cell_type": "code",
   "execution_count": null,
   "id": "hollywood-hypothesis",
   "metadata": {
    "collapsed": false
   },
   "outputs": [],
   "source": [
    "gROOT->GetListOfCanvases()->Draw()"
   ]
  }
 ],
 "metadata": {
  "kernelspec": {
   "display_name": "ROOT C++",
   "language": "c++",
   "name": "root"
  },
  "language_info": {
   "codemirror_mode": "text/x-c++src",
   "file_extension": ".C",
   "mimetype": " text/x-c++src",
   "name": "c++"
  }
 },
 "nbformat": 4,
 "nbformat_minor": 5
}
