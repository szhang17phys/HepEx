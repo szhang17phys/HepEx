{
 "cells": [
  {
   "cell_type": "markdown",
   "id": "noticed-diana",
   "metadata": {},
   "source": [
    "#  B D T_Classifier\n",
    "TMVA example, for classification\n",
    " with following objectives:\n",
    " * Train a BDT with TMVA\n",
    "\n",
    "\n",
    "Modified from [ClassificationKeras.py](https://root.cern/doc/master/ClassificationKeras_8py.html) and [TMVAClassification.C](https://root.cern/doc/master/TMVAClassification_8C.html)\n",
    "\n",
    "\n",
    "**Author:** Lailin XU  \n",
    "<i><small>This notebook tutorial was automatically generated with <a href= \"https://github.com/root-project/root/blob/master/documentation/doxygen/converttonotebook.py\">ROOTBOOK-izer</a> from the macro found in the ROOT repository  on Tuesday, May 11, 2021 at 05:25 PM.</small></i>"
   ]
  },
  {
   "cell_type": "code",
   "execution_count": 1,
   "id": "blocked-photograph",
   "metadata": {
    "collapsed": false,
    "execution": {
     "iopub.execute_input": "2021-05-11T09:25:50.903389Z",
     "iopub.status.busy": "2021-05-11T09:25:50.902537Z",
     "iopub.status.idle": "2021-05-11T09:25:52.284489Z",
     "shell.execute_reply": "2021-05-11T09:25:52.284712Z"
    }
   },
   "outputs": [
    {
     "name": "stdout",
     "output_type": "stream",
     "text": [
      "Welcome to JupyROOT 6.22/07\n"
     ]
    }
   ],
   "source": [
    "from ROOT import TMVA, TFile, TTree, TCut, TH1F, TCanvas, gROOT, TLegend\n",
    "from subprocess import call\n",
    "from os.path import isfile\n",
    " "
   ]
  },
  {
   "cell_type": "markdown",
   "id": "conservative-geneva",
   "metadata": {},
   "source": [
    "Setup TMVA\n",
    "======================="
   ]
  },
  {
   "cell_type": "code",
   "execution_count": 2,
   "id": "opponent-batman",
   "metadata": {
    "collapsed": false,
    "execution": {
     "iopub.execute_input": "2021-05-11T09:25:52.323285Z",
     "iopub.status.busy": "2021-05-11T09:25:52.322968Z",
     "iopub.status.idle": "2021-05-11T09:25:52.430237Z",
     "shell.execute_reply": "2021-05-11T09:25:52.430606Z"
    }
   },
   "outputs": [],
   "source": [
    "TMVA.Tools.Instance()\n",
    "(TMVA.gConfig().GetVariablePlotting()).fMaxNumOfAllowedVariablesForScatterPlots = 5 \n",
    " \n",
    "outfileName = 'BDT_cla_1.root'\n",
    "output = TFile.Open(outfileName, 'RECREATE')"
   ]
  },
  {
   "cell_type": "markdown",
   "id": "three-reason",
   "metadata": {},
   "source": [
    "Create the factory object. Later you can choose the methods whose performance you'd like to investigate. The factory is\n",
    "   the only TMVA object you have to interact with\n",
    "  \n",
    "   The first argument is the base of the name of all the weightfiles in the directory weight/\n",
    "   The second argument is the output file for the training results"
   ]
  },
  {
   "cell_type": "code",
   "execution_count": 3,
   "id": "horizontal-asbestos",
   "metadata": {
    "collapsed": false,
    "execution": {
     "iopub.execute_input": "2021-05-11T09:25:52.475166Z",
     "iopub.status.busy": "2021-05-11T09:25:52.474768Z",
     "iopub.status.idle": "2021-05-11T09:25:52.582366Z",
     "shell.execute_reply": "2021-05-11T09:25:52.582850Z"
    }
   },
   "outputs": [],
   "source": [
    "factory = TMVA.Factory(\"TMVAClassification\", output,\n",
    "  \"!V:!Silent:Color:!DrawProgressBar:Transformations=I;D;P;G,D:AnalysisType=Classification\")\n",
    " "
   ]
  },
  {
   "cell_type": "markdown",
   "id": "closing-librarian",
   "metadata": {},
   "source": [
    "Load data\n",
    "=======================\n",
    "Training data"
   ]
  },
  {
   "cell_type": "code",
   "execution_count": 4,
   "id": "hazardous-conservation",
   "metadata": {
    "collapsed": false,
    "execution": {
     "iopub.execute_input": "2021-05-11T09:25:52.639192Z",
     "iopub.status.busy": "2021-05-11T09:25:52.638816Z",
     "iopub.status.idle": "2021-05-11T09:25:52.746256Z",
     "shell.execute_reply": "2021-05-11T09:25:52.746792Z"
    }
   },
   "outputs": [],
   "source": [
    "trfile_S = \"class_data.root\"\n",
    "if not isfile(trfile_S):\n",
    "    call(['curl', '-L', '-O', 'http://yliu.web.cern.ch/yliu/HLZ_logs/class_data.root'])\n",
    " \n",
    "data_S = TFile.Open(trfile_S)\n",
    "trname = \"signal;1\"\n",
    "tree_S = data_S.Get(trname)\n",
    "trname = \"background;1\"\n",
    "tree_B = data_S.Get(trname)\n",
    " \n",
    "dataloader = TMVA.DataLoader('dataset')\n",
    "for branch in tree_S.GetListOfBranches():\n",
    "    name = branch.GetName()\n",
    "    dataloader.AddVariable(name)\n",
    " "
   ]
  },
  {
   "cell_type": "markdown",
   "id": "charitable-plymouth",
   "metadata": {},
   "source": [
    "Add Signal and background trees"
   ]
  },
  {
   "cell_type": "code",
   "execution_count": 5,
   "id": "usual-skiing",
   "metadata": {
    "collapsed": false,
    "execution": {
     "iopub.execute_input": "2021-05-11T09:25:52.760393Z",
     "iopub.status.busy": "2021-05-11T09:25:52.759904Z",
     "iopub.status.idle": "2021-05-11T09:25:52.869944Z",
     "shell.execute_reply": "2021-05-11T09:25:52.870549Z"
    }
   },
   "outputs": [
    {
     "name": "stdout",
     "output_type": "stream",
     "text": [
      "DataSetInfo              : [dataset] : Added class \"Signal\"\n",
      "                         : Add Tree signal of type Signal with 1000000 events\n",
      "DataSetInfo              : [dataset] : Added class \"Background\"\n",
      "                         : Add Tree background of type Background with 1000000 events\n"
     ]
    }
   ],
   "source": [
    "dataloader.AddSignalTree(tree_S, 1.0)\n",
    "dataloader.AddBackgroundTree(tree_B, 1.0)"
   ]
  },
  {
   "cell_type": "markdown",
   "id": "burning-internship",
   "metadata": {},
   "source": [
    "Set individual event weights (the variables must exist in the original TTree)\n",
    "dataloader.SetSignalWeightExpression(\"weight\")\n",
    "dataloader.SetBackgroundWeightExpression(\"weight\")"
   ]
  },
  {
   "cell_type": "markdown",
   "id": "manufactured-heaven",
   "metadata": {},
   "source": [
    "Tell the dataloader how to use the training and testing events\n",
    "\n",
    "If no numbers of events are given, half of the events in the tree are used\n",
    "for training, and the other half for testing:\n",
    "\n",
    "   dataloader->PrepareTrainingAndTestTree( mycut, \"SplitMode=random:!V\" );\n",
    "\n",
    "To also specify the number of testing events, use:\n",
    "\n",
    "   dataloader->PrepareTrainingAndTestTree( mycut,\n",
    "        \"NSigTrain=3000:NBkgTrain=3000:NSigTest=3000:NBkgTest=3000:SplitMode=Random:!V\" );"
   ]
  },
  {
   "cell_type": "code",
   "execution_count": 6,
   "id": "finnish-situation",
   "metadata": {
    "collapsed": false,
    "execution": {
     "iopub.execute_input": "2021-05-11T09:25:52.883193Z",
     "iopub.status.busy": "2021-05-11T09:25:52.882446Z",
     "iopub.status.idle": "2021-05-11T09:25:52.992504Z",
     "shell.execute_reply": "2021-05-11T09:25:52.993243Z"
    }
   },
   "outputs": [
    {
     "name": "stdout",
     "output_type": "stream",
     "text": [
      "                         : Dataset[dataset] : Class index : 0  name : Signal\n",
      "                         : Dataset[dataset] : Class index : 1  name : Background\n"
     ]
    }
   ],
   "source": [
    "dataloader.PrepareTrainingAndTestTree(TCut(''), \"nTrain_Signal=10000:nTrain_Background=10000:SplitMode=Random:NormMode=NumEvents:!V\")\n",
    " "
   ]
  },
  {
   "cell_type": "markdown",
   "id": "convertible-rings",
   "metadata": {},
   "source": [
    "Generate model"
   ]
  },
  {
   "cell_type": "code",
   "execution_count": null,
   "id": "complete-password",
   "metadata": {
    "collapsed": false
   },
   "outputs": [],
   "source": [
    " "
   ]
  },
  {
   "cell_type": "markdown",
   "id": "political-creek",
   "metadata": {},
   "source": [
    "BDT"
   ]
  },
  {
   "cell_type": "code",
   "execution_count": 7,
   "id": "bridal-cruise",
   "metadata": {
    "collapsed": false,
    "execution": {
     "iopub.execute_input": "2021-05-11T09:25:53.641617Z",
     "iopub.status.busy": "2021-05-11T09:25:53.641290Z",
     "iopub.status.idle": "2021-05-11T09:25:53.749026Z",
     "shell.execute_reply": "2021-05-11T09:25:53.749407Z"
    }
   },
   "outputs": [
    {
     "data": {
      "text/plain": [
       "<cppyy.gbl.TMVA.MethodBDT object at 0x1490f7000>"
      ]
     },
     "execution_count": 1,
     "metadata": {},
     "output_type": "execute_result"
    },
    {
     "name": "stdout",
     "output_type": "stream",
     "text": [
      "Factory                  : Booking method: \u001b[1mBDT\u001b[0m\n",
      "                         : \n",
      "                         : Building event vectors for type 2 Signal\n",
      "                         : Dataset[dataset] :  create input formulas for tree signal\n",
      "                         : Building event vectors for type 2 Background\n",
      "                         : Dataset[dataset] :  create input formulas for tree background\n",
      "DataSetFactory           : [dataset] : Number of events in input trees\n",
      "                         : \n",
      "                         : \n",
      "                         : Number of training and testing events\n",
      "                         : ---------------------------------------------------------------------------\n",
      "                         : Signal     -- training events            : 10000\n",
      "                         : Signal     -- testing events             : 990000\n",
      "                         : Signal     -- training and testing events: 1000000\n",
      "                         : Background -- training events            : 10000\n",
      "                         : Background -- testing events             : 990000\n",
      "                         : Background -- training and testing events: 1000000\n",
      "                         : \n",
      "DataSetInfo              : Correlation matrix (Signal):\n",
      "                         : ------------------------\n",
      "                         :               X1      X2\n",
      "                         :      X1:  +1.000  +0.010\n",
      "                         :      X2:  +0.010  +1.000\n",
      "                         : ------------------------\n",
      "DataSetInfo              : Correlation matrix (Background):\n",
      "                         : ------------------------\n",
      "                         :               X1      X2\n",
      "                         :      X1:  +1.000  -0.980\n",
      "                         :      X2:  -0.980  +1.000\n",
      "                         : ------------------------\n",
      "DataSetFactory           : [dataset] :  \n",
      "                         : \n",
      "Factory                  : Booking method: \u001b[1mBDTG\u001b[0m\n",
      "                         : \n",
      "                         : the option NegWeightTreatment=InverseBoostNegWeights does not exist for BoostType=Grad\n",
      "                         : --> change to new default NegWeightTreatment=Pray\n"
     ]
    }
   ],
   "source": [
    "factory.BookMethod( dataloader,  TMVA.Types.kBDT, \"BDT\",\n",
    "  \"!H:!V:NTrees=100:MinNodeSize=2.5%:MaxDepth=3:BoostType=AdaBoost:AdaBoostBeta=0.5:UseBaggedBoost:BaggedSampleFraction=0.5:SeparationType=GiniIndex:nCuts=20\")\n",
    "factory.BookMethod( dataloader,  TMVA.Types.kBDT, \"BDTG\",\n",
    "  \"!H:!V:NTrees=1000:MinNodeSize=2.5%:BoostType=Grad:Shrinkage=0.10:UseBaggedBoost:BaggedSampleFraction=0.5:nCuts=20:MaxDepth=2\")"
   ]
  },
  {
   "cell_type": "markdown",
   "id": "living-phone",
   "metadata": {},
   "source": [
    "ANN"
   ]
  },
  {
   "cell_type": "code",
   "execution_count": 8,
   "id": "expanded-value",
   "metadata": {
    "collapsed": false,
    "execution": {
     "iopub.execute_input": "2021-05-11T09:25:53.775701Z",
     "iopub.status.busy": "2021-05-11T09:25:53.775268Z",
     "iopub.status.idle": "2021-05-11T09:25:53.883604Z",
     "shell.execute_reply": "2021-05-11T09:25:53.884226Z"
    }
   },
   "outputs": [
    {
     "data": {
      "text/plain": [
       "<cppyy.gbl.TMVA.MethodMLP object at 0x15c030600>"
      ]
     },
     "execution_count": 1,
     "metadata": {},
     "output_type": "execute_result"
    },
    {
     "name": "stdout",
     "output_type": "stream",
     "text": [
      "Factory                  : Booking method: \u001b[1mMLP\u001b[0m\n",
      "                         : \n",
      "MLP                      : [dataset] : Create Transformation \"N\" with events from all classes.\n",
      "                         : \n",
      "                         : Transformation, Variable selection : \n",
      "                         : Input : variable 'X1' <---> Output : variable 'X1'\n",
      "                         : Input : variable 'X2' <---> Output : variable 'X2'\n",
      "MLP                      : Building Network. \n",
      "                         : Initializing weights\n"
     ]
    }
   ],
   "source": [
    "factory.BookMethod( dataloader, TMVA.Types.kMLP, \"MLP\",\n",
    "  \"H:!V:NeuronType=tanh:VarTransform=N:NCycles=600:HiddenLayers=N+5:TestRate=5:!UseRegulator\" )\n",
    "\n",
    " "
   ]
  },
  {
   "cell_type": "markdown",
   "id": "listed-glucose",
   "metadata": {},
   "source": [
    "Run TMVA"
   ]
  },
  {
   "cell_type": "code",
   "execution_count": 9,
   "id": "disabled-hollow",
   "metadata": {
    "collapsed": false,
    "execution": {
     "iopub.execute_input": "2021-05-11T09:29:48.170532Z",
     "iopub.status.busy": "2021-05-11T09:29:48.170212Z",
     "iopub.status.idle": "2021-05-11T09:29:48.275246Z",
     "shell.execute_reply": "2021-05-11T09:29:48.275536Z"
    }
   },
   "outputs": [
    {
     "name": "stdout",
     "output_type": "stream",
     "text": [
      "Factory                  : \u001b[1mTrain all methods\u001b[0m\n",
      "Factory                  : [dataset] : Create Transformation \"I\" with events from all classes.\n",
      "                         : \n",
      "                         : Transformation, Variable selection : \n",
      "                         : Input : variable 'X1' <---> Output : variable 'X1'\n",
      "                         : Input : variable 'X2' <---> Output : variable 'X2'\n",
      "Factory                  : [dataset] : Create Transformation \"D\" with events from all classes.\n",
      "                         : \n",
      "                         : Transformation, Variable selection : \n",
      "                         : Input : variable 'X1' <---> Output : variable 'X1'\n",
      "                         : Input : variable 'X2' <---> Output : variable 'X2'\n",
      "Factory                  : [dataset] : Create Transformation \"P\" with events from all classes.\n",
      "                         : \n",
      "                         : Transformation, Variable selection : \n",
      "                         : Input : variable 'X1' <---> Output : variable 'X1'\n",
      "                         : Input : variable 'X2' <---> Output : variable 'X2'\n",
      "Factory                  : [dataset] : Create Transformation \"G\" with events from all classes.\n",
      "                         : \n",
      "                         : Transformation, Variable selection : \n",
      "                         : Input : variable 'X1' <---> Output : variable 'X1'\n",
      "                         : Input : variable 'X2' <---> Output : variable 'X2'\n",
      "Factory                  : [dataset] : Create Transformation \"D\" with events from all classes.\n",
      "                         : \n",
      "                         : Transformation, Variable selection : \n",
      "                         : Input : variable 'X1' <---> Output : variable 'X1'\n",
      "                         : Input : variable 'X2' <---> Output : variable 'X2'\n",
      "TFHandler_Factory        : Variable        Mean        RMS   [        Min        Max ]\n",
      "                         : -----------------------------------------------------------\n",
      "                         :       X1:    0.57957     6.1448   [    -36.069     31.831 ]\n",
      "                         :       X2:    0.47918     2.0457   [    -8.2575     11.737 ]\n",
      "                         : -----------------------------------------------------------\n",
      "                         : Preparing the Decorrelation transformation...\n",
      "TFHandler_Factory        : Variable        Mean        RMS   [        Min        Max ]\n",
      "                         : -----------------------------------------------------------\n",
      "                         :       X1:    0.23823     1.0000   [    -5.3803     5.3917 ]\n",
      "                         :       X2:    0.57702     1.0000   [    -3.7060     3.9386 ]\n",
      "                         : -----------------------------------------------------------\n",
      "                         : Preparing the Principle Component (PCA) transformation...\n",
      "TFHandler_Factory        : Variable        Mean        RMS   [        Min        Max ]\n",
      "                         : -----------------------------------------------------------\n",
      "                         :       X1:-1.8974e-09     6.3981   [    -38.336     32.411 ]\n",
      "                         :       X2: 1.7300e-10     1.0039   [    -2.9664     4.4649 ]\n",
      "                         : -----------------------------------------------------------\n",
      "                         : Preparing the Gaussian transformation...\n",
      "                         : Preparing the Decorrelation transformation...\n",
      "TFHandler_Factory        : Variable        Mean        RMS   [        Min        Max ]\n",
      "                         : -----------------------------------------------------------\n",
      "                         :       X1:  0.0070727     1.0000   [    -2.3818     6.0870 ]\n",
      "                         :       X2:  0.0067566     1.0000   [    -3.1509     5.8840 ]\n",
      "                         : -----------------------------------------------------------\n",
      "                         : Ranking input variables (method unspecific)...\n",
      "IdTransformation         : Ranking result (top variable is best ranked)\n",
      "                         : ---------------------------\n",
      "                         : Rank : Variable  : Separation\n",
      "                         : ---------------------------\n",
      "                         :    1 : X1        : 6.252e-01\n",
      "                         :    2 : X2        : 2.880e-01\n",
      "                         : ---------------------------\n",
      "Factory                  : Train method: BDT for Classification\n",
      "                         : \n",
      "BDT                      : #events: (reweighted) sig: 10000 bkg: 10000\n",
      "                         : #events: (unweighted) sig: 10000 bkg: 10000\n",
      "                         : Training 100 Decision Trees ... patience please\n",
      "                         : Elapsed time for training with 20000 events: 0.16 sec         \n",
      "BDT                      : [dataset] : Evaluation of BDT on training sample (20000 events)\n",
      "                         : Elapsed time for evaluation of 20000 events: 0.0303 sec       \n",
      "                         : Creating xml weight file: \u001b[0;36mdataset/weights/TMVAClassification_BDT.weights.xml\u001b[0m\n",
      "                         : Creating standalone class: \u001b[0;36mdataset/weights/TMVAClassification_BDT.class.C\u001b[0m\n",
      "                         : BDT_cla_1.root:/dataset/Method_BDT/BDT\n",
      "Factory                  : Training finished\n",
      "                         : \n",
      "Factory                  : Train method: BDTG for Classification\n",
      "                         : \n",
      "BDTG                     : #events: (reweighted) sig: 10000 bkg: 10000\n",
      "                         : #events: (unweighted) sig: 10000 bkg: 10000\n",
      "                         : Training 1000 Decision Trees ... patience please\n",
      "                         : Elapsed time for training with 20000 events: 2.29 sec         \n",
      "BDTG                     : [dataset] : Evaluation of BDTG on training sample (20000 events)\n",
      "                         : Elapsed time for evaluation of 20000 events: 0.447 sec       \n",
      "                         : Creating xml weight file: \u001b[0;36mdataset/weights/TMVAClassification_BDTG.weights.xml\u001b[0m\n",
      "                         : Creating standalone class: \u001b[0;36mdataset/weights/TMVAClassification_BDTG.class.C\u001b[0m\n",
      "                         : BDT_cla_1.root:/dataset/Method_BDT/BDTG\n",
      "Factory                  : Training finished\n",
      "                         : \n",
      "Factory                  : Train method: MLP for Classification\n",
      "                         : \n",
      "                         : \n",
      "                         : \u001b[1m================================================================\u001b[0m\n",
      "                         : \u001b[1mH e l p   f o r   M V A   m e t h o d   [ MLP ] :\u001b[0m\n",
      "                         : \n",
      "                         : \u001b[1m--- Short description:\u001b[0m\n",
      "                         : \n",
      "                         : The MLP artificial neural network (ANN) is a traditional feed-\n",
      "                         : forward multilayer perceptron implementation. The MLP has a user-\n",
      "                         : defined hidden layer architecture, while the number of input (output)\n",
      "                         : nodes is determined by the input variables (output classes, i.e., \n",
      "                         : signal and one background). \n",
      "                         : \n",
      "                         : \u001b[1m--- Performance optimisation:\u001b[0m\n",
      "                         : \n",
      "                         : Neural networks are stable and performing for a large variety of \n",
      "                         : linear and non-linear classification problems. However, in contrast\n",
      "                         : to (e.g.) boosted decision trees, the user is advised to reduce the \n",
      "                         : number of input variables that have only little discrimination power. \n",
      "                         : \n",
      "                         : In the tests we have carried out so far, the MLP and ROOT networks\n",
      "                         : (TMlpANN, interfaced via TMVA) performed equally well, with however\n",
      "                         : a clear speed advantage for the MLP. The Clermont-Ferrand neural \n",
      "                         : net (CFMlpANN) exhibited worse classification performance in these\n",
      "                         : tests, which is partly due to the slow convergence of its training\n",
      "                         : (at least 10k training cycles are required to achieve approximately\n",
      "                         : competitive results).\n",
      "                         : \n",
      "                         : \u001b[1mOvertraining: \u001b[0monly the TMlpANN performs an explicit separation of the\n",
      "                         : full training sample into independent training and validation samples.\n",
      "                         : We have found that in most high-energy physics applications the \n",
      "                         : available degrees of freedom (training events) are sufficient to \n",
      "                         : constrain the weights of the relatively simple architectures required\n",
      "                         : to achieve good performance. Hence no overtraining should occur, and \n",
      "                         : the use of validation samples would only reduce the available training\n",
      "                         : information. However, if the performance on the training sample is \n",
      "                         : found to be significantly better than the one found with the inde-\n",
      "                         : pendent test sample, caution is needed. The results for these samples \n",
      "                         : are printed to standard output at the end of each training job.\n",
      "                         : \n",
      "                         : \u001b[1m--- Performance tuning via configuration options:\u001b[0m\n",
      "                         : \n",
      "                         : The hidden layer architecture for all ANNs is defined by the option\n",
      "                         : \"HiddenLayers=N+1,N,...\", where here the first hidden layer has N+1\n",
      "                         : neurons and the second N neurons (and so on), and where N is the number  \n",
      "                         : of input variables. Excessive numbers of hidden layers should be avoided,\n",
      "                         : in favour of more neurons in the first hidden layer.\n",
      "                         : \n",
      "                         : The number of cycles should be above 500. As said, if the number of\n",
      "                         : adjustable weights is small compared to the training sample size,\n",
      "                         : using a large number of training samples should not lead to overtraining.\n",
      "                         : \n",
      "                         : <Suppress this message by specifying \"!H\" in the booking option>\n",
      "                         : \u001b[1m================================================================\u001b[0m\n",
      "                         : \n",
      "TFHandler_MLP            : Variable        Mean        RMS   [        Min        Max ]\n",
      "                         : -----------------------------------------------------------\n",
      "                         :       X1:   0.079493    0.18100   [    -1.0000     1.0000 ]\n",
      "                         :       X2:   -0.12607    0.20464   [    -1.0000     1.0000 ]\n",
      "                         : -----------------------------------------------------------\n",
      "                         : Training Network\n",
      "                         : \n",
      "                         : Elapsed time for training with 20000 events: 154 sec         \n",
      "MLP                      : [dataset] : Evaluation of MLP on training sample (20000 events)\n",
      "                         : Elapsed time for evaluation of 20000 events: 0.0111 sec       \n",
      "                         : Creating xml weight file: \u001b[0;36mdataset/weights/TMVAClassification_MLP.weights.xml\u001b[0m\n",
      "                         : Creating standalone class: \u001b[0;36mdataset/weights/TMVAClassification_MLP.class.C\u001b[0m\n",
      "                         : Write special histos to file: BDT_cla_1.root:/dataset/Method_MLP/MLP\n",
      "Factory                  : Training finished\n",
      "                         : \n",
      "                         : Ranking input variables (method specific)...\n",
      "BDT                      : Ranking result (top variable is best ranked)\n",
      "                         : ------------------------------------\n",
      "                         : Rank : Variable  : Variable Importance\n",
      "                         : ------------------------------------\n",
      "                         :    1 : X1        : 5.413e-01\n",
      "                         :    2 : X2        : 4.587e-01\n",
      "                         : ------------------------------------\n",
      "BDTG                     : Ranking result (top variable is best ranked)\n",
      "                         : ------------------------------------\n",
      "                         : Rank : Variable  : Variable Importance\n",
      "                         : ------------------------------------\n",
      "                         :    1 : X2        : 5.405e-01\n",
      "                         :    2 : X1        : 4.595e-01\n",
      "                         : ------------------------------------\n",
      "MLP                      : Ranking result (top variable is best ranked)\n",
      "                         : ---------------------------\n",
      "                         : Rank : Variable  : Importance\n",
      "                         : ---------------------------\n",
      "                         :    1 : X1        : 1.206e+01\n",
      "                         :    2 : X2        : 4.290e+00\n",
      "                         : ---------------------------\n",
      "Factory                  : === Destroy and recreate all methods via weight files for testing ===\n",
      "                         : \n",
      "                         : Reading weight file: \u001b[0;36mdataset/weights/TMVAClassification_BDT.weights.xml\u001b[0m\n",
      "                         : Reading weight file: \u001b[0;36mdataset/weights/TMVAClassification_BDTG.weights.xml\u001b[0m\n",
      "                         : Reading weight file: \u001b[0;36mdataset/weights/TMVAClassification_MLP.weights.xml\u001b[0m\n",
      "MLP                      : Building Network. \n",
      "                         : Initializing weights\n",
      "Factory                  : \u001b[1mTest all methods\u001b[0m\n",
      "Factory                  : Test method: BDT for Classification performance\n",
      "                         : \n",
      "BDT                      : [dataset] : Evaluation of BDT on testing sample (1980000 events)\n",
      "                         : Elapsed time for evaluation of 1980000 events: 3.14 sec       \n",
      "Factory                  : Test method: BDTG for Classification performance\n",
      "                         : \n",
      "BDTG                     : [dataset] : Evaluation of BDTG on testing sample (1980000 events)\n",
      "                         : Elapsed time for evaluation of 1980000 events: 37.1 sec       \n",
      "Factory                  : Test method: MLP for Classification performance\n",
      "                         : \n",
      "MLP                      : [dataset] : Evaluation of MLP on testing sample (1980000 events)\n",
      "                         : Elapsed time for evaluation of 1980000 events: 1.09 sec       \n",
      "Factory                  : \u001b[1mEvaluate all methods\u001b[0m\n",
      "Factory                  : Evaluate classifier: BDT\n",
      "                         : \n",
      "BDT                      : [dataset] : Loop over test events and fill histograms with classifier response...\n",
      "                         : \n",
      "TFHandler_BDT            : Variable        Mean        RMS   [        Min        Max ]\n",
      "                         : -----------------------------------------------------------\n",
      "                         :       X1:    0.50526     6.1543   [    -38.553     40.359 ]\n",
      "                         :       X2:    0.49764     2.0594   [    -11.229     14.077 ]\n",
      "                         : -----------------------------------------------------------\n",
      "Factory                  : Evaluate classifier: BDTG\n",
      "                         : \n",
      "BDTG                     : [dataset] : Loop over test events and fill histograms with classifier response...\n",
      "                         : \n",
      "TFHandler_BDTG           : Variable        Mean        RMS   [        Min        Max ]\n",
      "                         : -----------------------------------------------------------\n",
      "                         :       X1:    0.50526     6.1543   [    -38.553     40.359 ]\n",
      "                         :       X2:    0.49764     2.0594   [    -11.229     14.077 ]\n",
      "                         : -----------------------------------------------------------\n",
      "Factory                  : Evaluate classifier: MLP\n",
      "                         : \n",
      "TFHandler_MLP            : Variable        Mean        RMS   [        Min        Max ]\n",
      "                         : -----------------------------------------------------------\n",
      "                         :       X1:   0.077304    0.18128   [    -1.0732     1.2512 ]\n",
      "                         :       X2:   -0.12423    0.20600   [    -1.2972     1.2341 ]\n",
      "                         : -----------------------------------------------------------\n",
      "MLP                      : [dataset] : Loop over test events and fill histograms with classifier response...\n",
      "                         : \n",
      "TFHandler_MLP            : Variable        Mean        RMS   [        Min        Max ]\n",
      "                         : -----------------------------------------------------------\n",
      "                         :       X1:   0.077304    0.18128   [    -1.0732     1.2512 ]\n",
      "                         :       X2:   -0.12423    0.20600   [    -1.2972     1.2341 ]\n",
      "                         : -----------------------------------------------------------\n",
      "                         : \n",
      "                         : Evaluation results ranked by best signal efficiency and purity (area)\n",
      "                         : -------------------------------------------------------------------------------------------------------------------\n",
      "                         : DataSet       MVA                       \n",
      "                         : Name:         Method:          ROC-integ\n",
      "                         : dataset       MLP            : 0.977\n",
      "                         : dataset       BDTG           : 0.977\n",
      "                         : dataset       BDT            : 0.976\n",
      "                         : -------------------------------------------------------------------------------------------------------------------\n",
      "                         : \n",
      "                         : Testing efficiency compared to training efficiency (overtraining check)\n",
      "                         : -------------------------------------------------------------------------------------------------------------------\n",
      "                         : DataSet              MVA              Signal efficiency: from test sample (from training sample) \n",
      "                         : Name:                Method:          @B=0.01             @B=0.10            @B=0.30   \n",
      "                         : -------------------------------------------------------------------------------------------------------------------\n",
      "                         : dataset              MLP            : 0.676 (0.679)       0.920 (0.917)      1.000 (1.000)\n",
      "                         : dataset              BDTG           : 0.672 (0.688)       0.918 (0.921)      1.000 (1.000)\n",
      "                         : dataset              BDT            : 0.670 (0.680)       0.905 (0.906)      1.000 (1.000)\n",
      "                         : -------------------------------------------------------------------------------------------------------------------\n",
      "                         : \n",
      "Dataset:dataset          : Created tree 'TestTree' with 1980000 events\n",
      "                         : \n",
      "Dataset:dataset          : Created tree 'TrainTree' with 20000 events\n",
      "                         : \n",
      "Factory                  : \u001b[1mThank you for using TMVA!\u001b[0m\n",
      "                         : \u001b[1mFor citation information, please visit: http://tmva.sf.net/citeTMVA.html\u001b[0m\n"
     ]
    }
   ],
   "source": [
    "factory.TrainAllMethods()\n",
    "factory.TestAllMethods()\n",
    "factory.EvaluateAllMethods()\n",
    "\n",
    "output.Close()"
   ]
  },
  {
   "cell_type": "markdown",
   "id": "statewide-disabled",
   "metadata": {},
   "source": [
    "Testing\n",
    "======================"
   ]
  },
  {
   "cell_type": "code",
   "execution_count": 10,
   "id": "binding-supplier",
   "metadata": {
    "collapsed": false,
    "execution": {
     "iopub.execute_input": "2021-05-11T09:29:48.278599Z",
     "iopub.status.busy": "2021-05-11T09:29:48.278204Z",
     "iopub.status.idle": "2021-05-11T09:29:48.390084Z",
     "shell.execute_reply": "2021-05-11T09:29:48.390935Z"
    }
   },
   "outputs": [],
   "source": [
    "outfileName = 'BDT_cla_1.root'\n",
    "tfin = TFile.Open(outfileName, 'READ')"
   ]
  },
  {
   "cell_type": "markdown",
   "id": "caroline-letter",
   "metadata": {},
   "source": [
    "Helper function to fill histograms"
   ]
  },
  {
   "cell_type": "code",
   "execution_count": 11,
   "id": "surprised-phone",
   "metadata": {
    "collapsed": false,
    "execution": {
     "iopub.execute_input": "2021-05-11T09:29:48.405736Z",
     "iopub.status.busy": "2021-05-11T09:29:48.405307Z",
     "iopub.status.idle": "2021-05-11T09:29:48.517193Z",
     "shell.execute_reply": "2021-05-11T09:29:48.518257Z"
    }
   },
   "outputs": [],
   "source": [
    "def fill_hists(tr, tag):\n",
    "  nevents = tr.GetEntries()\n",
    "\n",
    "  nbins, xmin, xmax=20, -1, 1\n",
    "  hname=\"BDT_S_{0}\".format(tag)\n",
    "  h1 = TH1F(hname, hname, nbins, xmin, xmax)\n",
    "  h1.Sumw2()\n",
    "  hname=\"BDTG_S_{0}\".format(tag)\n",
    "  h2 = TH1F(hname, hname, nbins, xmin, xmax)\n",
    "  h2.Sumw2()\n",
    "  hname=\"BDT_B_{0}\".format(tag)\n",
    "  h3 = TH1F(hname, hname, nbins, xmin, xmax)\n",
    "  h3.Sumw2()\n",
    "  hname=\"BDTG_B_{0}\".format(tag)\n",
    "  h4 = TH1F(hname, hname, nbins, xmin, xmax)\n",
    "  h4.Sumw2()\n",
    "\n",
    "  nbins, xmin, xmax=20, 0, 1\n",
    "  hname=\"MLP_S_{0}\".format(tag)\n",
    "  h5 = TH1F(hname, hname, nbins, xmin, xmax)\n",
    "  h5.Sumw2()\n",
    "  hname=\"MLP_B_{0}\".format(tag)\n",
    "  h6 = TH1F(hname, hname, nbins, xmin, xmax)\n",
    "  h6.Sumw2()\n",
    "  \n",
    "  for i in range(nevents):\n",
    "    tr.GetEntry(i)\n",
    " \n",
    "    BDT = tr.BDT     \n",
    "    BDTG = tr.BDTG     \n",
    "    MLP = tr.MLP\n",
    "    # Signal\n",
    "    if tr.classID == 0:\n",
    "      h1.Fill(BDT)\n",
    "      h2.Fill(BDTG)\n",
    "      h5.Fill(MLP)\n",
    "    # Background\n",
    "    if tr.classID == 1:\n",
    "      h3.Fill(BDT)\n",
    "      h4.Fill(BDTG)\n",
    "      h6.Fill(MLP)\n",
    "    \n",
    "  return [h1, h2, h3, h4, h5, h6]"
   ]
  },
  {
   "cell_type": "markdown",
   "id": "alternate-porter",
   "metadata": {},
   "source": [
    "Helper function to normalize hists"
   ]
  },
  {
   "cell_type": "code",
   "execution_count": 12,
   "id": "floral-single",
   "metadata": {
    "collapsed": false,
    "execution": {
     "iopub.execute_input": "2021-05-11T09:29:48.528729Z",
     "iopub.status.busy": "2021-05-11T09:29:48.527585Z",
     "iopub.status.idle": "2021-05-11T09:29:48.636752Z",
     "shell.execute_reply": "2021-05-11T09:29:48.637915Z"
    }
   },
   "outputs": [],
   "source": [
    "def norm_hists(h):\n",
    "\n",
    "  h_new = h.Clone()\n",
    "  hname = h.GetName() + \"_normalized\"\n",
    "  h_new.SetName(hname)\n",
    "  h_new.SetTitle(hname)\n",
    "  ntot = h.Integral()\n",
    "  if ntot!=0:\n",
    "    h_new.Scale(1./ntot)\n",
    "\n",
    "  return h_new"
   ]
  },
  {
   "cell_type": "markdown",
   "id": "selected-ebony",
   "metadata": {},
   "source": [
    "Fill histograms"
   ]
  },
  {
   "cell_type": "code",
   "execution_count": 13,
   "id": "minimal-mambo",
   "metadata": {
    "collapsed": false,
    "execution": {
     "iopub.execute_input": "2021-05-11T09:29:48.742343Z",
     "iopub.status.busy": "2021-05-11T09:29:48.699406Z",
     "iopub.status.idle": "2021-05-11T09:30:01.102095Z",
     "shell.execute_reply": "2021-05-11T09:30:01.102468Z"
    }
   },
   "outputs": [],
   "source": [
    "tr_train = tfin.Get(\"dataset/TrainTree\")\n",
    "h_train = fill_hists(tr_train, \"train\")\n",
    "\n",
    "tr_test = tfin.Get(\"dataset/TestTree\")\n",
    "h_test = fill_hists(tr_test, \"test\")"
   ]
  },
  {
   "cell_type": "markdown",
   "id": "celtic-sending",
   "metadata": {},
   "source": [
    "Plotting"
   ]
  },
  {
   "cell_type": "code",
   "execution_count": 14,
   "id": "neither-assignment",
   "metadata": {
    "collapsed": false,
    "execution": {
     "iopub.execute_input": "2021-05-11T09:30:01.116856Z",
     "iopub.status.busy": "2021-05-11T09:30:01.116351Z",
     "iopub.status.idle": "2021-05-11T09:30:01.234054Z",
     "shell.execute_reply": "2021-05-11T09:30:01.234754Z"
    }
   },
   "outputs": [
    {
     "data": {
      "text/plain": [
       "<cppyy.gbl.TCanvas object at 0x1387d8c20>"
      ]
     },
     "execution_count": 1,
     "metadata": {},
     "output_type": "execute_result"
    }
   ],
   "source": [
    "myc = TCanvas(\"c\", \"c\", 800, 600)\n",
    "myc.SetFillColor(0)\n",
    "myc.cd()"
   ]
  },
  {
   "cell_type": "markdown",
   "id": "equivalent-demand",
   "metadata": {},
   "source": [
    "Train vs Test\n",
    "===============\n",
    "BDT"
   ]
  },
  {
   "cell_type": "code",
   "execution_count": 15,
   "id": "developing-hometown",
   "metadata": {
    "collapsed": false,
    "execution": {
     "iopub.execute_input": "2021-05-11T09:30:01.265978Z",
     "iopub.status.busy": "2021-05-11T09:30:01.265402Z",
     "iopub.status.idle": "2021-05-11T09:30:01.376169Z",
     "shell.execute_reply": "2021-05-11T09:30:01.377155Z"
    }
   },
   "outputs": [],
   "source": [
    "h1 = norm_hists(h_train[0])\n",
    "h1.GetXaxis().SetTitle(\"BDT\")\n",
    "h1.GetYaxis().SetTitle(\"A.U.\")\n",
    "h1.Draw()\n",
    "h2 = norm_hists(h_test[0])\n",
    "h2.Draw(\"same hist\")\n",
    "h3 = norm_hists(h_train[2])\n",
    "h3.SetLineColor(2)\n",
    "h3.SetMarkerColor(2)\n",
    "h3.Draw(\"same\")\n",
    "h4 = norm_hists(h_test[2])\n",
    "h4.SetLineColor(2)\n",
    "h4.SetMarkerColor(2)\n",
    "h4.Draw(\"same hist\")\n",
    "\n",
    "ymin = 0\n",
    "ymax = max(h1.GetMaximum(), h2.GetMaximum(), h3.GetMaximum(), h4.GetMaximum())\n",
    "h1.GetYaxis().SetRangeUser(ymin, ymax*1.2)"
   ]
  },
  {
   "cell_type": "markdown",
   "id": "circular-premiere",
   "metadata": {},
   "source": [
    "Draw legends"
   ]
  },
  {
   "cell_type": "code",
   "execution_count": 16,
   "id": "published-insured",
   "metadata": {
    "collapsed": false,
    "execution": {
     "iopub.execute_input": "2021-05-11T09:30:01.505369Z",
     "iopub.status.busy": "2021-05-11T09:30:01.505048Z",
     "iopub.status.idle": "2021-05-11T09:30:01.656568Z",
     "shell.execute_reply": "2021-05-11T09:30:01.656778Z"
    }
   },
   "outputs": [
    {
     "name": "stderr",
     "output_type": "stream",
     "text": [
      "Info in <TCanvas::Print>: png file BDT_cla_test_1.png has been created\n"
     ]
    },
    {
     "data": {
      "image/png": "[encoded data removed]",
      "text/plain": [
       "<IPython.core.display.Image object>"
      ]
     },
     "metadata": {},
     "output_type": "display_data"
    }
   ],
   "source": [
    "lIy = 0.92\n",
    "lg = TLegend(0.60, lIy-0.25, 0.85, lIy)\n",
    "lg.SetBorderSize(0)\n",
    "lg.SetFillStyle(0)\n",
    "lg.SetTextFont(42)\n",
    "lg.SetTextSize(0.04)\n",
    "lg.AddEntry(h1, \"Training S\", \"lp\")\n",
    "lg.AddEntry(h2, \"Testing S\", \"l\")\n",
    "lg.AddEntry(h3, \"Training B\", \"lp\")\n",
    "lg.AddEntry(h4, \"Testing B\", \"l\")\n",
    "lg.Draw()\n",
    "\n",
    "myc.Draw()\n",
    "myc.SaveAs(\"BDT_cla_test_1.png\")"
   ]
  },
  {
   "cell_type": "markdown",
   "id": "taken-module",
   "metadata": {},
   "source": [
    "BDTG"
   ]
  },
  {
   "cell_type": "code",
   "execution_count": 17,
   "id": "described-disposition",
   "metadata": {
    "collapsed": false,
    "execution": {
     "iopub.execute_input": "2021-05-11T09:30:01.660061Z",
     "iopub.status.busy": "2021-05-11T09:30:01.659662Z",
     "iopub.status.idle": "2021-05-11T09:30:01.767004Z",
     "shell.execute_reply": "2021-05-11T09:30:01.767391Z"
    }
   },
   "outputs": [],
   "source": [
    "h1 = norm_hists(h_train[1])\n",
    "h1.GetXaxis().SetTitle(\"BDTG\")\n",
    "h1.GetYaxis().SetTitle(\"A.U.\")\n",
    "h1.Draw()\n",
    "h2 = norm_hists(h_test[1])\n",
    "h2.Draw(\"same hist\")\n",
    "h3 = norm_hists(h_train[3])\n",
    "h3.SetLineColor(2)\n",
    "h3.SetMarkerColor(2)\n",
    "h3.Draw(\"same\")\n",
    "h4 = norm_hists(h_test[3])\n",
    "h4.SetLineColor(2)\n",
    "h4.SetMarkerColor(2)\n",
    "h4.Draw(\"same hist\")\n",
    "\n",
    "ymin = 0\n",
    "ymax = max(h1.GetMaximum(), h2.GetMaximum(), h3.GetMaximum(), h4.GetMaximum())\n",
    "h1.GetYaxis().SetRangeUser(ymin, ymax*1.2)"
   ]
  },
  {
   "cell_type": "markdown",
   "id": "minimal-motorcycle",
   "metadata": {},
   "source": [
    "Draw legends"
   ]
  },
  {
   "cell_type": "code",
   "execution_count": 18,
   "id": "linear-permission",
   "metadata": {
    "collapsed": false,
    "execution": {
     "iopub.execute_input": "2021-05-11T09:30:01.800747Z",
     "iopub.status.busy": "2021-05-11T09:30:01.800364Z",
     "iopub.status.idle": "2021-05-11T09:30:01.947566Z",
     "shell.execute_reply": "2021-05-11T09:30:01.947856Z"
    }
   },
   "outputs": [
    {
     "name": "stderr",
     "output_type": "stream",
     "text": [
      "Info in <TCanvas::Print>: png file BDT_cla_test_2.png has been created\n"
     ]
    },
    {
     "data": {
      "image/png": "[encoded data removed]",
      "text/plain": [
       "<IPython.core.display.Image object>"
      ]
     },
     "metadata": {},
     "output_type": "display_data"
    }
   ],
   "source": [
    "lIy = 0.92\n",
    "lg = TLegend(0.60, lIy-0.25, 0.85, lIy)\n",
    "lg.SetBorderSize(0)\n",
    "lg.SetFillStyle(0)\n",
    "lg.SetTextFont(42)\n",
    "lg.SetTextSize(0.04)\n",
    "lg.AddEntry(h1, \"Training S\", \"lp\")\n",
    "lg.AddEntry(h2, \"Testing S\", \"l\")\n",
    "lg.AddEntry(h3, \"Training B\", \"lp\")\n",
    "lg.AddEntry(h4, \"Testing B\", \"l\")\n",
    "lg.Draw()\n",
    "\n",
    "myc.Draw()\n",
    "myc.SaveAs(\"BDT_cla_test_2.png\")"
   ]
  },
  {
   "cell_type": "markdown",
   "id": "underlying-albuquerque",
   "metadata": {},
   "source": [
    "ANN MLP"
   ]
  },
  {
   "cell_type": "code",
   "execution_count": 19,
   "id": "celtic-thousand",
   "metadata": {
    "collapsed": false,
    "execution": {
     "iopub.execute_input": "2021-05-11T09:30:01.951479Z",
     "iopub.status.busy": "2021-05-11T09:30:01.951090Z",
     "iopub.status.idle": "2021-05-11T09:30:02.061178Z",
     "shell.execute_reply": "2021-05-11T09:30:02.062002Z"
    }
   },
   "outputs": [],
   "source": [
    "h1 = norm_hists(h_train[4])\n",
    "h1.GetXaxis().SetTitle(\"MLP\")\n",
    "h1.GetYaxis().SetTitle(\"A.U.\")\n",
    "h1.Draw()\n",
    "h2 = norm_hists(h_test[4])\n",
    "h2.Draw(\"same hist\")\n",
    "h3 = norm_hists(h_train[5])\n",
    "h3.SetLineColor(2)\n",
    "h3.SetMarkerColor(2)\n",
    "h3.Draw(\"same\")\n",
    "h4 = norm_hists(h_test[5])\n",
    "h4.SetLineColor(2)\n",
    "h4.SetMarkerColor(2)\n",
    "h4.Draw(\"same hist\")\n",
    "\n",
    "ymin = 0\n",
    "ymax = max(h1.GetMaximum(), h2.GetMaximum(), h3.GetMaximum(), h4.GetMaximum())\n",
    "h1.GetYaxis().SetRangeUser(ymin, ymax*1.2)"
   ]
  },
  {
   "cell_type": "markdown",
   "id": "right-thong",
   "metadata": {},
   "source": [
    "Draw legends"
   ]
  },
  {
   "cell_type": "code",
   "execution_count": 20,
   "id": "quiet-elimination",
   "metadata": {
    "collapsed": false,
    "execution": {
     "iopub.execute_input": "2021-05-11T09:30:02.112404Z",
     "iopub.status.busy": "2021-05-11T09:30:02.111938Z",
     "iopub.status.idle": "2021-05-11T09:30:02.267167Z",
     "shell.execute_reply": "2021-05-11T09:30:02.267632Z"
    }
   },
   "outputs": [
    {
     "name": "stderr",
     "output_type": "stream",
     "text": [
      "Info in <TCanvas::Print>: png file BDT_cla_test_3.png has been created\n"
     ]
    },
    {
     "data": {
      "image/png": "[encoded data removed]",
      "text/plain": [
       "<IPython.core.display.Image object>"
      ]
     },
     "metadata": {},
     "output_type": "display_data"
    }
   ],
   "source": [
    "lIy = 0.92\n",
    "lg = TLegend(0.60, lIy-0.25, 0.85, lIy)\n",
    "lg.SetBorderSize(0)\n",
    "lg.SetFillStyle(0)\n",
    "lg.SetTextFont(42)\n",
    "lg.SetTextSize(0.04)\n",
    "lg.AddEntry(h1, \"Training S\", \"lp\")\n",
    "lg.AddEntry(h2, \"Testing S\", \"l\")\n",
    "lg.AddEntry(h3, \"Training B\", \"lp\")\n",
    "lg.AddEntry(h4, \"Testing B\", \"l\")\n",
    "lg.Draw()\n",
    "\n",
    "myc.Draw()\n",
    "myc.SaveAs(\"BDT_cla_test_3.png\")"
   ]
  },
  {
   "cell_type": "markdown",
   "id": "little-algorithm",
   "metadata": {},
   "source": [
    "Draw all canvases "
   ]
  },
  {
   "cell_type": "code",
   "execution_count": 21,
   "id": "controlling-candy",
   "metadata": {
    "collapsed": false,
    "execution": {
     "iopub.execute_input": "2021-05-11T09:30:02.273764Z",
     "iopub.status.busy": "2021-05-11T09:30:02.273293Z",
     "iopub.status.idle": "2021-05-11T09:30:02.424918Z",
     "shell.execute_reply": "2021-05-11T09:30:02.425262Z"
    }
   },
   "outputs": [
    {
     "data": {
      "image/png": "[encoded data removed]",
      "text/plain": [
       "<IPython.core.display.Image object>"
      ]
     },
     "metadata": {},
     "output_type": "display_data"
    }
   ],
   "source": [
    "from ROOT import gROOT \n",
    "gROOT.GetListOfCanvases().Draw()"
   ]
  }
 ],
 "metadata": {
  "kernelspec": {
   "display_name": "Python 3",
   "language": "python",
   "name": "python3"
  },
  "language_info": {
   "codemirror_mode": {
    "name": "ipython",
    "version": 3
   },
   "file_extension": ".py",
   "mimetype": "text/x-python",
   "name": "python",
   "nbconvert_exporter": "python",
   "pygments_lexer": "ipython3",
   "version": "3.8.8"
  }
 },
 "nbformat": 4,
 "nbformat_minor": 5
}
