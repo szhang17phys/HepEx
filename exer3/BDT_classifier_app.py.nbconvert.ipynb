{
 "cells": [
  {
   "cell_type": "markdown",
   "id": "alternative-premiere",
   "metadata": {},
   "source": [
    "#  B D T_Classifier_App\n",
    "TMVA example, for classification\n",
    " with following objectives:\n",
    " * Apply a BDT with TMVA\n",
    "\n",
    "\n",
    "\n",
    "\n",
    "**Author:** Lailin XU  \n",
    "<i><small>This notebook tutorial was automatically generated with <a href= \"https://github.com/root-project/root/blob/master/documentation/doxygen/converttonotebook.py\">ROOTBOOK-izer</a> from the macro found in the ROOT repository  on Tuesday, May 11, 2021 at 05:34 PM.</small></i>"
   ]
  },
  {
   "cell_type": "code",
   "execution_count": 1,
   "id": "absolute-boundary",
   "metadata": {
    "collapsed": false,
    "execution": {
     "iopub.execute_input": "2021-05-11T09:34:44.741929Z",
     "iopub.status.busy": "2021-05-11T09:34:44.741164Z",
     "iopub.status.idle": "2021-05-11T09:34:45.685976Z",
     "shell.execute_reply": "2021-05-11T09:34:45.686317Z"
    }
   },
   "outputs": [
    {
     "name": "stdout",
     "output_type": "stream",
     "text": [
      "Welcome to JupyROOT 6.22/07\n"
     ]
    }
   ],
   "source": [
    "from ROOT import TMVA, TFile, TTree, TCut, TH1F, TCanvas, gROOT, TLegend\n",
    "from subprocess import call\n",
    "from os.path import isfile\n",
    "from array import array\n",
    " \n",
    "gROOT.SetStyle(\"ATLAS\")"
   ]
  },
  {
   "cell_type": "markdown",
   "id": "anticipated-shark",
   "metadata": {},
   "source": [
    "Setup TMVA"
   ]
  },
  {
   "cell_type": "code",
   "execution_count": 2,
   "id": "nonprofit-progress",
   "metadata": {
    "collapsed": false,
    "execution": {
     "iopub.execute_input": "2021-05-11T09:34:45.698738Z",
     "iopub.status.busy": "2021-05-11T09:34:45.698359Z",
     "iopub.status.idle": "2021-05-11T09:34:45.806276Z",
     "shell.execute_reply": "2021-05-11T09:34:45.806680Z"
    }
   },
   "outputs": [
    {
     "data": {
      "text/plain": [
       "<cppyy.gbl.TMVA.Tools object at 0x14053ac40>"
      ]
     },
     "execution_count": 1,
     "metadata": {},
     "output_type": "execute_result"
    }
   ],
   "source": [
    "TMVA.Tools.Instance()"
   ]
  },
  {
   "cell_type": "markdown",
   "id": "integral-panic",
   "metadata": {},
   "source": [
    "Reader. One reader for each application."
   ]
  },
  {
   "cell_type": "code",
   "execution_count": 3,
   "id": "composed-settlement",
   "metadata": {
    "collapsed": false,
    "execution": {
     "iopub.execute_input": "2021-05-11T09:34:45.833832Z",
     "iopub.status.busy": "2021-05-11T09:34:45.833424Z",
     "iopub.status.idle": "2021-05-11T09:34:45.942167Z",
     "shell.execute_reply": "2021-05-11T09:34:45.942845Z"
    }
   },
   "outputs": [],
   "source": [
    "reader = TMVA.Reader(\"Color:!Silent\")\n",
    "reader_S = TMVA.Reader(\"Color:!Silent\")\n",
    "reader_B = TMVA.Reader(\"Color:!Silent\")\n",
    " "
   ]
  },
  {
   "cell_type": "markdown",
   "id": "surface-continuity",
   "metadata": {},
   "source": [
    "Inputs\n",
    "=============\n",
    "Load data\n",
    "An unknown sample"
   ]
  },
  {
   "cell_type": "code",
   "execution_count": 4,
   "id": "electronic-prisoner",
   "metadata": {
    "collapsed": false,
    "execution": {
     "iopub.execute_input": "2021-05-11T09:34:46.008329Z",
     "iopub.status.busy": "2021-05-11T09:34:46.007980Z",
     "iopub.status.idle": "2021-05-11T09:34:46.112944Z",
     "shell.execute_reply": "2021-05-11T09:34:46.113487Z"
    }
   },
   "outputs": [],
   "source": [
    "trfile = \"real_data_float.root\"\n",
    "if not isfile(trfile):\n",
    "  cmd = \"python convert_tr.py\"\n",
    "  os.system(cmd)\n",
    "data = TFile.Open(trfile)\n",
    "tree = data.Get('data')"
   ]
  },
  {
   "cell_type": "markdown",
   "id": "private-referral",
   "metadata": {},
   "source": [
    "Known signal\n",
    "trfile_S = \"class_data.root\""
   ]
  },
  {
   "cell_type": "code",
   "execution_count": 5,
   "id": "south-conducting",
   "metadata": {
    "collapsed": false,
    "execution": {
     "iopub.execute_input": "2021-05-11T09:34:46.118610Z",
     "iopub.status.busy": "2021-05-11T09:34:46.118043Z",
     "iopub.status.idle": "2021-05-11T09:34:46.229636Z",
     "shell.execute_reply": "2021-05-11T09:34:46.230348Z"
    }
   },
   "outputs": [],
   "source": [
    "trfile_S = \"class_data_float.root\"\n",
    "data_S = TFile.Open(trfile_S)\n",
    "tree_S = data_S.Get('signal;1')"
   ]
  },
  {
   "cell_type": "markdown",
   "id": "friendly-violin",
   "metadata": {},
   "source": [
    "Known background"
   ]
  },
  {
   "cell_type": "code",
   "execution_count": 6,
   "id": "postal-closing",
   "metadata": {
    "collapsed": false,
    "execution": {
     "iopub.execute_input": "2021-05-11T09:34:46.237560Z",
     "iopub.status.busy": "2021-05-11T09:34:46.236622Z",
     "iopub.status.idle": "2021-05-11T09:34:46.347530Z",
     "shell.execute_reply": "2021-05-11T09:34:46.348581Z"
    }
   },
   "outputs": [],
   "source": [
    "tree_B = data_S.Get('background;1')\n",
    " "
   ]
  },
  {
   "cell_type": "markdown",
   "id": "corresponding-disease",
   "metadata": {},
   "source": [
    "Set input variables. Do this for each reader"
   ]
  },
  {
   "cell_type": "code",
   "execution_count": 7,
   "id": "otherwise-divorce",
   "metadata": {
    "collapsed": false,
    "execution": {
     "iopub.execute_input": "2021-05-11T09:34:46.378687Z",
     "iopub.status.busy": "2021-05-11T09:34:46.378036Z",
     "iopub.status.idle": "2021-05-11T09:34:46.487565Z",
     "shell.execute_reply": "2021-05-11T09:34:46.488238Z"
    }
   },
   "outputs": [],
   "source": [
    "branches = {}\n",
    "for branch in tree.GetListOfBranches():\n",
    "    branchName = branch.GetName()\n",
    "    branches[branchName] = array('f', [-999])\n",
    "    tree.SetBranchAddress(branchName, branches[branchName])\n",
    "    reader.AddVariable(branchName, branches[branchName])\n",
    "\n",
    "branches_S = {}\n",
    "for branch in tree_S.GetListOfBranches():\n",
    "    branchName = branch.GetName()\n",
    "    branches_S[branchName] = array('f', [-999])\n",
    "    tree_S.SetBranchAddress(branchName, branches_S[branchName])\n",
    "    reader_S.AddVariable(branchName, branches_S[branchName])\n",
    "\n",
    "branches_B = {}\n",
    "for branch in tree_B.GetListOfBranches():\n",
    "    branchName = branch.GetName()\n",
    "    branches_B[branchName] = array('f', [-999])\n",
    "    tree_B.SetBranchAddress(branchName, branches_B[branchName])\n",
    "    reader_B.AddVariable(branchName, branches_B[branchName])\n",
    " "
   ]
  },
  {
   "cell_type": "markdown",
   "id": "effective-alaska",
   "metadata": {},
   "source": [
    "Book method(s)\n",
    "=============\n",
    "BDT"
   ]
  },
  {
   "cell_type": "code",
   "execution_count": 8,
   "id": "friendly-local",
   "metadata": {
    "collapsed": false,
    "execution": {
     "iopub.execute_input": "2021-05-11T09:34:46.570437Z",
     "iopub.status.busy": "2021-05-11T09:34:46.570052Z",
     "iopub.status.idle": "2021-05-11T09:34:46.678082Z",
     "shell.execute_reply": "2021-05-11T09:34:46.678605Z"
    }
   },
   "outputs": [
    {
     "data": {
      "text/plain": [
       "<cppyy.gbl.TMVA.MethodBDT object at 0x1408ca200>"
      ]
     },
     "execution_count": 1,
     "metadata": {},
     "output_type": "execute_result"
    },
    {
     "name": "stdout",
     "output_type": "stream",
     "text": [
      "                         : Booking \"BDT\" of type \"BDT\" from dataset/weights/TMVAClassification_BDT.weights.xml.\n",
      "                         : Reading weight file: \u001b[0;36mdataset/weights/TMVAClassification_BDT.weights.xml\u001b[0m\n",
      "DataSetInfo              : [Default] : Added class \"Signal\"\n",
      "DataSetInfo              : [Default] : Added class \"Background\"\n",
      "                         : Booked classifier \"BDT\" of type: \"BDT\"\n",
      "                         : Booking \"BDT\" of type \"BDT\" from dataset/weights/TMVAClassification_BDT.weights.xml.\n",
      "                         : Reading weight file: \u001b[0;36mdataset/weights/TMVAClassification_BDT.weights.xml\u001b[0m\n",
      "DataSetInfo              : [Default] : Added class \"Signal\"\n",
      "DataSetInfo              : [Default] : Added class \"Background\"\n",
      "                         : Booked classifier \"BDT\" of type: \"BDT\"\n",
      "                         : Booking \"BDT\" of type \"BDT\" from dataset/weights/TMVAClassification_BDT.weights.xml.\n",
      "                         : Reading weight file: \u001b[0;36mdataset/weights/TMVAClassification_BDT.weights.xml\u001b[0m\n",
      "DataSetInfo              : [Default] : Added class \"Signal\"\n",
      "DataSetInfo              : [Default] : Added class \"Background\"\n",
      "                         : Booked classifier \"BDT\" of type: \"BDT\"\n"
     ]
    }
   ],
   "source": [
    "methodName1 = \"BDT\"\n",
    "weightfile = 'dataset/weights/TMVAClassification_{0}.weights.xml'.format(methodName1)\n",
    "reader.BookMVA( methodName1, weightfile )\n",
    "reader_S.BookMVA( methodName1, weightfile )\n",
    "reader_B.BookMVA( methodName1, weightfile )"
   ]
  },
  {
   "cell_type": "markdown",
   "id": "private-token",
   "metadata": {},
   "source": [
    "BDTG"
   ]
  },
  {
   "cell_type": "code",
   "execution_count": 9,
   "id": "passing-tennessee",
   "metadata": {
    "collapsed": false,
    "execution": {
     "iopub.execute_input": "2021-05-11T09:34:46.809849Z",
     "iopub.status.busy": "2021-05-11T09:34:46.809527Z",
     "iopub.status.idle": "2021-05-11T09:34:46.917359Z",
     "shell.execute_reply": "2021-05-11T09:34:46.917829Z"
    }
   },
   "outputs": [
    {
     "data": {
      "text/plain": [
       "<cppyy.gbl.TMVA.MethodBDT object at 0x140985400>"
      ]
     },
     "execution_count": 1,
     "metadata": {},
     "output_type": "execute_result"
    },
    {
     "name": "stdout",
     "output_type": "stream",
     "text": [
      "                         : Booking \"BDTG\" of type \"BDT\" from dataset/weights/TMVAClassification_BDTG.weights.xml.\n",
      "                         : Reading weight file: \u001b[0;36mdataset/weights/TMVAClassification_BDTG.weights.xml\u001b[0m\n",
      "                         : Booked classifier \"BDTG\" of type: \"BDT\"\n",
      "                         : Booking \"BDTG\" of type \"BDT\" from dataset/weights/TMVAClassification_BDTG.weights.xml.\n",
      "                         : Reading weight file: \u001b[0;36mdataset/weights/TMVAClassification_BDTG.weights.xml\u001b[0m\n",
      "                         : Booked classifier \"BDTG\" of type: \"BDT\"\n",
      "                         : Booking \"BDTG\" of type \"BDT\" from dataset/weights/TMVAClassification_BDTG.weights.xml.\n",
      "                         : Reading weight file: \u001b[0;36mdataset/weights/TMVAClassification_BDTG.weights.xml\u001b[0m\n",
      "                         : Booked classifier \"BDTG\" of type: \"BDT\"\n"
     ]
    }
   ],
   "source": [
    "methodName2 = \"BDTG\"\n",
    "weightfile = 'dataset/weights/TMVAClassification_{0}.weights.xml'.format(methodName2)\n",
    "reader.BookMVA( methodName2, weightfile )\n",
    "reader_S.BookMVA( methodName2, weightfile )\n",
    "reader_B.BookMVA( methodName2, weightfile )"
   ]
  },
  {
   "cell_type": "markdown",
   "id": "conceptual-statement",
   "metadata": {},
   "source": [
    "MLP"
   ]
  },
  {
   "cell_type": "code",
   "execution_count": 10,
   "id": "downtown-nature",
   "metadata": {
    "collapsed": false,
    "execution": {
     "iopub.execute_input": "2021-05-11T09:34:46.946785Z",
     "iopub.status.busy": "2021-05-11T09:34:46.946336Z",
     "iopub.status.idle": "2021-05-11T09:34:47.054504Z",
     "shell.execute_reply": "2021-05-11T09:34:47.055234Z"
    }
   },
   "outputs": [
    {
     "data": {
      "text/plain": [
       "<cppyy.gbl.TMVA.MethodMLP object at 0x140909a00>"
      ]
     },
     "execution_count": 1,
     "metadata": {},
     "output_type": "execute_result"
    },
    {
     "name": "stdout",
     "output_type": "stream",
     "text": [
      "                         : Booking \"MLP\" of type \"MLP\" from dataset/weights/TMVAClassification_MLP.weights.xml.\n",
      "                         : Reading weight file: \u001b[0;36mdataset/weights/TMVAClassification_MLP.weights.xml\u001b[0m\n",
      "MLP                      : Building Network. \n",
      "                         : Initializing weights\n",
      "                         : Booked classifier \"MLP\" of type: \"MLP\"\n",
      "                         : Booking \"MLP\" of type \"MLP\" from dataset/weights/TMVAClassification_MLP.weights.xml.\n",
      "                         : Reading weight file: \u001b[0;36mdataset/weights/TMVAClassification_MLP.weights.xml\u001b[0m\n",
      "MLP                      : Building Network. \n",
      "                         : Initializing weights\n",
      "                         : Booked classifier \"MLP\" of type: \"MLP\"\n",
      "                         : Booking \"MLP\" of type \"MLP\" from dataset/weights/TMVAClassification_MLP.weights.xml.\n",
      "                         : Reading weight file: \u001b[0;36mdataset/weights/TMVAClassification_MLP.weights.xml\u001b[0m\n",
      "MLP                      : Building Network. \n",
      "                         : Initializing weights\n",
      "                         : Booked classifier \"MLP\" of type: \"MLP\"\n"
     ]
    }
   ],
   "source": [
    "methodName3 = \"MLP\"\n",
    "weightfile = 'dataset/weights/TMVAClassification_{0}.weights.xml'.format(methodName3)\n",
    "reader.BookMVA( methodName3, weightfile )\n",
    "reader_S.BookMVA( methodName3, weightfile )\n",
    "reader_B.BookMVA( methodName3, weightfile )"
   ]
  },
  {
   "cell_type": "markdown",
   "id": "olive-trademark",
   "metadata": {},
   "source": [
    "Loop events for evaluation\n",
    "================"
   ]
  },
  {
   "cell_type": "markdown",
   "id": "roman-nightmare",
   "metadata": {},
   "source": [
    "Book histograms"
   ]
  },
  {
   "cell_type": "code",
   "execution_count": 11,
   "id": "orange-diary",
   "metadata": {
    "collapsed": false,
    "execution": {
     "iopub.execute_input": "2021-05-11T09:34:47.059593Z",
     "iopub.status.busy": "2021-05-11T09:34:47.058884Z",
     "iopub.status.idle": "2021-05-11T09:34:47.169756Z",
     "shell.execute_reply": "2021-05-11T09:34:47.170614Z"
    }
   },
   "outputs": [],
   "source": [
    "nbins, xmin, xmax=20, -1, 1"
   ]
  },
  {
   "cell_type": "markdown",
   "id": "indonesian-remainder",
   "metadata": {},
   "source": [
    "Signal"
   ]
  },
  {
   "cell_type": "code",
   "execution_count": 12,
   "id": "prerequisite-third",
   "metadata": {
    "collapsed": false,
    "execution": {
     "iopub.execute_input": "2021-05-11T09:34:47.266306Z",
     "iopub.status.busy": "2021-05-11T09:34:47.216524Z",
     "iopub.status.idle": "2021-05-11T09:35:10.011872Z",
     "shell.execute_reply": "2021-05-11T09:35:10.012275Z"
    }
   },
   "outputs": [],
   "source": [
    "tag = \"S\"\n",
    "hname=\"BDT_{0}\".format(tag)\n",
    "h1 = TH1F(hname, hname, nbins, xmin, xmax)\n",
    "h1.Sumw2()\n",
    "hname=\"BDTG_{0}\".format(tag)\n",
    "h2 = TH1F(hname, hname, nbins, xmin, xmax)\n",
    "h2.Sumw2()\n",
    "nbins, xmin, xmax=20, 0, 1\n",
    "hname=\"MLP_{0}\".format(tag)\n",
    "h7 = TH1F(hname, hname, nbins, xmin, xmax)\n",
    "h7.Sumw2()\n",
    "\n",
    "nevents = tree_S.GetEntries()\n",
    "for i in range(nevents):\n",
    "  tree_S.GetEntry(i)\n",
    "\n",
    "  BDT = reader_S.EvaluateMVA(methodName1)\n",
    "  BDTG = reader_S.EvaluateMVA(methodName2)\n",
    "  MLP = reader_S.EvaluateMVA(methodName3)\n",
    "  h1.Fill(BDT)\n",
    "  h2.Fill(BDTG)\n",
    "  h7.Fill(MLP)"
   ]
  },
  {
   "cell_type": "markdown",
   "id": "flying-serum",
   "metadata": {},
   "source": [
    "Background"
   ]
  },
  {
   "cell_type": "code",
   "execution_count": 13,
   "id": "bronze-religious",
   "metadata": {
    "collapsed": false,
    "execution": {
     "iopub.execute_input": "2021-05-11T09:35:10.127071Z",
     "iopub.status.busy": "2021-05-11T09:35:10.076877Z",
     "iopub.status.idle": "2021-05-11T09:35:35.113459Z",
     "shell.execute_reply": "2021-05-11T09:35:35.113953Z"
    }
   },
   "outputs": [],
   "source": [
    "nbins, xmin, xmax=20, -1, 1\n",
    "tag = \"B\"\n",
    "hname=\"BDT_{0}\".format(tag)\n",
    "h3 = TH1F(hname, hname, nbins, xmin, xmax)\n",
    "h3.Sumw2()\n",
    "hname=\"BDTG_{0}\".format(tag)\n",
    "h4 = TH1F(hname, hname, nbins, xmin, xmax)\n",
    "h4.Sumw2()\n",
    "nbins, xmin, xmax=20, 0, 1\n",
    "hname=\"MLP_{0}\".format(tag)\n",
    "h8 = TH1F(hname, hname, nbins, xmin, xmax)\n",
    "h8.Sumw2()\n",
    "\n",
    "nevents = tree_B.GetEntries()\n",
    "for i in range(nevents):\n",
    "  tree_B.GetEntry(i)\n",
    "\n",
    "  BDT = reader_B.EvaluateMVA(methodName1)\n",
    "  BDTG = reader_B.EvaluateMVA(methodName2)\n",
    "  MLP = reader_B.EvaluateMVA(methodName3)\n",
    "  h3.Fill(BDT)\n",
    "  h4.Fill(BDTG)\n",
    "  h8.Fill(MLP)"
   ]
  },
  {
   "cell_type": "markdown",
   "id": "personal-theater",
   "metadata": {},
   "source": [
    "New sample"
   ]
  },
  {
   "cell_type": "code",
   "execution_count": 14,
   "id": "productive-criminal",
   "metadata": {
    "collapsed": false,
    "execution": {
     "iopub.execute_input": "2021-05-11T09:35:35.222678Z",
     "iopub.status.busy": "2021-05-11T09:35:35.159879Z",
     "iopub.status.idle": "2021-05-11T09:35:35.465940Z",
     "shell.execute_reply": "2021-05-11T09:35:35.466374Z"
    }
   },
   "outputs": [],
   "source": [
    "nbins, xmin, xmax=20, -1, 1\n",
    "tag = \"N\"\n",
    "hname=\"BDT_{0}\".format(tag)\n",
    "h5 = TH1F(hname, hname, nbins, xmin, xmax)\n",
    "h5.Sumw2()\n",
    "hname=\"BDTG_{0}\".format(tag)\n",
    "h6 = TH1F(hname, hname, nbins, xmin, xmax)\n",
    "h6.Sumw2()\n",
    "nbins, xmin, xmax=20, 0, 1\n",
    "hname=\"MLP_{0}\".format(tag)\n",
    "h9 = TH1F(hname, hname, nbins, xmin, xmax)\n",
    "h9.Sumw2()\n",
    "\n",
    "nevents = tree.GetEntries()\n",
    "ntot = 0\n",
    "l_ns = [0]*3\n",
    "for i in range(nevents):\n",
    "  tree.GetEntry(i)\n",
    "\n",
    "  BDT = reader.EvaluateMVA(methodName1)\n",
    "  BDTG = reader.EvaluateMVA(methodName2)\n",
    "  MLP = reader.EvaluateMVA(methodName3)\n",
    "  h5.Fill(BDT)\n",
    "  h6.Fill(BDTG)\n",
    "  h9.Fill(MLP)\n",
    "\n",
    "  # apply a cut to classify the event as a signal\n",
    "  ntot +=1\n",
    "  if BDT >0: l_ns[0] += 1\n",
    "  if BDTG >0: l_ns[1] += 1\n",
    "  if MLP>0.5: l_ns[2] += 1"
   ]
  },
  {
   "cell_type": "markdown",
   "id": "laden-longitude",
   "metadata": {},
   "source": [
    "Helper function to normalize hists"
   ]
  },
  {
   "cell_type": "code",
   "execution_count": 15,
   "id": "unexpected-subject",
   "metadata": {
    "collapsed": false,
    "execution": {
     "iopub.execute_input": "2021-05-11T09:35:35.470514Z",
     "iopub.status.busy": "2021-05-11T09:35:35.470026Z",
     "iopub.status.idle": "2021-05-11T09:35:35.576448Z",
     "shell.execute_reply": "2021-05-11T09:35:35.577022Z"
    }
   },
   "outputs": [],
   "source": [
    "def norm_hists(h):\n",
    "\n",
    "  h_new = h.Clone()\n",
    "  hname = h.GetName() + \"_normalized\"\n",
    "  h_new.SetName(hname)\n",
    "  h_new.SetTitle(hname)\n",
    "  ntot = h.Integral()\n",
    "  if ntot!=0:\n",
    "    h_new.Scale(1./ntot)\n",
    "\n",
    "  return h_new"
   ]
  },
  {
   "cell_type": "markdown",
   "id": "dominant-midnight",
   "metadata": {},
   "source": [
    "Plotting"
   ]
  },
  {
   "cell_type": "code",
   "execution_count": 16,
   "id": "laden-grave",
   "metadata": {
    "collapsed": false,
    "execution": {
     "iopub.execute_input": "2021-05-11T09:35:35.601787Z",
     "iopub.status.busy": "2021-05-11T09:35:35.600809Z",
     "iopub.status.idle": "2021-05-11T09:35:35.722284Z",
     "shell.execute_reply": "2021-05-11T09:35:35.723129Z"
    }
   },
   "outputs": [
    {
     "data": {
      "text/plain": [
       "<cppyy.gbl.TCanvas object at 0x106113440>"
      ]
     },
     "execution_count": 1,
     "metadata": {},
     "output_type": "execute_result"
    }
   ],
   "source": [
    "myc = TCanvas(\"c\", \"c\", 800, 600)\n",
    "myc.SetFillColor(0)\n",
    "myc.cd()"
   ]
  },
  {
   "cell_type": "markdown",
   "id": "valid-community",
   "metadata": {},
   "source": [
    "Compare the performance for BDT"
   ]
  },
  {
   "cell_type": "code",
   "execution_count": 17,
   "id": "overhead-halloween",
   "metadata": {
    "collapsed": false,
    "execution": {
     "iopub.execute_input": "2021-05-11T09:35:35.759096Z",
     "iopub.status.busy": "2021-05-11T09:35:35.758527Z",
     "iopub.status.idle": "2021-05-11T09:35:35.870698Z",
     "shell.execute_reply": "2021-05-11T09:35:35.869657Z"
    }
   },
   "outputs": [],
   "source": [
    "nh1 = norm_hists(h1)\n",
    "nh1.GetXaxis().SetTitle(\"BDT\")\n",
    "nh1.GetYaxis().SetTitle(\"A.U.\")\n",
    "nh1.Draw(\"hist\")\n",
    "nh3 = norm_hists(h3)\n",
    "nh3.SetLineColor(2)\n",
    "nh3.SetMarkerColor(2)\n",
    "nh3.Draw(\"same hist\")\n",
    "nh5 = norm_hists(h5)\n",
    "nh5.SetLineColor(4)\n",
    "nh5.SetMarkerColor(4)\n",
    "nh5.Draw(\"same\")\n",
    "\n",
    "ymin = 0\n",
    "ymax = max(nh1.GetMaximum(), nh3.GetMaximum(), nh5.GetMaximum())\n",
    "nh1.GetYaxis().SetRangeUser(ymin, ymax*1.5)"
   ]
  },
  {
   "cell_type": "markdown",
   "id": "nearby-employment",
   "metadata": {},
   "source": [
    "Draw legends"
   ]
  },
  {
   "cell_type": "code",
   "execution_count": 18,
   "id": "insured-spice",
   "metadata": {
    "collapsed": false,
    "execution": {
     "iopub.execute_input": "2021-05-11T09:35:35.977214Z",
     "iopub.status.busy": "2021-05-11T09:35:35.976896Z",
     "iopub.status.idle": "2021-05-11T09:35:36.128067Z",
     "shell.execute_reply": "2021-05-11T09:35:36.128286Z"
    }
   },
   "outputs": [
    {
     "name": "stderr",
     "output_type": "stream",
     "text": [
      "Info in <TCanvas::Print>: png file BDT_cla_app_1.png has been created\n"
     ]
    },
    {
     "data": {
      "image/png": "[encoded data removed]",
      "text/plain": [
       "<IPython.core.display.Image object>"
      ]
     },
     "metadata": {},
     "output_type": "display_data"
    }
   ],
   "source": [
    "lIy = 0.92\n",
    "lg = TLegend(0.60, lIy-0.25, 0.85, lIy)\n",
    "lg.SetBorderSize(0)\n",
    "lg.SetFillStyle(0)\n",
    "lg.SetTextFont(42)\n",
    "lg.SetTextSize(0.04)\n",
    "lg.AddEntry(nh1, \"Signal\", \"l\")\n",
    "lg.AddEntry(nh3, \"Background\", \"l\")\n",
    "lg.AddEntry(nh5, \"Data\", \"l\")\n",
    "lg.Draw()\n",
    "\n",
    "myc.Draw()\n",
    "myc.SaveAs(\"BDT_cla_app_1.png\")"
   ]
  },
  {
   "cell_type": "markdown",
   "id": "artistic-barbados",
   "metadata": {},
   "source": [
    "Compare the performance for BDTG"
   ]
  },
  {
   "cell_type": "code",
   "execution_count": 19,
   "id": "enabling-harbor",
   "metadata": {
    "collapsed": false,
    "execution": {
     "iopub.execute_input": "2021-05-11T09:35:36.131229Z",
     "iopub.status.busy": "2021-05-11T09:35:36.130928Z",
     "iopub.status.idle": "2021-05-11T09:35:36.238419Z",
     "shell.execute_reply": "2021-05-11T09:35:36.238835Z"
    }
   },
   "outputs": [],
   "source": [
    "nh1 = norm_hists(h2)\n",
    "nh1.GetXaxis().SetTitle(\"BDTG\")\n",
    "nh1.GetYaxis().SetTitle(\"A.U.\")\n",
    "nh1.Draw(\"hist\")\n",
    "nh3 = norm_hists(h4)\n",
    "nh3.SetLineColor(2)\n",
    "nh3.SetMarkerColor(2)\n",
    "nh3.Draw(\"same hist\")\n",
    "nh5 = norm_hists(h6)\n",
    "nh5.SetLineColor(4)\n",
    "nh5.SetMarkerColor(4)\n",
    "nh5.Draw(\"same\")\n",
    "\n",
    "ymin = 0\n",
    "ymax = max(nh1.GetMaximum(), nh3.GetMaximum(), nh5.GetMaximum())\n",
    "nh1.GetYaxis().SetRangeUser(ymin, ymax*1.5)"
   ]
  },
  {
   "cell_type": "markdown",
   "id": "suspended-cleveland",
   "metadata": {},
   "source": [
    "Draw legends"
   ]
  },
  {
   "cell_type": "code",
   "execution_count": 20,
   "id": "sapphire-discrimination",
   "metadata": {
    "collapsed": false,
    "execution": {
     "iopub.execute_input": "2021-05-11T09:35:36.273708Z",
     "iopub.status.busy": "2021-05-11T09:35:36.273347Z",
     "iopub.status.idle": "2021-05-11T09:35:36.414237Z",
     "shell.execute_reply": "2021-05-11T09:35:36.414619Z"
    }
   },
   "outputs": [
    {
     "name": "stderr",
     "output_type": "stream",
     "text": [
      "Info in <TCanvas::Print>: png file BDT_cla_app_2.png has been created\n"
     ]
    },
    {
     "data": {
      "image/png": "[encoded data removed]",
      "text/plain": [
       "<IPython.core.display.Image object>"
      ]
     },
     "metadata": {},
     "output_type": "display_data"
    }
   ],
   "source": [
    "lIy = 0.92\n",
    "lg = TLegend(0.60, lIy-0.25, 0.85, lIy)\n",
    "lg.SetBorderSize(0)\n",
    "lg.SetFillStyle(0)\n",
    "lg.SetTextFont(42)\n",
    "lg.SetTextSize(0.04)\n",
    "lg.AddEntry(nh1, \"Signal\", \"l\")\n",
    "lg.AddEntry(nh3, \"Background\", \"l\")\n",
    "lg.AddEntry(nh5, \"Data\", \"l\")\n",
    "lg.Draw()\n",
    "\n",
    "myc.Draw()\n",
    "myc.SaveAs(\"BDT_cla_app_2.png\")"
   ]
  },
  {
   "cell_type": "markdown",
   "id": "unlimited-platinum",
   "metadata": {},
   "source": [
    "Compare the performance for MLP"
   ]
  },
  {
   "cell_type": "code",
   "execution_count": 21,
   "id": "continuous-charge",
   "metadata": {
    "collapsed": false,
    "execution": {
     "iopub.execute_input": "2021-05-11T09:35:36.418250Z",
     "iopub.status.busy": "2021-05-11T09:35:36.417876Z",
     "iopub.status.idle": "2021-05-11T09:35:36.526724Z",
     "shell.execute_reply": "2021-05-11T09:35:36.527387Z"
    }
   },
   "outputs": [],
   "source": [
    "nh1 = norm_hists(h7)\n",
    "nh1.GetXaxis().SetTitle(\"MLP\")\n",
    "nh1.GetYaxis().SetTitle(\"A.U.\")\n",
    "nh1.Draw(\"hist\")\n",
    "nh3 = norm_hists(h8)\n",
    "nh3.SetLineColor(2)\n",
    "nh3.SetMarkerColor(2)\n",
    "nh3.Draw(\"same hist\")\n",
    "nh5 = norm_hists(h9)\n",
    "nh5.SetLineColor(4)\n",
    "nh5.SetMarkerColor(4)\n",
    "nh5.Draw(\"same\")\n",
    "\n",
    "ymin = 0\n",
    "ymax = max(nh1.GetMaximum(), nh3.GetMaximum(), nh5.GetMaximum())\n",
    "nh1.GetYaxis().SetRangeUser(ymin, ymax*1.5)"
   ]
  },
  {
   "cell_type": "markdown",
   "id": "detailed-going",
   "metadata": {},
   "source": [
    "Draw legends"
   ]
  },
  {
   "cell_type": "code",
   "execution_count": 22,
   "id": "surprised-legend",
   "metadata": {
    "collapsed": false,
    "execution": {
     "iopub.execute_input": "2021-05-11T09:35:36.569273Z",
     "iopub.status.busy": "2021-05-11T09:35:36.568815Z",
     "iopub.status.idle": "2021-05-11T09:35:36.728637Z",
     "shell.execute_reply": "2021-05-11T09:35:36.728924Z"
    }
   },
   "outputs": [
    {
     "name": "stderr",
     "output_type": "stream",
     "text": [
      "Info in <TCanvas::Print>: png file BDT_cla_app_3.png has been created\n"
     ]
    },
    {
     "data": {
      "image/png": "[encoded data removed]",
      "text/plain": [
       "<IPython.core.display.Image object>"
      ]
     },
     "metadata": {},
     "output_type": "display_data"
    }
   ],
   "source": [
    "lIy = 0.92\n",
    "lg = TLegend(0.60, lIy-0.25, 0.85, lIy)\n",
    "lg.SetBorderSize(0)\n",
    "lg.SetFillStyle(0)\n",
    "lg.SetTextFont(42)\n",
    "lg.SetTextSize(0.04)\n",
    "lg.AddEntry(nh1, \"Signal\", \"l\")\n",
    "lg.AddEntry(nh3, \"Background\", \"l\")\n",
    "lg.AddEntry(nh5, \"Data\", \"l\")\n",
    "lg.Draw()\n",
    "\n",
    "myc.Draw()\n",
    "myc.SaveAs(\"BDT_cla_app_3.png\")"
   ]
  },
  {
   "cell_type": "markdown",
   "id": "smoking-spain",
   "metadata": {},
   "source": [
    "Classification results\n",
    "======================="
   ]
  },
  {
   "cell_type": "code",
   "execution_count": 23,
   "id": "continent-month",
   "metadata": {
    "collapsed": false,
    "execution": {
     "iopub.execute_input": "2021-05-11T09:35:36.732916Z",
     "iopub.status.busy": "2021-05-11T09:35:36.732484Z",
     "iopub.status.idle": "2021-05-11T09:35:36.839255Z",
     "shell.execute_reply": "2021-05-11T09:35:36.839890Z"
    }
   },
   "outputs": [
    {
     "name": "stdout",
     "output_type": "stream",
     "text": [
      "\n",
      "Test classification: real data \n",
      "Estimated signal events: BDT 1193 / 9100 = 0.1310989010989011\n",
      "Estimated signal events: BDTG 1205 / 9100 = 0.13241758241758242\n",
      "Estimated signal events: MLP 1254 / 9100 = 0.1378021978021978\n"
     ]
    }
   ],
   "source": [
    "print(\"\\nTest classification: real data \")\n",
    "rate_s = [0]*3\n",
    "for i, ns in enumerate(l_ns):\n",
    "  rate_s[i] = ns/float(ntot)\n",
    "\n",
    "print(\"Estimated signal events: BDT {0} / {1} = {2}\".format(l_ns[0], ntot, rate_s[0]))\n",
    "print(\"Estimated signal events: BDTG {0} / {1} = {2}\".format(l_ns[1], ntot, rate_s[1]))\n",
    "print(\"Estimated signal events: MLP {0} / {1} = {2}\".format(l_ns[2], ntot, rate_s[2]))"
   ]
  },
  {
   "cell_type": "markdown",
   "id": "flexible-korean",
   "metadata": {},
   "source": [
    "Draw all canvases "
   ]
  },
  {
   "cell_type": "code",
   "execution_count": 24,
   "id": "quality-opera",
   "metadata": {
    "collapsed": false,
    "execution": {
     "iopub.execute_input": "2021-05-11T09:35:36.847618Z",
     "iopub.status.busy": "2021-05-11T09:35:36.846941Z",
     "iopub.status.idle": "2021-05-11T09:35:37.012753Z",
     "shell.execute_reply": "2021-05-11T09:35:37.013181Z"
    }
   },
   "outputs": [
    {
     "data": {
      "image/png": "[encoded data removed]",
      "text/plain": [
       "<IPython.core.display.Image object>"
      ]
     },
     "metadata": {},
     "output_type": "display_data"
    }
   ],
   "source": [
    "from ROOT import gROOT \n",
    "gROOT.GetListOfCanvases().Draw()"
   ]
  }
 ],
 "metadata": {
  "kernelspec": {
   "display_name": "Python 3",
   "language": "python",
   "name": "python3"
  },
  "language_info": {
   "codemirror_mode": {
    "name": "ipython",
    "version": 3
   },
   "file_extension": ".py",
   "mimetype": "text/x-python",
   "name": "python",
   "nbconvert_exporter": "python",
   "pygments_lexer": "ipython3",
   "version": "3.8.8"
  }
 },
 "nbformat": 4,
 "nbformat_minor": 5
}
