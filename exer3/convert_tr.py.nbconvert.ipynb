{
 "cells": [
  {
   "cell_type": "markdown",
   "id": "stock-referral",
   "metadata": {},
   "source": [
    "# Convert_Tr\n",
    "A simply script to convert tree branches\n",
    "\n",
    "\n",
    "\n",
    "\n",
    "**Author:** Lailin XU  \n",
    "<i><small>This notebook tutorial was automatically generated with <a href= \"https://github.com/root-project/root/blob/master/documentation/doxygen/converttonotebook.py\">ROOTBOOK-izer</a> from the macro found in the ROOT repository  on Monday, May 10, 2021 at 02:11 PM.</small></i>"
   ]
  },
  {
   "cell_type": "code",
   "execution_count": 1,
   "id": "detected-isolation",
   "metadata": {
    "collapsed": false,
    "execution": {
     "iopub.execute_input": "2021-05-10T06:11:17.660892Z",
     "iopub.status.busy": "2021-05-10T06:11:17.660189Z",
     "iopub.status.idle": "2021-05-10T06:11:22.709251Z",
     "shell.execute_reply": "2021-05-10T06:11:22.709434Z"
    }
   },
   "outputs": [
    {
     "name": "stdout",
     "output_type": "stream",
     "text": [
      "Welcome to JupyROOT 6.22/07\n"
     ]
    }
   ],
   "source": [
    "from ROOT import TMVA, TFile, TTree, TCut, TH1F, TCanvas, gROOT, TLegend\n",
    "from array import array\n",
    "\n",
    "\n",
    "def convert(trfile, tr, tr_new):\n",
    "  \"\"\"\n",
    "  convert tree branches Double to Float\n",
    "  \"\"\"\n",
    "\n",
    "  data = TFile.Open(trfile)\n",
    "  tree = data.Get(tr)\n",
    "  \n",
    "  trfile_new = trfile.replace(\".root\", \"_float.root\")\n",
    "  data_new = TFile.Open(trfile_new, \"UPDATE\")\n",
    "  tree_new = TTree(tr_new, tr_new)\n",
    "  \n",
    "  x1 = array('f', [0])\n",
    "  x2 = array('f', [0])\n",
    "  tree_new.Branch(\"X1\", x1, \"X1/F\")\n",
    "  tree_new.Branch(\"X2\", x2, \"X2/F\")\n",
    "\n",
    "\n",
    "  nevents = tree.GetEntries()\n",
    "  for i in range(nevents):\n",
    "    tree.GetEntry(i)\n",
    "    x1[0] = tree.X1\n",
    "    x2[0] = tree.X2\n",
    "  \n",
    "    tree_new.Fill()\n",
    "  \n",
    "  data_new.cd()\n",
    "  tree_new.Write()\n",
    "  data_new.Close()\n",
    "  \n",
    "  data.Close()\n",
    "  \n",
    "  \n",
    "  \n",
    "if __name__ == \"__main__\":\n",
    "\n",
    "  trfile = \"real_data.root\"\n",
    "  convert(trfile, \"data;2\", \"data\")\n",
    "\n",
    "  trfile = \"class_data.root\"\n",
    "  convert(trfile, \"signal;1\", \"signal\")\n",
    "\n",
    "  trfile = \"class_data.root\"\n",
    "  convert(trfile, \"background;1\", \"background\")"
   ]
  },
  {
   "cell_type": "markdown",
   "id": "coordinate-password",
   "metadata": {},
   "source": [
    "Draw all canvases "
   ]
  },
  {
   "cell_type": "code",
   "execution_count": 2,
   "id": "hollow-bookmark",
   "metadata": {
    "collapsed": false,
    "execution": {
     "iopub.execute_input": "2021-05-10T06:11:22.711897Z",
     "iopub.status.busy": "2021-05-10T06:11:22.711594Z",
     "iopub.status.idle": "2021-05-10T06:11:22.818755Z",
     "shell.execute_reply": "2021-05-10T06:11:22.819127Z"
    }
   },
   "outputs": [],
   "source": [
    "from ROOT import gROOT \n",
    "gROOT.GetListOfCanvases().Draw()"
   ]
  }
 ],
 "metadata": {
  "kernelspec": {
   "display_name": "Python 3",
   "language": "python",
   "name": "python3"
  },
  "language_info": {
   "codemirror_mode": {
    "name": "ipython",
    "version": 3
   },
   "file_extension": ".py",
   "mimetype": "text/x-python",
   "name": "python",
   "nbconvert_exporter": "python",
   "pygments_lexer": "ipython3",
   "version": "3.8.8"
  }
 },
 "nbformat": 4,
 "nbformat_minor": 5
}
