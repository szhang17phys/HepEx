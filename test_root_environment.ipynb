{
 "cells": [
  {
   "cell_type": "markdown",
   "id": "f8f49015",
   "metadata": {},
   "source": [
    "# Written by zhang; Jun 6, 2022--\n",
    "## to test: import ROOT as R"
   ]
  },
  {
   "cell_type": "code",
   "execution_count": 2,
   "id": "4b2ef231",
   "metadata": {},
   "outputs": [
    {
     "name": "stdout",
     "output_type": "stream",
     "text": [
      "Welcome to JupyROOT 6.26/00\n"
     ]
    }
   ],
   "source": [
    "import ROOT as R"
   ]
  },
  {
   "cell_type": "markdown",
   "id": "0599d3ed",
   "metadata": {},
   "source": [
    "The above command will work only when the terminal has the root environment (ex; on my computer, I have to \"conda activate cern_root\")"
   ]
  },
  {
   "cell_type": "code",
   "execution_count": null,
   "id": "d7cc9f66",
   "metadata": {},
   "outputs": [],
   "source": []
  }
 ],
 "metadata": {
  "kernelspec": {
   "display_name": "Python 3 (ipykernel)",
   "language": "python",
   "name": "python3"
  },
  "language_info": {
   "codemirror_mode": {
    "name": "ipython",
    "version": 3
   },
   "file_extension": ".py",
   "mimetype": "text/x-python",
   "name": "python",
   "nbconvert_exporter": "python",
   "pygments_lexer": "ipython3",
   "version": "3.10.4"
  }
 },
 "nbformat": 4,
 "nbformat_minor": 5
}
